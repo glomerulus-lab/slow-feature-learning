{
 "cells": [
  {
   "cell_type": "code",
   "execution_count": 130,
   "metadata": {
    "collapsed": true
   },
   "outputs": [],
   "source": [
    "import numpy as np\n",
    "import matplotlib.pyplot as plt"
   ]
  },
  {
   "cell_type": "code",
   "execution_count": 131,
   "outputs": [],
   "source": [
    "from itertools import combinations\n",
    "numbers = range(10) # creates a range of numbers from 0 to 9\n",
    "pairs = list(combinations(numbers, 2)) # creates a list of all unique combinations of pairs"
   ],
   "metadata": {
    "collapsed": false
   }
  },
  {
   "cell_type": "code",
   "execution_count": 132,
   "outputs": [],
   "source": [
    "pairs_str = []\n",
    "for item in pairs:\n",
    "    pairs_str.append(str(item))"
   ],
   "metadata": {
    "collapsed": false
   }
  },
  {
   "cell_type": "code",
   "execution_count": 133,
   "outputs": [],
   "source": [
    "pairs = pairs_str"
   ],
   "metadata": {
    "collapsed": false
   }
  },
  {
   "cell_type": "code",
   "execution_count": 134,
   "outputs": [
    {
     "data": {
      "text/plain": "['(0, 1)',\n '(0, 2)',\n '(0, 3)',\n '(0, 4)',\n '(0, 5)',\n '(0, 6)',\n '(0, 7)',\n '(0, 8)',\n '(0, 9)',\n '(1, 2)',\n '(1, 3)',\n '(1, 4)',\n '(1, 5)',\n '(1, 6)',\n '(1, 7)',\n '(1, 8)',\n '(1, 9)',\n '(2, 3)',\n '(2, 4)',\n '(2, 5)',\n '(2, 6)',\n '(2, 7)',\n '(2, 8)',\n '(2, 9)',\n '(3, 4)',\n '(3, 5)',\n '(3, 6)',\n '(3, 7)',\n '(3, 8)',\n '(3, 9)',\n '(4, 5)',\n '(4, 6)',\n '(4, 7)',\n '(4, 8)',\n '(4, 9)',\n '(5, 6)',\n '(5, 7)',\n '(5, 8)',\n '(5, 9)',\n '(6, 7)',\n '(6, 8)',\n '(6, 9)',\n '(7, 8)',\n '(7, 9)',\n '(8, 9)']"
     },
     "execution_count": 134,
     "metadata": {},
     "output_type": "execute_result"
    }
   ],
   "source": [
    "pairs"
   ],
   "metadata": {
    "collapsed": false
   }
  },
  {
   "cell_type": "code",
   "execution_count": 135,
   "outputs": [],
   "source": [
    "pairs_accuracy = np.zeros(len(pairs))"
   ],
   "metadata": {
    "collapsed": false
   }
  },
  {
   "cell_type": "code",
   "execution_count": 165,
   "outputs": [],
   "source": [
    "# Zeros\n",
    "pairs_accuracy[0] = 0.999\n",
    "pairs_accuracy[1] = 0.999\n",
    "pairs_accuracy[2] = 0.999\n",
    "pairs_accuracy[3] = 0.998\n",
    "pairs_accuracy[4] = 0.999\n",
    "pairs_accuracy[5] = 0.997\n",
    "pairs_accuracy[6] = 0.999\n",
    "pairs_accuracy[7] = 0.999\n",
    "pairs_accuracy[8] = 0.994"
   ],
   "metadata": {
    "collapsed": false
   }
  },
  {
   "cell_type": "code",
   "execution_count": 166,
   "outputs": [],
   "source": [
    "# Ones\n",
    "pairs_accuracy[9] = 0.997\n",
    "pairs_accuracy[10] = 0.996\n",
    "pairs_accuracy[11] = 0.997\n",
    "pairs_accuracy[12] = 0.998\n",
    "pairs_accuracy[13] = 0.999\n",
    "pairs_accuracy[14] = 0.993\n",
    "pairs_accuracy[15] = 0.999\n",
    "pairs_accuracy[16] = 0.998"
   ],
   "metadata": {
    "collapsed": false
   }
  },
  {
   "cell_type": "code",
   "execution_count": 167,
   "outputs": [],
   "source": [
    "# Twos\n",
    "pairs_accuracy[17] = 0.995\n",
    "pairs_accuracy[18] = 0.996\n",
    "pairs_accuracy[19] = 0.994\n",
    "pairs_accuracy[20] = 0.997\n",
    "pairs_accuracy[21] = 0.992\n",
    "pairs_accuracy[22] = 0.998\n",
    "pairs_accuracy[23] = 0.997"
   ],
   "metadata": {
    "collapsed": false
   }
  },
  {
   "cell_type": "code",
   "execution_count": 168,
   "outputs": [],
   "source": [
    "# Threes\n",
    "pairs_accuracy[24] = 0.996\n",
    "pairs_accuracy[25] = 0.997\n",
    "pairs_accuracy[26] = 0.997\n",
    "pairs_accuracy[27] = 0.995\n",
    "pairs_accuracy[28] = 0.998\n",
    "pairs_accuracy[29] = 0.997"
   ],
   "metadata": {
    "collapsed": false
   }
  },
  {
   "cell_type": "code",
   "execution_count": 169,
   "outputs": [],
   "source": [
    "# Fours\n",
    "pairs_accuracy[30] = 0.997\n",
    "pairs_accuracy[31] = 0.997\n",
    "pairs_accuracy[32] = 0.998\n",
    "pairs_accuracy[33] = 0.997\n",
    "pairs_accuracy[34] = 0.997"
   ],
   "metadata": {
    "collapsed": false
   }
  },
  {
   "cell_type": "code",
   "execution_count": 170,
   "outputs": [],
   "source": [
    "# Five\n",
    "pairs_accuracy[35] = 0.995\n",
    "pairs_accuracy[36] = 0.997\n",
    "pairs_accuracy[37] = 0.998\n",
    "pairs_accuracy[38] = 0.998"
   ],
   "metadata": {
    "collapsed": false
   }
  },
  {
   "cell_type": "code",
   "execution_count": 171,
   "outputs": [],
   "source": [
    "# Sixes\n",
    "pairs_accuracy[39] = 0.997\n",
    "pairs_accuracy[40] = 0.997\n",
    "pairs_accuracy[41] = 0.998"
   ],
   "metadata": {
    "collapsed": false
   }
  },
  {
   "cell_type": "code",
   "execution_count": 172,
   "outputs": [],
   "source": [
    "# Sevens\n",
    "pairs_accuracy[42] = 0.998\n",
    "pairs_accuracy[43] = 0.998"
   ],
   "metadata": {
    "collapsed": false
   }
  },
  {
   "cell_type": "code",
   "execution_count": 173,
   "outputs": [],
   "source": [
    "# Eights\n",
    "pairs_accuracy[44] = 0.997"
   ],
   "metadata": {
    "collapsed": false
   }
  },
  {
   "cell_type": "code",
   "execution_count": 174,
   "outputs": [
    {
     "data": {
      "text/plain": "array([0.999, 0.999, 0.999, 0.998, 0.999, 0.997, 0.999, 0.999, 0.994,\n       0.997, 0.996, 0.997, 0.998, 0.999, 0.993, 0.999, 0.998, 0.995,\n       0.996, 0.994, 0.997, 0.992, 0.998, 0.997, 0.996, 0.997, 0.997,\n       0.995, 0.998, 0.997, 0.997, 0.997, 0.998, 0.997, 0.997, 0.995,\n       0.997, 0.998, 0.998, 0.997, 0.997, 0.998, 0.998, 0.998, 0.997])"
     },
     "execution_count": 174,
     "metadata": {},
     "output_type": "execute_result"
    }
   ],
   "source": [
    "pairs_accuracy"
   ],
   "metadata": {
    "collapsed": false
   }
  },
  {
   "cell_type": "code",
   "execution_count": 177,
   "outputs": [
    {
     "data": {
      "text/plain": "Text(0.5, 1.0, 'Accuracy of Pairs (learning rate 0.1 0.01)')"
     },
     "execution_count": 177,
     "metadata": {},
     "output_type": "execute_result"
    },
    {
     "data": {
      "text/plain": "<Figure size 2160x720 with 1 Axes>",
      "image/png": "[encoded data removed]"
     },
     "metadata": {
      "needs_background": "light"
     },
     "output_type": "display_data"
    }
   ],
   "source": [
    "plt.figure(figsize=(30,10))\n",
    "plt.bar(pairs, pairs_accuracy)\n",
    "plt.xlabel('Pairs')\n",
    "plt.ylabel('Accuracy')\n",
    "plt.ylim(0.990,1)\n",
    "plt.title(\"Accuracy of Pairs (learning rate 0.1 0.01)\")"
   ],
   "metadata": {
    "collapsed": false
   }
  },
  {
   "cell_type": "code",
   "execution_count": 158,
   "outputs": [
    {
     "data": {
      "text/plain": "(45, 45)"
     },
     "execution_count": 158,
     "metadata": {},
     "output_type": "execute_result"
    }
   ],
   "source": [
    "(len(pairs), len(pairs_accuracy))"
   ],
   "metadata": {
    "collapsed": false
   }
  },
  {
   "cell_type": "code",
   "execution_count": 148,
   "outputs": [
    {
     "data": {
      "text/plain": "<Figure size 432x288 with 1 Axes>",
      "image/png": "[encoded data removed]"
     },
     "metadata": {
      "needs_background": "light"
     },
     "output_type": "display_data"
    }
   ],
   "source": [
    "# Sample data\n",
    "names = ['John', 'Emily', 'Jack', 'Mia']\n",
    "values = np.array([10, 25, 15, 20])\n",
    "\n",
    "# Create bar chart\n",
    "fig, ax = plt.subplots()\n",
    "ax.bar(names, values)\n",
    "\n",
    "# Add labels and title\n",
    "ax.set_xlabel('Names')\n",
    "ax.set_ylabel('Values')\n",
    "ax.set_title('Bar Chart')\n",
    "\n",
    "# Display the chart\n",
    "plt.show()"
   ],
   "metadata": {
    "collapsed": false
   }
  },
  {
   "cell_type": "code",
   "execution_count": 149,
   "outputs": [
    {
     "name": "stdout",
     "output_type": "stream",
     "text": [
      "[10 25 15 20]\n"
     ]
    }
   ],
   "source": [
    "values = np.array([10, 25, 15, 20])\n",
    "print(values)"
   ],
   "metadata": {
    "collapsed": false
   }
  },
  {
   "cell_type": "code",
   "execution_count": 150,
   "outputs": [
    {
     "data": {
      "text/plain": "['John', 'Emily', 'Jack', 'Mia']"
     },
     "execution_count": 150,
     "metadata": {},
     "output_type": "execute_result"
    }
   ],
   "source": [
    "names"
   ],
   "metadata": {
    "collapsed": false
   }
  },
  {
   "cell_type": "code",
   "execution_count": 151,
   "outputs": [
    {
     "name": "stdout",
     "output_type": "stream",
     "text": [
      "[0.999 0.999 0.999 0.999 0.999 0.999 0.999 0.999 0.994 0.997 0.996 0.997\n",
      " 0.998 0.999 0.993 0.999 0.998 0.995 0.996 0.994 0.997 0.992 0.998 0.997\n",
      " 0.996 0.997 0.997 0.995 0.998 0.997 0.997 0.997 0.998 0.997 0.997 0.995\n",
      " 0.997 0.998 0.998 0.997 0.997 0.998 0.998 0.998 0.997]\n"
     ]
    }
   ],
   "source": [
    "print(pairs_accuracy)"
   ],
   "metadata": {
    "collapsed": false
   }
  },
  {
   "cell_type": "code",
   "execution_count": 152,
   "outputs": [
    {
     "name": "stdout",
     "output_type": "stream",
     "text": [
      "['(0, 1)', '(0, 2)', '(0, 3)', '(0, 4)', '(0, 5)', '(0, 6)', '(0, 7)', '(0, 8)', '(0, 9)', '(1, 2)', '(1, 3)', '(1, 4)', '(1, 5)', '(1, 6)', '(1, 7)', '(1, 8)', '(1, 9)', '(2, 3)', '(2, 4)', '(2, 5)', '(2, 6)', '(2, 7)', '(2, 8)', '(2, 9)', '(3, 4)', '(3, 5)', '(3, 6)', '(3, 7)', '(3, 8)', '(3, 9)', '(4, 5)', '(4, 6)', '(4, 7)', '(4, 8)', '(4, 9)', '(5, 6)', '(5, 7)', '(5, 8)', '(5, 9)', '(6, 7)', '(6, 8)', '(6, 9)', '(7, 8)', '(7, 9)', '(8, 9)']\n"
     ]
    }
   ],
   "source": [
    "print(pairs)"
   ],
   "metadata": {
    "collapsed": false
   }
  },
  {
   "cell_type": "code",
   "execution_count": 152,
   "outputs": [],
   "source": [],
   "metadata": {
    "collapsed": false
   }
  }
 ],
 "metadata": {
  "kernelspec": {
   "name": "slow-feature-learning",
   "language": "python",
   "display_name": "slow-feature-learning"
  },
  "language_info": {
   "codemirror_mode": {
    "name": "ipython",
    "version": 2
   },
   "file_extension": ".py",
   "mimetype": "text/x-python",
   "name": "python",
   "nbconvert_exporter": "python",
   "pygments_lexer": "ipython2",
   "version": "2.7.6"
  }
 },
 "nbformat": 4,
 "nbformat_minor": 0
}
