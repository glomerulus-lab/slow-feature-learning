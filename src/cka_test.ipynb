{
 "cells": [
  {
   "cell_type": "markdown",
   "id": "ec43b383",
   "metadata": {},
   "source": [
    "# CENTER KERNEL ALIGNEMENT TEST\n",
    "\n",
    "*By: Cameron Kaminski*\n",
    "\n",
    "*04.30.2023*"
   ]
  },
  {
   "cell_type": "markdown",
   "id": "22e5d8a2",
   "metadata": {},
   "source": [
    "This notebook has beed used / written for the purpose of testing the computational efficiecy of my Centered Kernel Alignment (to be referred as cka) function. "
   ]
  },
  {
   "cell_type": "code",
   "execution_count": 1,
   "id": "f29f46d6",
   "metadata": {},
   "outputs": [
    {
     "name": "stdout",
     "output_type": "stream",
     "text": [
      "Resources Loaded\n"
     ]
    }
   ],
   "source": [
    "import torch\n",
    "import resources as rs"
   ]
  },
  {
   "cell_type": "markdown",
   "id": "dfcdd5c5",
   "metadata": {},
   "source": [
    "## LOADING MODEL DATA"
   ]
  },
  {
   "cell_type": "markdown",
   "id": "8003c1e9",
   "metadata": {},
   "source": [
    "Ignore the following..."
   ]
  },
  {
   "cell_type": "code",
   "execution_count": 2,
   "id": "80cbdc18",
   "metadata": {},
   "outputs": [
    {
     "name": "stderr",
     "output_type": "stream",
     "text": [
      "/Library/Frameworks/Python.framework/Versions/3.11/lib/python3.11/site-packages/torch/_utils.py:314: UserWarning: TypedStorage is deprecated. It will be removed in the future and UntypedStorage will be the only storage class. This should only matter to you if you are using storages directly.  To access UntypedStorage directly, use tensor.untyped_storage() instead of tensor.storage()\n",
      "  device=storage.device,\n"
     ]
    }
   ],
   "source": [
    "# Unpacking the params\n",
    "model_path = 'ex_models.pt'\n",
    "state_dict = torch.load(model_path, map_location=torch.device('cpu')) # MODEL"
   ]
  },
  {
   "cell_type": "code",
   "execution_count": 3,
   "id": "38c281de",
   "metadata": {},
   "outputs": [],
   "source": [
    "# Unpacking the features params\n",
    "import torch.nn as nn\n",
    "\n",
    "# get the weights and biases of the quantized model (for the features layer)\n",
    "f_weights_quant = state_dict['features.hidden_layer._packed_params._packed_params'][0]\n",
    "f_bias_quant = state_dict['features.hidden_layer._packed_params._packed_params'][1]\n",
    "\n",
    "# dequantize the weights and biases\n",
    "f_weights_float = torch.dequantize(f_weights_quant)\n",
    "f_bias_float = torch.dequantize(f_bias_quant)"
   ]
  },
  {
   "cell_type": "code",
   "execution_count": 4,
   "id": "0cf8b95f",
   "metadata": {},
   "outputs": [],
   "source": [
    "# get the weights and biases of the quantized model (for the readout layer)\n",
    "r_weights_quant = state_dict['readout._packed_params._packed_params'][0]\n",
    "r_bias_quant = state_dict['readout._packed_params._packed_params'][1]\n",
    "\n",
    "# dequantize the weights and bises\n",
    "r_weights_float = torch.dequantize(r_weights_quant)\n",
    "r_bias_float = torch.dequantize(r_bias_quant)"
   ]
  },
  {
   "cell_type": "code",
   "execution_count": 5,
   "id": "4686b111",
   "metadata": {},
   "outputs": [],
   "source": [
    "# Manually updating the model\n",
    "model = rs.NN()\n",
    "params = list(model.parameters())\n",
    "params[0].data = f_weights_float\n",
    "params[1].data = f_bias_float\n",
    "params[2].data = r_weights_float\n",
    "params[3].data = r_bias_float"
   ]
  },
  {
   "cell_type": "markdown",
   "id": "d3071a2d",
   "metadata": {},
   "source": [
    "## Loading MNIST dataset"
   ]
  },
  {
   "cell_type": "markdown",
   "id": "2d260fc2",
   "metadata": {},
   "source": [
    "We now are going to get input data."
   ]
  },
  {
   "cell_type": "code",
   "execution_count": 6,
   "id": "4735311b",
   "metadata": {},
   "outputs": [],
   "source": [
    "import torchvision.datasets as datasets\n",
    "import torchvision.transforms as transforms\n",
    "from torch.utils.data import DataLoader\n",
    "def mnist_dataset(batch_size, train=True, values=list(range(10))):\n",
    "    # Initializing MNIST data set.\n",
    "    dataset = datasets.MNIST(root='dataset/', train=train, transform=transforms.ToTensor(), download=True)\n",
    "\n",
    "    targets_list = dataset.targets.tolist()\n",
    "    values_index = [i for i in range(len(dataset)) if targets_list[i] in values]\n",
    "\n",
    "    # Creating a subset of ### MNIST targets.\n",
    "    subset = torch.utils.data.Subset(dataset, values_index)\n",
    "    loader = DataLoader(dataset=subset, shuffle=True)\n",
    "\n",
    "    return loader"
   ]
  },
  {
   "cell_type": "code",
   "execution_count": 58,
   "id": "5d0e9da2",
   "metadata": {},
   "outputs": [],
   "source": [
    "MNIST = rs.mnist_dataset(batch_size=0, train=True, values=[0,1])\n",
    "data, targets = next(iter(MNIST))"
   ]
  },
  {
   "cell_type": "code",
   "execution_count": 59,
   "id": "f061f4f0",
   "metadata": {},
   "outputs": [],
   "source": [
    "data = torch.squeeze(data, dim=1)\n",
    "data = data.view(data.size(0), -1)"
   ]
  },
  {
   "cell_type": "code",
   "execution_count": 100,
   "id": "6f2cb463",
   "metadata": {},
   "outputs": [],
   "source": [
    "phi = model.features(data).double()\n",
    "y = torch.unsqueeze(targets.T, -1).double()"
   ]
  },
  {
   "cell_type": "markdown",
   "id": "ec894201",
   "metadata": {},
   "source": [
    "## C.K.A. Calculation"
   ]
  },
  {
   "cell_type": "markdown",
   "id": "7ca8b235",
   "metadata": {},
   "source": [
    "Now we can start calculating the C.K.A. calc."
   ]
  },
  {
   "cell_type": "markdown",
   "id": "086e3d97",
   "metadata": {},
   "source": [
    "The first CKA calc comes directly from my old repo."
   ]
  },
  {
   "cell_type": "code",
   "execution_count": 101,
   "id": "3eb3078e",
   "metadata": {},
   "outputs": [],
   "source": [
    "def old_cka(y, phi):\n",
    "    y = y.T\n",
    "    \n",
    "    start = time.time()\n",
    "    y = vector_centering(y)\n",
    "    K1c = y.T @ y\n",
    "\n",
    "    K2 = phi @ phi.T\n",
    "    \n",
    "    K2c = kernel_centering(K2)\n",
    "    end = time.time()\n",
    "\n",
    "    return kernel_alignment(K1c, K2c)\n",
    "\n",
    "\n",
    "def frobenius_product(K1, K2):\n",
    "    # For a HUGE speed increase.\n",
    "    return torch.sum(K1 * K2)\n",
    "    #return torch.trace(torch.mm(K2, torch.t(K1)))\n",
    "\n",
    "\n",
    "def kernel_alignment(K1, K2):\n",
    "    inner = frobenius_product(K1, K2) \n",
    "    K1_norm = torch.norm(K1, p='fro')\n",
    "    K2_norm = torch.norm(K2, p='fro')\n",
    "    mag_norm = (K1_norm * K2_norm)\n",
    "    print(f\"K1 NORM = {K1_norm}\")\n",
    "    print(f\"K2 NORM = {K2_norm}\")\n",
    "    return inner / mag_norm\n",
    "\n",
    "\n",
    "def kernel_centering(K):\n",
    "    row_means = K.mean(dim=1, keepdim=True)\n",
    "    col_means = K.mean(dim=0, keepdim=True)\n",
    "    total_mean = K.mean()\n",
    "    \n",
    "    return K - row_means - col_means + total_mean\n",
    "\n",
    "def vector_centering(v):\n",
    "    mean = torch.mean(v.double())\n",
    "    centered_v = v - mean\n",
    "    return centered_v"
   ]
  },
  {
   "cell_type": "code",
   "execution_count": 102,
   "id": "4d3b1f50",
   "metadata": {},
   "outputs": [],
   "source": [
    "def new_cka(y, phi):\n",
    "    yc = vector_centering(y)\n",
    "    #K1c = y.T @ y\n",
    "    phic = kernel_centering(phi)\n",
    "    v = phic.T @ yc\n",
    "    inner = (v.T @ v) / (torch.norm(yc @ yc.T) * torch.norm(phic.T @ phic))\n",
    "    return inner"
   ]
  },
  {
   "cell_type": "code",
   "execution_count": 103,
   "id": "4f108a86",
   "metadata": {},
   "outputs": [],
   "source": [
    "def estimate_cka(y, phi):\n",
    "    yc = vector_centering(y)\n",
    "    phic = kernel_centering(phi)\n",
    "    v = phic.T @ yc\n",
    "    inner = (v.T @ v) / (torch.norm(yc) ** 2 * torch.norm(phic.T @ phic))\n",
    "    return inner"
   ]
  },
  {
   "cell_type": "markdown",
   "id": "83ebef50",
   "metadata": {},
   "source": [
    "## Testing CKA"
   ]
  },
  {
   "cell_type": "code",
   "execution_count": 23,
   "id": "3ad40872",
   "metadata": {},
   "outputs": [],
   "source": [
    "import time"
   ]
  },
  {
   "cell_type": "markdown",
   "id": "9b6a6f44",
   "metadata": {},
   "source": [
    "Old CKA"
   ]
  },
  {
   "cell_type": "code",
   "execution_count": 104,
   "id": "38edabaf",
   "metadata": {},
   "outputs": [
    {
     "name": "stdout",
     "output_type": "stream",
     "text": [
      "K1 NORM = 3153.0095542666504\n",
      "K2 NORM = 40956.472252104475\n",
      "OLD CKA : 0.9029949111074519 |TOTAL TIME: 15.536466121673584s\n"
     ]
    }
   ],
   "source": [
    "start = time.time()\n",
    "test = old_cka(y, phi)\n",
    "end = time.time()\n",
    "print(f\"OLD CKA : {test.item()} |TOTAL TIME: {end - start}s\")"
   ]
  },
  {
   "cell_type": "markdown",
   "id": "129bf91b",
   "metadata": {},
   "source": [
    "New CKA"
   ]
  },
  {
   "cell_type": "code",
   "execution_count": 105,
   "id": "f83bbbdd",
   "metadata": {},
   "outputs": [
    {
     "name": "stdout",
     "output_type": "stream",
     "text": [
      "NEW CKA : 0.9035078157156612 |TOTAL TIME: 1.9259819984436035s\n"
     ]
    }
   ],
   "source": [
    "start = time.time()\n",
    "test = new_cka(y, phi)\n",
    "end = time.time()\n",
    "print(f\"NEW CKA : {test.item()} |TOTAL TIME: {end - start}s\")"
   ]
  },
  {
   "cell_type": "markdown",
   "id": "a612d4b9",
   "metadata": {},
   "source": [
    "Estimated CKA"
   ]
  },
  {
   "cell_type": "code",
   "execution_count": 106,
   "id": "284e73d9",
   "metadata": {},
   "outputs": [
    {
     "name": "stdout",
     "output_type": "stream",
     "text": [
      "EST CKA : 0.9035078158240055 |TOTAL TIME: 0.7852292060852051s\n"
     ]
    }
   ],
   "source": [
    "start = time.time()\n",
    "test = estimate_cka(y, phi)\n",
    "end = time.time()\n",
    "print(f\"EST CKA : {test.item()} |TOTAL TIME: {end - start}s\")"
   ]
  },
  {
   "cell_type": "code",
   "execution_count": 17,
   "id": "cee72d18",
   "metadata": {},
   "outputs": [
    {
     "data": {
      "text/plain": [
       "torch.Size([12665, 1024])"
      ]
     },
     "execution_count": 17,
     "metadata": {},
     "output_type": "execute_result"
    }
   ],
   "source": [
    "phi.shape"
   ]
  },
  {
   "cell_type": "code",
   "execution_count": 18,
   "id": "a35df72f",
   "metadata": {},
   "outputs": [
    {
     "data": {
      "text/plain": [
       "torch.Size([12665, 1])"
      ]
     },
     "execution_count": 18,
     "metadata": {},
     "output_type": "execute_result"
    }
   ],
   "source": [
    "y.shape"
   ]
  },
  {
   "cell_type": "code",
   "execution_count": 19,
   "id": "0280f53c",
   "metadata": {},
   "outputs": [
    {
     "data": {
      "text/plain": [
       "0.08085274378207659"
      ]
     },
     "execution_count": 19,
     "metadata": {},
     "output_type": "execute_result"
    }
   ],
   "source": [
    "1024 / 12665"
   ]
  },
  {
   "cell_type": "code",
   "execution_count": 32,
   "id": "6d616cab",
   "metadata": {},
   "outputs": [
    {
     "data": {
      "text/plain": [
       "tensor(3153.0725)"
      ]
     },
     "execution_count": 32,
     "metadata": {},
     "output_type": "execute_result"
    }
   ],
   "source": [
    "yc = vector_centering(y)\n",
    "torch.norm(yc) ** 2"
   ]
  },
  {
   "cell_type": "code",
   "execution_count": 30,
   "id": "d0a5e746",
   "metadata": {},
   "outputs": [
    {
     "data": {
      "text/plain": [
       "tensor(3025.9299)"
      ]
     },
     "execution_count": 30,
     "metadata": {},
     "output_type": "execute_result"
    }
   ],
   "source": [
    "torch.norm(yc @ yc.T, p = 'fro')"
   ]
  },
  {
   "cell_type": "code",
   "execution_count": 33,
   "id": "2fd047f6",
   "metadata": {},
   "outputs": [
    {
     "data": {
      "text/plain": [
       "tensor([[-0.5323],\n",
       "        [ 0.4677],\n",
       "        [ 0.4677],\n",
       "        ...,\n",
       "        [-0.5323],\n",
       "        [ 0.4677],\n",
       "        [-0.5323]])"
      ]
     },
     "execution_count": 33,
     "metadata": {},
     "output_type": "execute_result"
    }
   ],
   "source": [
    "yc"
   ]
  },
  {
   "cell_type": "code",
   "execution_count": 36,
   "id": "1c8eb404",
   "metadata": {},
   "outputs": [],
   "source": [
    "import numpy as np\n",
    "y2=np.array(yc)"
   ]
  },
  {
   "cell_type": "code",
   "execution_count": 41,
   "id": "270839eb",
   "metadata": {},
   "outputs": [
    {
     "data": {
      "text/plain": [
       "3153.0068819681183"
      ]
     },
     "execution_count": 41,
     "metadata": {},
     "output_type": "execute_result"
    }
   ],
   "source": [
    "np.linalg.norm(y2) ** 2"
   ]
  },
  {
   "cell_type": "code",
   "execution_count": 39,
   "id": "d6f24ae9",
   "metadata": {},
   "outputs": [
    {
     "data": {
      "text/plain": [
       "3174.2888"
      ]
     },
     "execution_count": 39,
     "metadata": {},
     "output_type": "execute_result"
    }
   ],
   "source": [
    "np.linalg.norm(y2 @ y2.T, 'fro')"
   ]
  },
  {
   "cell_type": "code",
   "execution_count": 64,
   "id": "bcde4dd2",
   "metadata": {},
   "outputs": [],
   "source": [
    "phic = kernel_centering(phi)"
   ]
  },
  {
   "cell_type": "code",
   "execution_count": 72,
   "id": "0676153d",
   "metadata": {},
   "outputs": [
    {
     "data": {
      "text/plain": [
       "tensor(40926.1641, grad_fn=<LinalgVectorNormBackward0>)"
      ]
     },
     "execution_count": 72,
     "metadata": {},
     "output_type": "execute_result"
    }
   ],
   "source": [
    "torch.norm(phic.T @ phic, 'fro')"
   ]
  },
  {
   "cell_type": "code",
   "execution_count": 73,
   "id": "e366b2be",
   "metadata": {},
   "outputs": [
    {
     "data": {
      "text/plain": [
       "tensor(40445.0273, grad_fn=<LinalgVectorNormBackward0>)"
      ]
     },
     "execution_count": 73,
     "metadata": {},
     "output_type": "execute_result"
    }
   ],
   "source": [
    "torch.norm(phic @ phic.T, 'fro')"
   ]
  },
  {
   "cell_type": "code",
   "execution_count": 74,
   "id": "b6ce65db",
   "metadata": {},
   "outputs": [],
   "source": [
    "A = phic @ phic.T"
   ]
  },
  {
   "cell_type": "code",
   "execution_count": 75,
   "id": "3ecd79ec",
   "metadata": {},
   "outputs": [
    {
     "data": {
      "text/plain": [
       "tensor(40445.0273, grad_fn=<LinalgVectorNormBackward0>)"
      ]
     },
     "execution_count": 75,
     "metadata": {},
     "output_type": "execute_result"
    }
   ],
   "source": [
    "torch.norm(A, 'fro')"
   ]
  },
  {
   "cell_type": "code",
   "execution_count": 76,
   "id": "605f3fe4",
   "metadata": {},
   "outputs": [
    {
     "data": {
      "text/plain": [
       "tensor(40445.0273, grad_fn=<LinalgVectorNormBackward0>)"
      ]
     },
     "execution_count": 76,
     "metadata": {},
     "output_type": "execute_result"
    }
   ],
   "source": [
    "torch.norm(A.T, 'fro')"
   ]
  },
  {
   "cell_type": "code",
   "execution_count": 77,
   "id": "399c2d58",
   "metadata": {},
   "outputs": [
    {
     "data": {
      "text/plain": [
       "tensor(-0.4213, grad_fn=<MinBackward1>)"
      ]
     },
     "execution_count": 77,
     "metadata": {},
     "output_type": "execute_result"
    }
   ],
   "source": [
    "phic.min()"
   ]
  },
  {
   "cell_type": "code",
   "execution_count": 110,
   "id": "82218576",
   "metadata": {},
   "outputs": [
    {
     "data": {
      "text/plain": [
       "tensor([-0.5323])"
      ]
     },
     "execution_count": 110,
     "metadata": {},
     "output_type": "execute_result"
    }
   ],
   "source": [
    "yc[0]"
   ]
  },
  {
   "cell_type": "code",
   "execution_count": 111,
   "id": "5e099416",
   "metadata": {},
   "outputs": [
    {
     "data": {
      "text/plain": [
       "tensor([-0.5323], dtype=torch.float64)"
      ]
     },
     "execution_count": 111,
     "metadata": {},
     "output_type": "execute_result"
    }
   ],
   "source": [
    "vector_centering(y)[0]"
   ]
  },
  {
   "cell_type": "code",
   "execution_count": 99,
   "id": "bfb152c6",
   "metadata": {},
   "outputs": [
    {
     "data": {
      "text/plain": [
       "'torch.FloatTensor'"
      ]
     },
     "execution_count": 99,
     "metadata": {},
     "output_type": "execute_result"
    }
   ],
   "source": [
    "data.type()"
   ]
  },
  {
   "cell_type": "code",
   "execution_count": null,
   "id": "72b2d089",
   "metadata": {},
   "outputs": [],
   "source": []
  }
 ],
 "metadata": {
  "kernelspec": {
   "display_name": "Python 3 (ipykernel)",
   "language": "python",
   "name": "python3"
  },
  "language_info": {
   "codemirror_mode": {
    "name": "ipython",
    "version": 3
   },
   "file_extension": ".py",
   "mimetype": "text/x-python",
   "name": "python",
   "nbconvert_exporter": "python",
   "pygments_lexer": "ipython3",
   "version": "3.10.6"
  }
 },
 "nbformat": 4,
 "nbformat_minor": 5
}
