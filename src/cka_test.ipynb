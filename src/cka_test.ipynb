{
 "cells": [
  {
   "cell_type": "markdown",
   "id": "ec43b383",
   "metadata": {},
   "source": [
    "# CENTER KERNEL ALIGNEMENT TEST\n",
    "\n",
    "*By: Cameron Kaminski*\n",
    "\n",
    "*04.30.2023*"
   ]
  },
  {
   "cell_type": "markdown",
   "id": "22e5d8a2",
   "metadata": {},
   "source": [
    "This notebook has beed used / written for the purpose of testing the computational efficiecy of my Centered Kernel Alignment (to be referred as cka) function. "
   ]
  },
  {
   "cell_type": "code",
   "execution_count": 1,
   "id": "f29f46d6",
   "metadata": {},
   "outputs": [
    {
     "name": "stdout",
     "output_type": "stream",
     "text": [
      "Resources Loaded\n"
     ]
    }
   ],
   "source": [
    "import torch\n",
    "import resources as rs"
   ]
  },
  {
   "cell_type": "markdown",
   "id": "dfcdd5c5",
   "metadata": {},
   "source": [
    "## LOADING MODEL DATA"
   ]
  },
  {
   "cell_type": "markdown",
   "id": "8003c1e9",
   "metadata": {},
   "source": [
    "Ignore the following..."
   ]
  },
  {
   "cell_type": "code",
   "execution_count": 7,
   "id": "80cbdc18",
   "metadata": {},
   "outputs": [],
   "source": [
    "# Unpacking the params\n",
    "model_path = 'ex_models.pt'\n",
    "state_dict = torch.load(model_path, map_location=torch.device('cpu')) # MODEL"
   ]
  },
  {
   "cell_type": "code",
   "execution_count": 10,
   "id": "38c281de",
   "metadata": {},
   "outputs": [],
   "source": [
    "# Unpacking the features params\n",
    "import torch.nn as nn\n",
    "\n",
    "# get the weights and biases of the quantized model (for the features layer)\n",
    "f_weights_quant = state_dict['features.hidden_layer._packed_params._packed_params'][0]\n",
    "f_bias_quant = state_dict['features.hidden_layer._packed_params._packed_params'][1]\n",
    "\n",
    "# dequantize the weights and biases\n",
    "f_weights_float = torch.dequantize(f_weights_quant)\n",
    "f_bias_float = torch.dequantize(f_bias_quant)"
   ]
  },
  {
   "cell_type": "code",
   "execution_count": 11,
   "id": "0cf8b95f",
   "metadata": {},
   "outputs": [],
   "source": [
    "# get the weights and biases of the quantized model (for the readout layer)\n",
    "r_weights_quant = state_dict['readout._packed_params._packed_params'][0]\n",
    "r_bias_quant = state_dict['readout._packed_params._packed_params'][1]\n",
    "\n",
    "# dequantize the weights and bises\n",
    "r_weights_float = torch.dequantize(r_weights_quant)\n",
    "r_bias_float = torch.dequantize(r_bias_quant)"
   ]
  },
  {
   "cell_type": "code",
   "execution_count": null,
   "id": "4686b111",
   "metadata": {},
   "outputs": [],
   "source": [
    "# Manually updating the model\n",
    "model = rs.NN()\n",
    "params = list(model.parameters())\n",
    "params[0].data = f_weights_float\n",
    "params[1].data = f_bias_float\n",
    "params[2].data = r_weights_float\n",
    "params[3].data = r_bias_float"
   ]
  },
  {
   "cell_type": "markdown",
   "id": "d3071a2d",
   "metadata": {},
   "source": [
    "## Loading MNIST dataset"
   ]
  },
  {
   "cell_type": "markdown",
   "id": "2d260fc2",
   "metadata": {},
   "source": [
    "We now are going to get input data."
   ]
  },
  {
   "cell_type": "code",
   "execution_count": 13,
   "id": "4735311b",
   "metadata": {},
   "outputs": [],
   "source": [
    "import torchvision.datasets as datasets\n",
    "import torchvision.transforms as transforms\n",
    "from torch.utils.data import DataLoader\n",
    "def mnist_dataset(batch_size, train=True, values=list(range(10))):\n",
    "    # Initializing MNIST data set.\n",
    "    dataset = datasets.MNIST(root='dataset/', train=train, transform=transforms.ToTensor(), download=True)\n",
    "\n",
    "    targets_list = dataset.targets.tolist()\n",
    "    values_index = [i for i in range(len(dataset)) if targets_list[i] in values]\n",
    "\n",
    "    # Creating a subset of ### MNIST targets.\n",
    "    subset = torch.utils.data.Subset(dataset, values_index)\n",
    "    loader = DataLoader(dataset=subset, shuffle=True)\n",
    "\n",
    "    return loader"
   ]
  },
  {
   "cell_type": "code",
   "execution_count": 14,
   "id": "5d0e9da2",
   "metadata": {},
   "outputs": [],
   "source": [
    "MNIST = rs.mnist_dataset(batch_size=0, train=True, values=[0,1])\n",
    "data, targets = next(iter(MNIST))"
   ]
  },
  {
   "cell_type": "code",
   "execution_count": 15,
   "id": "f061f4f0",
   "metadata": {},
   "outputs": [],
   "source": [
    "data = torch.squeeze(data, dim=1)\n",
    "data = data.view(data.size(0), -1)"
   ]
  },
  {
   "cell_type": "code",
   "execution_count": 22,
   "id": "6f2cb463",
   "metadata": {},
   "outputs": [
    {
     "name": "stderr",
     "output_type": "stream",
     "text": [
      "/var/folders/bq/8yd_b2lj50n_j_2v3f_wwvvc0000gn/T/ipykernel_6515/39957181.py:2: UserWarning: The use of `x.T` on tensors of dimension other than 2 to reverse their shape is deprecated and it will throw an error in a future release. Consider `x.mT` to transpose batches of matrices or `x.permute(*torch.arange(x.ndim - 1, -1, -1))` to reverse the dimensions of a tensor. (Triggered internally at /Users/runner/work/pytorch/pytorch/pytorch/aten/src/ATen/native/TensorShape.cpp:3575.)\n",
      "  y = torch.unsqueeze(targets.T, -1)\n"
     ]
    }
   ],
   "source": [
    "phi = model.features(data)\n",
    "y = torch.unsqueeze(targets.T, -1)"
   ]
  },
  {
   "cell_type": "markdown",
   "id": "ec894201",
   "metadata": {},
   "source": [
    "## C.K.A. Calculation"
   ]
  },
  {
   "cell_type": "markdown",
   "id": "7ca8b235",
   "metadata": {},
   "source": [
    "Now we can start calculating the C.K.A. calc."
   ]
  },
  {
   "cell_type": "markdown",
   "id": "086e3d97",
   "metadata": {},
   "source": [
    "The first CKA calc comes directly from my old repo."
   ]
  },
  {
   "cell_type": "code",
   "execution_count": 33,
   "id": "3eb3078e",
   "metadata": {},
   "outputs": [],
   "source": [
    "def old_cka(y, phi):\n",
    "    y = y.T\n",
    "    \n",
    "    start = time.time()\n",
    "    y = vector_centering(y)\n",
    "    K1c = torch.matmul(torch.t(y), y)\n",
    "\n",
    "    K2 = torch.mm(phi, torch.t(phi))\n",
    "    \n",
    "    K2c = kernel_centering(K2)\n",
    "    end = time.time()\n",
    "\n",
    "    return kernel_alignment(K1c, K2c)\n",
    "\n",
    "\n",
    "def frobenius_product(K1, K2):\n",
    "    # For a HUGE speed increase.\n",
    "    # return torch.sum(K1 * K2)\n",
    "    return torch.trace(torch.mm(K2, torch.t(K1)))\n",
    "\n",
    "\n",
    "def kernel_alignment(K1, K2):\n",
    "    inner = frobenius_product(K1, K2) \n",
    "    K1_norm = torch.norm(K1, p='fro')\n",
    "    K2_norm = torch.norm(K2, p='fro')\n",
    "    mag_norm = (K1_norm * K2_norm)\n",
    "    print(f\"K1 NORM = {K1_norm}\")\n",
    "    print(f\"K2 NORM = {K2_norm}\")\n",
    "    return inner / mag_norm\n",
    "\n",
    "\n",
    "def kernel_centering(K):\n",
    "    row_means = K.mean(dim=1, keepdim=True)\n",
    "    col_means = K.mean(dim=0, keepdim=True)\n",
    "    total_mean = K.mean()\n",
    "    \n",
    "    return K - row_means - col_means + total_mean\n",
    "\n",
    "def vector_centering(v):\n",
    "    mean = torch.mean(v.float())\n",
    "    centered_v = v - mean\n",
    "    return centered_v"
   ]
  },
  {
   "cell_type": "code",
   "execution_count": 34,
   "id": "4d3b1f50",
   "metadata": {},
   "outputs": [],
   "source": [
    "def new_cka(y, phi):\n",
    "    y = vector_centering(y)\n",
    "    K1c = y.T @ y\n",
    "    phi = kernel_centering(phi)\n",
    "    v = phi.T @ y\n",
    "    inner = (v.T @ v) / (torch.norm(y @ y.T) * torch.norm(phi @ phi.T))\n",
    "    return inner"
   ]
  },
  {
   "cell_type": "code",
   "execution_count": 41,
   "id": "4f108a86",
   "metadata": {},
   "outputs": [],
   "source": [
    "def estimate_cka(y, phi):\n",
    "    y = vector_centering(y)\n",
    "    phic = kernel_centering(phi)\n",
    "    v = phi.T @ y\n",
    "    inner = (v.T @ v) / (y.T @ y * torch.norm(phic.T @ phic))\n",
    "    return inner"
   ]
  },
  {
   "cell_type": "markdown",
   "id": "83ebef50",
   "metadata": {},
   "source": [
    "## Testing CKA"
   ]
  },
  {
   "cell_type": "code",
   "execution_count": 42,
   "id": "3ad40872",
   "metadata": {},
   "outputs": [],
   "source": [
    "import time"
   ]
  },
  {
   "cell_type": "markdown",
   "id": "9b6a6f44",
   "metadata": {},
   "source": [
    "Old CKA"
   ]
  },
  {
   "cell_type": "code",
   "execution_count": 37,
   "id": "38edabaf",
   "metadata": {},
   "outputs": [
    {
     "name": "stdout",
     "output_type": "stream",
     "text": [
      "K1 NORM = 3031.20654296875\n",
      "K2 NORM = 40470.0703125\n",
      "OLD CKA : 0.9505689740180969 |TOTAL TIME: 60.00688886642456s\n"
     ]
    }
   ],
   "source": [
    "start = time.time()\n",
    "test = old_cka(y, phi)\n",
    "end = time.time()\n",
    "print(f\"OLD CKA : {test.item()} |TOTAL TIME: {end - start}s\")"
   ]
  },
  {
   "cell_type": "markdown",
   "id": "129bf91b",
   "metadata": {},
   "source": [
    "New CKA"
   ]
  },
  {
   "cell_type": "code",
   "execution_count": 39,
   "id": "f83bbbdd",
   "metadata": {},
   "outputs": [
    {
     "name": "stdout",
     "output_type": "stream",
     "text": [
      "OLD CKA : 0.95118647813797 |TOTAL TIME: 5.5530829429626465s\n"
     ]
    }
   ],
   "source": [
    "start = time.time()\n",
    "test = new_cka(y, phi)\n",
    "end = time.time()\n",
    "print(f\"NEW CKA : {test.item()} |TOTAL TIME: {end - start}s\")"
   ]
  },
  {
   "cell_type": "markdown",
   "id": "a612d4b9",
   "metadata": {},
   "source": [
    "Estimated CKA"
   ]
  },
  {
   "cell_type": "code",
   "execution_count": 44,
   "id": "284e73d9",
   "metadata": {},
   "outputs": [
    {
     "name": "stdout",
     "output_type": "stream",
     "text": [
      "EST CKA : 0.9036058187484741 |TOTAL TIME: 0.3930377960205078s\n"
     ]
    }
   ],
   "source": [
    "start = time.time()\n",
    "test = estimate_cka(y, phi)\n",
    "end = time.time()\n",
    "print(f\"EST CKA : {test.item()} |TOTAL TIME: {end - start}s\")"
   ]
  }
 ],
 "metadata": {
  "kernelspec": {
   "display_name": "Python 3 (ipykernel)",
   "language": "python",
   "name": "python3"
  },
  "language_info": {
   "codemirror_mode": {
    "name": "ipython",
    "version": 3
   },
   "file_extension": ".py",
   "mimetype": "text/x-python",
   "name": "python",
   "nbconvert_exporter": "python",
   "pygments_lexer": "ipython3",
   "version": "3.11.1"
  }
 },
 "nbformat": 4,
 "nbformat_minor": 5
}
