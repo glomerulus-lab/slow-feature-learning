{
 "cells": [
  {
   "cell_type": "markdown",
   "id": "e910c461",
   "metadata": {},
   "source": [
    "# Kernel Calculation Test\n",
    "This notebook is used to test the functionality of the kernel calc methods that (if working) will be rewritten in Python script."
   ]
  },
  {
   "cell_type": "code",
   "execution_count": null,
   "id": "a7abf607",
   "metadata": {
    "scrolled": true
   },
   "outputs": [],
   "source": [
    "import torch\n",
    "import resources as rs"
   ]
  },
  {
   "cell_type": "markdown",
   "id": "d587053d",
   "metadata": {},
   "source": [
    "### Loading Model Data"
   ]
  },
  {
   "cell_type": "code",
   "execution_count": null,
   "id": "a553232c",
   "metadata": {},
   "outputs": [],
   "source": [
    "model_path = 'ex_models.pt'\n",
    "state_dict = torch.load(model_path, map_location=torch.device('cpu')) # MODEL"
   ]
  },
  {
   "cell_type": "markdown",
   "id": "c959e794",
   "metadata": {},
   "source": [
    "### Unpacking the params"
   ]
  },
  {
   "cell_type": "markdown",
   "id": "9008a912",
   "metadata": {},
   "source": [
    "**NOTE:** \n",
    "The model was trained on the MNIST digits of 0 1"
   ]
  },
  {
   "cell_type": "markdown",
   "id": "b4b480b9",
   "metadata": {},
   "source": [
    "Unpacking the features params"
   ]
  },
  {
   "cell_type": "code",
   "execution_count": null,
   "id": "b943de91",
   "metadata": {
    "scrolled": true
   },
   "outputs": [],
   "source": [
    "import torch.nn as nn\n",
    "\n",
    "# get the weights and biases of the quantized model (for the features layer)\n",
    "f_weights_quant = state_dict['features.hidden_layer._packed_params._packed_params'][0]\n",
    "f_bias_quant = state_dict['features.hidden_layer._packed_params._packed_params'][1]\n",
    "\n",
    "# dequantize the weights and biases\n",
    "f_weights_float = torch.dequantize(f_weights_quant)\n",
    "f_bias_float = torch.dequantize(f_bias_quant)\n",
    "# print the float values of weights and biases\n",
    "print(f_weights_float)\n",
    "print(f_bias_float)"
   ]
  },
  {
   "cell_type": "markdown",
   "id": "7db32b1a",
   "metadata": {},
   "source": [
    "Unpacking the readout params."
   ]
  },
  {
   "cell_type": "code",
   "execution_count": null,
   "id": "d42817aa",
   "metadata": {},
   "outputs": [],
   "source": [
    "# get the weights and biases of the quantized model (for the readout layer)\n",
    "r_weights_quant = state_dict['readout._packed_params._packed_params'][0]\n",
    "r_bias_quant = state_dict['readout._packed_params._packed_params'][1]\n",
    "\n",
    "# dequantize the weights and bises\n",
    "r_weights_float = torch.dequantize(r_weights_quant)\n",
    "r_bias_float = torch.dequantize(r_bias_quant)\n",
    "\n",
    "print(r_weights_float)\n",
    "print(r_bias_float)"
   ]
  },
  {
   "cell_type": "markdown",
   "id": "4cb6db2f",
   "metadata": {},
   "source": [
    "### Manually updating the model"
   ]
  },
  {
   "cell_type": "code",
   "execution_count": null,
   "id": "e839021f",
   "metadata": {
    "scrolled": true
   },
   "outputs": [],
   "source": [
    "model = rs.NN()\n",
    "model"
   ]
  },
  {
   "cell_type": "code",
   "execution_count": null,
   "id": "7ab638b6",
   "metadata": {},
   "outputs": [],
   "source": [
    "params = list(model.parameters())\n",
    "params"
   ]
  },
  {
   "cell_type": "code",
   "execution_count": null,
   "id": "9a3a705a",
   "metadata": {},
   "outputs": [],
   "source": [
    "params[0].data = f_weights_float\n",
    "params[1].data = f_bias_float\n",
    "params[2].data = r_weights_float\n",
    "params[3].data = r_bias_float"
   ]
  },
  {
   "cell_type": "markdown",
   "id": "a12e4324",
   "metadata": {},
   "source": [
    "### Loading MNIST dataset"
   ]
  },
  {
   "cell_type": "code",
   "execution_count": null,
   "id": "dec70228",
   "metadata": {},
   "outputs": [],
   "source": [
    "import torchvision.datasets as datasets\n",
    "import torchvision.transforms as transforms\n",
    "from torch.utils.data import DataLoader\n",
    "def mnist_dataset(batch_size, train=True, values=list(range(10))):\n",
    "    # Initializing MNIST data set.\n",
    "    dataset = datasets.MNIST(root='dataset/', train=train, transform=transforms.ToTensor(), download=True)\n",
    "\n",
    "    targets_list = dataset.targets.tolist()\n",
    "    values_index = [i for i in range(len(dataset)) if targets_list[i] in values]\n",
    "\n",
    "    # Creating a subset of ### MNIST targets.\n",
    "    subset = torch.utils.data.Subset(dataset, values_index)\n",
    "    loader = DataLoader(dataset=subset, shuffle=True)\n",
    "\n",
    "    return loader"
   ]
  },
  {
   "cell_type": "code",
   "execution_count": null,
   "id": "4caae1ea",
   "metadata": {},
   "outputs": [],
   "source": [
    "MNIST = rs.mnist_dataset(batch_size=0, train=True, values=[0,1])\n",
    "data, targets = next(iter(MNIST))"
   ]
  },
  {
   "cell_type": "markdown",
   "id": "e27280bf",
   "metadata": {},
   "source": [
    "Next, in order to perform the CKA calc. we will need to reshape the data into a batch_size X features tenso (12665, 784)."
   ]
  },
  {
   "cell_type": "code",
   "execution_count": 598,
   "id": "c83b98bf",
   "metadata": {},
   "outputs": [
    {
     "data": {
      "text/plain": [
       "torch.Size([12665, 784])"
      ]
     },
     "execution_count": 598,
     "metadata": {},
     "output_type": "execute_result"
    }
   ],
   "source": [
    "data = torch.squeeze(data, dim=1)\n",
    "data = data.view(data.size(0), -1)\n",
    "data.shape"
   ]
  },
  {
   "cell_type": "markdown",
   "id": "e5b43ea1",
   "metadata": {},
   "source": [
    "### CKA Calc.\n",
    "At this point we can now calculate the CKA for the model state."
   ]
  },
  {
   "cell_type": "code",
   "execution_count": null,
   "id": "af095310",
   "metadata": {},
   "outputs": [],
   "source": [
    "model.features(data).shape"
   ]
  },
  {
   "cell_type": "code",
   "execution_count": null,
   "id": "c7189516",
   "metadata": {},
   "outputs": [],
   "source": [
    "targets.shape"
   ]
  },
  {
   "cell_type": "markdown",
   "id": "95b7f3b6",
   "metadata": {},
   "source": [
    "#TODO using this notebook create a python script that will do this for each of the model states (135 * 512)..."
   ]
  },
  {
   "cell_type": "markdown",
   "id": "475ee852",
   "metadata": {},
   "source": [
    "### Accuracy"
   ]
  },
  {
   "cell_type": "code",
   "execution_count": null,
   "id": "1cef73b2",
   "metadata": {},
   "outputs": [],
   "source": [
    "import torch.optim as optim"
   ]
  },
  {
   "cell_type": "code",
   "execution_count": null,
   "id": "a83134d7",
   "metadata": {},
   "outputs": [],
   "source": [
    "device = torch.device('cpu')\n",
    "loss = nn.MSELoss()\n",
    "model.eval()\n",
    "losses = rs.train(MNIST, device, model, loss, values=[0, 1], backwards=False, record_loss=True)"
   ]
  },
  {
   "cell_type": "code",
   "execution_count": null,
   "id": "054e4f89",
   "metadata": {
    "scrolled": true
   },
   "outputs": [],
   "source": [
    "losses"
   ]
  },
  {
   "cell_type": "code",
   "execution_count": null,
   "id": "d8f43c82",
   "metadata": {},
   "outputs": [],
   "source": [
    "import time"
   ]
  },
  {
   "cell_type": "markdown",
   "id": "ff5f1677",
   "metadata": {},
   "source": [
    "### CKA Test.\n",
    "Defining Center Kernel Alignment functions."
   ]
  },
  {
   "cell_type": "code",
   "execution_count": null,
   "id": "6dd6bab0",
   "metadata": {},
   "outputs": [],
   "source": [
    "def kernel_calc(y, phi):\n",
    "    y = torch.t(torch.unsqueeze(y, -1))\n",
    "    \n",
    "    start = time.time()\n",
    "    y = vector_centering(y)\n",
    "    K1c = torch.matmul(torch.t(y), y)\n",
    "\n",
    "    K2 = torch.mm(phi, torch.t(phi))\n",
    "    \n",
    "    K2c = kernel_centering(K2)\n",
    "    end = time.time()\n",
    "\n",
    "    return kernel_alignment(K1c, K2c)\n",
    "\n",
    "\n",
    "def frobenius_product(K1, K2):\n",
    "    return torch.sum(K1 * K2)\n",
    "    #return torch.trace(torch.mm(K2, torch.t(K1)))\n",
    "\n",
    "\n",
    "def kernel_alignment(K1, K2):\n",
    "    inner = frobenius_product(K1, K2) \n",
    "    K1_norm = torch.norm(K1, p='fro')\n",
    "    K2_norm = torch.norm(K2, p='fro')\n",
    "    mag_norm = (K1_norm * K2_norm)\n",
    "    print(f\"K1 NORM = {K1_norm}\")\n",
    "    print(f\"K2 NORM = {K2_norm}\")\n",
    "    return inner / mag_norm\n",
    "\n",
    "\n",
    "def kernel_centering(K):\n",
    "    row_means = K.mean(dim=1, keepdim=True)\n",
    "    col_means = K.mean(dim=0, keepdim=True)\n",
    "    total_mean = K.mean()\n",
    "    \n",
    "    return K - row_means - col_means + total_mean\n",
    "\n",
    "def vector_centering(v):\n",
    "    mean = torch.mean(v.float())\n",
    "    centered_v = v - mean\n",
    "    return centered_v"
   ]
  },
  {
   "cell_type": "code",
   "execution_count": 590,
   "id": "07278ffa",
   "metadata": {},
   "outputs": [],
   "source": [
    "def cka(y, phi):\n",
    "    y = vector_centering(y)\n",
    "    K1c = y.T @ y\n",
    "    phi = kernel_centering(phi)\n",
    "    v = phi.T @ y\n",
    "    inner = (v.T @ v) / (torch.norm(y @ y.T) * torch.norm(phi @ phi.T))\n",
    "    return inner\n",
    "    "
   ]
  },
  {
   "cell_type": "code",
   "execution_count": 596,
   "id": "60248054",
   "metadata": {},
   "outputs": [],
   "source": [
    "def cka_estimate(y, phi):\n",
    "    \n",
    "    y = vector_centering(y)\n",
    "    phi = kernel_centering(phi)\n",
    "    \n",
    "    v = phi.T @ y\n",
    "    inner = (v.T @ v) / (y.T @ y * torch.norm(phic.T @ phic))\n",
    "    return inner"
   ]
  },
  {
   "cell_type": "code",
   "execution_count": 597,
   "id": "33d8fb2a",
   "metadata": {},
   "outputs": [
    {
     "name": "stdout",
     "output_type": "stream",
     "text": [
      "CKA : 0.9035245776176453 |TOTAL TIME: 0.38608384132385254s\n"
     ]
    }
   ],
   "source": [
    "start = time.time()\n",
    "test = cka_estimate(y, phi)\n",
    "end = time.time()\n",
    "print(f\"CKA : {test.item()} |TOTAL TIME: {end - start}s\")"
   ]
  },
  {
   "cell_type": "code",
   "execution_count": 593,
   "id": "a3228534",
   "metadata": {},
   "outputs": [
    {
     "name": "stdout",
     "output_type": "stream",
     "text": [
      "CKA : tensor([[0.9511]], grad_fn=<DivBackward0>) |TOTAL TIME: 5.037832736968994s\n"
     ]
    }
   ],
   "source": [
    "start = time.time()\n",
    "test = cka(y, phi)\n",
    "end = time.time()\n",
    "print(f\"CKA : {test} |TOTAL TIME: {end - start}s\")"
   ]
  },
  {
   "cell_type": "code",
   "execution_count": 563,
   "id": "1e5d5627",
   "metadata": {},
   "outputs": [
    {
     "name": "stdout",
     "output_type": "stream",
     "text": [
      "K1 NORM = 3030.962158203125\n",
      "K2 NORM = 40475.64453125\n",
      "CKA : 0.9505146741867065 |TOTAL TIME: 7.848598003387451s\n"
     ]
    }
   ],
   "source": [
    "start = time.time()\n",
    "cka = kernel_calc(targets, model.features(data))\n",
    "end = time.time()\n",
    "print(f\"CKA : {cka} |TOTAL TIME: {end - start}s\")"
   ]
  },
  {
   "cell_type": "code",
   "execution_count": null,
   "id": "11b856cc",
   "metadata": {},
   "outputs": [],
   "source": []
  },
  {
   "cell_type": "code",
   "execution_count": 486,
   "id": "85907113",
   "metadata": {
    "scrolled": true
   },
   "outputs": [
    {
     "data": {
      "text/plain": [
       "tensor(3153.0095)"
      ]
     },
     "execution_count": 486,
     "metadata": {},
     "output_type": "execute_result"
    }
   ],
   "source": [
    "torch.sum(torch.trace(yc @ yc.T))"
   ]
  },
  {
   "cell_type": "code",
   "execution_count": 494,
   "id": "18ef362a",
   "metadata": {
    "scrolled": true
   },
   "outputs": [
    {
     "data": {
      "text/plain": [
       "tensor(3153.0725)"
      ]
     },
     "execution_count": 494,
     "metadata": {},
     "output_type": "execute_result"
    }
   ],
   "source": [
    "torch.norm(yc) ** 2"
   ]
  },
  {
   "cell_type": "code",
   "execution_count": 497,
   "id": "1df7b42f",
   "metadata": {},
   "outputs": [
    {
     "data": {
      "text/plain": [
       "tensor(3030.9622)"
      ]
     },
     "execution_count": 497,
     "metadata": {},
     "output_type": "execute_result"
    }
   ],
   "source": [
    "torch.norm(yc @ yc.T)"
   ]
  },
  {
   "cell_type": "code",
   "execution_count": 502,
   "id": "ef083785",
   "metadata": {},
   "outputs": [],
   "source": [
    "t = torch.randint(low=0, high=1000, size=(10000, 1), dtype=torch.float)"
   ]
  },
  {
   "cell_type": "code",
   "execution_count": 503,
   "id": "6e5f81fd",
   "metadata": {},
   "outputs": [
    {
     "data": {
      "text/plain": [
       "tensor(3.2637e+09)"
      ]
     },
     "execution_count": 503,
     "metadata": {},
     "output_type": "execute_result"
    }
   ],
   "source": [
    "torch.norm(t @ t.T)"
   ]
  },
  {
   "cell_type": "code",
   "execution_count": 505,
   "id": "13fa270c",
   "metadata": {},
   "outputs": [
    {
     "name": "stdout",
     "output_type": "stream",
     "text": [
      "tensor(1.2238e+22)\n"
     ]
    }
   ],
   "source": [
    "import torch\n",
    "\n",
    "# Assume X is a tensor of size (100, 1000)\n",
    "batch_size, height_width = X.size()\n",
    "\n",
    "# Reshape X to be a matrix of size (batch_size, height_width)\n",
    "X_reshaped = X.view(batch_size, height_width)\n",
    "\n",
    "# Compute the norm of the Gram matrix in terms of the trace\n",
    "norm = torch.trace(torch.mm(torch.mm(X_reshaped, X_reshaped.t()), torch.mm(X_reshaped, X_reshaped.t())))\n",
    "\n",
    "print(norm)\n"
   ]
  },
  {
   "cell_type": "markdown",
   "id": "d3dcd1ff",
   "metadata": {},
   "source": [
    "### New CKA Function"
   ]
  },
  {
   "cell_type": "code",
   "execution_count": 496,
   "id": "5dc164fb",
   "metadata": {},
   "outputs": [],
   "source": [
    "phi = model.features(data)\n",
    "y = torch.unsqueeze(targets.T, -1)"
   ]
  },
  {
   "cell_type": "markdown",
   "id": "36a1ad8a",
   "metadata": {},
   "source": [
    "The new methods potentially allows us to ignore the centering calculation."
   ]
  },
  {
   "cell_type": "code",
   "execution_count": 399,
   "id": "3d2bfdc7",
   "metadata": {},
   "outputs": [
    {
     "name": "stdout",
     "output_type": "stream",
     "text": [
      "NEW METHOD\n",
      "INNER = 406006560.0 | TIME = 0.003192901611328125s\n"
     ]
    }
   ],
   "source": [
    "# New Method\n",
    "start = time.time()\n",
    "v = phi.T.matmul(y.float())\n",
    "inner = v.T @ v\n",
    "end = time.time()\n",
    "print(\"NEW METHOD\")\n",
    "print(f\"INNER = {inner.item()} | TIME = {end - start}s\")"
   ]
  },
  {
   "cell_type": "code",
   "execution_count": 402,
   "id": "fc68c343",
   "metadata": {},
   "outputs": [
    {
     "name": "stdout",
     "output_type": "stream",
     "text": [
      "OLD METHOD\n",
      "INNER = 406006848.0 | TIME = 57.78049302101135s\n"
     ]
    }
   ],
   "source": [
    "# Old Method\n",
    "start = time.time()\n",
    "K1 = y @ y.T\n",
    "K1 = K1.float()\n",
    "K2 = phi @ phi.T\n",
    "inner = torch.trace(torch.mm(K2, torch.t(K1)))\n",
    "end = time.time()\n",
    "print(\"OLD METHOD\")\n",
    "print(f\"INNER = {inner} | TIME = {end - start}s\")"
   ]
  },
  {
   "cell_type": "code",
   "execution_count": 403,
   "id": "c2d85af1",
   "metadata": {},
   "outputs": [
    {
     "data": {
      "text/plain": [
       "tensor(4.0601e+08, grad_fn=<TraceBackward0>)"
      ]
     },
     "execution_count": 403,
     "metadata": {},
     "output_type": "execute_result"
    }
   ],
   "source": [
    "inner"
   ]
  },
  {
   "cell_type": "code",
   "execution_count": 404,
   "id": "79ba6d66",
   "metadata": {},
   "outputs": [
    {
     "data": {
      "text/plain": [
       "tensor(4.0601e+08, grad_fn=<TraceBackward0>)"
      ]
     },
     "execution_count": 404,
     "metadata": {},
     "output_type": "execute_result"
    }
   ],
   "source": [
    "y = y.float()\n",
    "torch.trace(torch.mm(phi @ phi.T, (y @ y.T).T))"
   ]
  },
  {
   "cell_type": "markdown",
   "id": "8fe5df06",
   "metadata": {},
   "source": [
    "According to this new finding we can decrease computation time for the frobenius product by 3307.0 multiplier!!"
   ]
  },
  {
   "cell_type": "markdown",
   "id": "ec48d259",
   "metadata": {},
   "source": [
    "### Translating this into HSIC"
   ]
  },
  {
   "cell_type": "code",
   "execution_count": 405,
   "id": "31780199",
   "metadata": {},
   "outputs": [],
   "source": [
    "def HSIC(K1, K2):\n",
    "    num = torch.trace(torch.mm(K2, K1.T))\n",
    "    den = (len(K2) - 1) * (len(K1) - 1)\n",
    "    return num / den"
   ]
  },
  {
   "cell_type": "code",
   "execution_count": 406,
   "id": "af84b136",
   "metadata": {},
   "outputs": [
    {
     "name": "stdout",
     "output_type": "stream",
     "text": [
      "CLASSIC HSIC\n",
      "HSCI = 2.5315794944763184 | TIME = 51.769274950027466s\n"
     ]
    }
   ],
   "source": [
    "start = time.time()\n",
    "test = HSIC(K1, K2)\n",
    "end = time.time()\n",
    "print(\"CLASSIC HSIC\")\n",
    "print(f\"HSCI = {test} | TIME = {end - start}s\")"
   ]
  },
  {
   "cell_type": "code",
   "execution_count": null,
   "id": "7176d409",
   "metadata": {},
   "outputs": [],
   "source": [
    "start = time.time()\n",
    "v = phi.T.matmul(y.float())\n",
    "test = v.T @ v / (((len(y) - 1) * (len(phi) - 1)))\n",
    "end = time.time()\n",
    "print(\"NEW HSIC\")\n",
    "print(f\"NEW HSIC = {test.item()} | TIME = {end - start}s\")"
   ]
  },
  {
   "cell_type": "markdown",
   "id": "6fa945bb",
   "metadata": {},
   "source": [
    "It's of no suprize here that the old methods is much much slower to the same scale as previous."
   ]
  },
  {
   "cell_type": "markdown",
   "id": "59325ddb",
   "metadata": {},
   "source": [
    "### Implementing This Findining Into CKA"
   ]
  },
  {
   "cell_type": "code",
   "execution_count": null,
   "id": "cc30f758",
   "metadata": {},
   "outputs": [],
   "source": [
    "def cka(y, phi):\n",
    "    \n",
    "    # Centering y\n",
    "    n_y = len(y)\n",
    "    ones_y = torch.ones(n_y, 1)\n",
    "    yc = torch.eye(n_y) - (ones_y @ ones_y.T @ y) / n_y\n",
    "    \n",
    "    # Centering phi\n",
    "    n_phi = len(phi)\n",
    "    ones_phi = torch.ones(n_phi, 1)\n",
    "    phic = torch.eye(n_phi) - (ones_phi @ ones_phi @ y) / n_phi\n",
    "    \n",
    "    # CKA \n",
    "    # Numerator HSIC(K_y, K_phi)\n",
    "    upper = (phic.T @ yc).T @ (phic.T @ yc) / torch.sqrt((n_y - 1)*(n_phi -1))\n",
    "    # Demonerator sqrt(HSIC(K_y, K_y) * HSIC(K_phi, K_phi))\n",
    "    lower = torch.sqrt()"
   ]
  },
  {
   "cell_type": "markdown",
   "id": "46819675",
   "metadata": {},
   "source": [
    "### Creating CKA function with this new method"
   ]
  },
  {
   "cell_type": "code",
   "execution_count": null,
   "id": "4c9090df",
   "metadata": {},
   "outputs": [],
   "source": [
    "import math"
   ]
  },
  {
   "cell_type": "code",
   "execution_count": 519,
   "id": "69698a87",
   "metadata": {},
   "outputs": [
    {
     "name": "stdout",
     "output_type": "stream",
     "text": [
      "NEW CKA\n",
      "CKA = 0.9399687647819519 | TIME = 3.0141968727111816s\n"
     ]
    }
   ],
   "source": [
    "start = time.time()\n",
    "phic = kernel_centering(phi)\n",
    "yc = vector_centering(y)\n",
    "v = phic.T.matmul(yc)\n",
    "u = (v.T @ v)\n",
    "d = torch.norm(yc @ yc.T, ) * torch.norm(phic.T @ phic)\n",
    "test = u / d\n",
    "end = time.time()\n",
    "print(\"NEW CKA\")\n",
    "print(f\"CKA = {test.item()} | TIME = {end - start}s\")"
   ]
  },
  {
   "cell_type": "code",
   "execution_count": 461,
   "id": "93c73cae",
   "metadata": {},
   "outputs": [
    {
     "data": {
      "text/plain": [
       "tensor(3030.9622)"
      ]
     },
     "execution_count": 461,
     "metadata": {},
     "output_type": "execute_result"
    }
   ],
   "source": [
    "torch.norm(yc @ yc.T)"
   ]
  },
  {
   "cell_type": "code",
   "execution_count": 470,
   "id": "1ab0fb27",
   "metadata": {},
   "outputs": [
    {
     "data": {
      "text/plain": [
       "tensor(40446.1602, grad_fn=<LinalgVectorNormBackward0>)"
      ]
     },
     "execution_count": 470,
     "metadata": {},
     "output_type": "execute_result"
    }
   ],
   "source": [
    "torch.norm(phic @ phic.T)"
   ]
  },
  {
   "cell_type": "code",
   "execution_count": null,
   "id": "6f84b40b",
   "metadata": {},
   "outputs": [],
   "source": [
    "40926.1641"
   ]
  },
  {
   "cell_type": "code",
   "execution_count": 449,
   "id": "3f355cfa",
   "metadata": {},
   "outputs": [
    {
     "data": {
      "text/plain": [
       "tensor(40926.1641, grad_fn=<LinalgVectorNormBackward0>)"
      ]
     },
     "execution_count": 449,
     "metadata": {},
     "output_type": "execute_result"
    }
   ],
   "source": [
    "torch.norm(phic.T @ phic)"
   ]
  },
  {
   "cell_type": "markdown",
   "id": "1c23167b",
   "metadata": {},
   "source": [
    "### Norm Trick?"
   ]
  },
  {
   "cell_type": "markdown",
   "id": "a8441795",
   "metadata": {},
   "source": [
    "For the case of the 'y' vector, finding a faseter method for finding the kernel norn is trivial, for the sake of time I simply state that it is the dot product.\n",
    "\n",
    "However it gets more complicated for the case of phi..."
   ]
  },
  {
   "cell_type": "code",
   "execution_count": 411,
   "id": "0006bcf2",
   "metadata": {},
   "outputs": [
    {
     "name": "stdout",
     "output_type": "stream",
     "text": [
      "NORM: 129059912.0 |TOTAL TIME: 4.514939069747925s\n"
     ]
    }
   ],
   "source": [
    "start = time.time()\n",
    "meany =  torch.sqrt(torch.sum(torch.norm(yc.T @ yc, dim=1)**2))\n",
    "meanphi = torch.sqrt(torch.sum(torch.norm(phic @ phic.T, dim=1)**2))\n",
    "mnorm = meany * meanphi\n",
    "end = time.time()\n",
    "print(f\"NORM: {mnorm} |TOTAL TIME: {end - start}s\")"
   ]
  },
  {
   "cell_type": "code",
   "execution_count": 412,
   "id": "c6d4a6b4",
   "metadata": {
    "scrolled": true
   },
   "outputs": [
    {
     "data": {
      "text/plain": [
       "40929.58984375"
      ]
     },
     "execution_count": 412,
     "metadata": {},
     "output_type": "execute_result"
    }
   ],
   "source": [
    "# Mean of PHI\n",
    "meanphi.item()"
   ]
  },
  {
   "cell_type": "code",
   "execution_count": 413,
   "id": "3f663744",
   "metadata": {},
   "outputs": [
    {
     "name": "stdout",
     "output_type": "stream",
     "text": [
      "NORM: 129059912.0 |TOTAL TIME: 0.37685585021972656s\n"
     ]
    }
   ],
   "source": [
    "start = time.time()\n",
    "meany = yc.T @ yc\n",
    "meanphi = torch.sqrt(torch.sum((phic.T @ phic)**2))\n",
    "# Compute the product of the norms\n",
    "mnorm = meany * meanphi\n",
    "end = time.time()\n",
    "print(f\"NORM: {mnorm.item()} |TOTAL TIME: {end - start}s\")"
   ]
  },
  {
   "cell_type": "code",
   "execution_count": 414,
   "id": "712040d9",
   "metadata": {},
   "outputs": [],
   "source": [
    "K1_NORM = 3029.86279296875\n",
    "K2_NORM = 40491.578125"
   ]
  },
  {
   "cell_type": "code",
   "execution_count": 415,
   "id": "1b695cb9",
   "metadata": {},
   "outputs": [
    {
     "data": {
      "text/plain": [
       "122683925.98952484"
      ]
     },
     "execution_count": 415,
     "metadata": {},
     "output_type": "execute_result"
    }
   ],
   "source": [
    "K1_NORM * K2_NORM"
   ]
  },
  {
   "cell_type": "code",
   "execution_count": 416,
   "id": "938d2212",
   "metadata": {},
   "outputs": [
    {
     "data": {
      "text/plain": [
       "tensor(3030.9622)"
      ]
     },
     "execution_count": 416,
     "metadata": {},
     "output_type": "execute_result"
    }
   ],
   "source": [
    "torch.norm(vector_centering(y) @ vector_centering(y).T)"
   ]
  },
  {
   "cell_type": "code",
   "execution_count": 417,
   "id": "6be7d432",
   "metadata": {},
   "outputs": [
    {
     "data": {
      "text/plain": [
       "tensor(3153.0725)"
      ]
     },
     "execution_count": 417,
     "metadata": {},
     "output_type": "execute_result"
    }
   ],
   "source": [
    "torch.norm(yc.T) ** 2"
   ]
  },
  {
   "cell_type": "markdown",
   "id": "1b4dc2c9",
   "metadata": {},
   "source": [
    "### Testing Norm Calc For Vector"
   ]
  },
  {
   "cell_type": "code",
   "execution_count": 418,
   "id": "4f690480",
   "metadata": {},
   "outputs": [],
   "source": [
    "t = torch.tensor([1, 2, 3, 4])"
   ]
  },
  {
   "cell_type": "code",
   "execution_count": 419,
   "id": "c14d1d54",
   "metadata": {},
   "outputs": [],
   "source": [
    "t = t.unsqueeze(-1).float()"
   ]
  },
  {
   "cell_type": "code",
   "execution_count": 420,
   "id": "508bf3ab",
   "metadata": {},
   "outputs": [
    {
     "data": {
      "text/plain": [
       "tensor([[30.]])"
      ]
     },
     "execution_count": 420,
     "metadata": {},
     "output_type": "execute_result"
    }
   ],
   "source": [
    "t.T @ t"
   ]
  },
  {
   "cell_type": "code",
   "execution_count": 421,
   "id": "7b144f8a",
   "metadata": {},
   "outputs": [
    {
     "data": {
      "text/plain": [
       "tensor(30.)"
      ]
     },
     "execution_count": 421,
     "metadata": {},
     "output_type": "execute_result"
    }
   ],
   "source": [
    "torch.norm(t @ t.T)"
   ]
  },
  {
   "cell_type": "code",
   "execution_count": 422,
   "id": "451dd920",
   "metadata": {},
   "outputs": [
    {
     "data": {
      "text/plain": [
       "tensor(30.0000)"
      ]
     },
     "execution_count": 422,
     "metadata": {},
     "output_type": "execute_result"
    }
   ],
   "source": [
    "torch.norm(t) ** 2"
   ]
  },
  {
   "cell_type": "markdown",
   "id": "1c4b44d0",
   "metadata": {},
   "source": [
    "So this means that all the above a are equal??"
   ]
  },
  {
   "cell_type": "markdown",
   "id": "7cc92949",
   "metadata": {},
   "source": [
    "### Testing Norm Calc For Matrix"
   ]
  },
  {
   "cell_type": "code",
   "execution_count": 443,
   "id": "eb36c5f6",
   "metadata": {},
   "outputs": [],
   "source": [
    "T = torch.randint(low=-1000, high=1000, size=(100000, 10000), dtype=torch.float)"
   ]
  },
  {
   "cell_type": "code",
   "execution_count": null,
   "id": "6b245d76",
   "metadata": {
    "scrolled": false
   },
   "outputs": [],
   "source": [
    "T.T @ T"
   ]
  },
  {
   "cell_type": "code",
   "execution_count": null,
   "id": "11906934",
   "metadata": {},
   "outputs": [],
   "source": [
    "start = time.time()\n",
    "torch.norm(phic.T @ phic)\n",
    "end = time.time()\n",
    "print(end - start)"
   ]
  },
  {
   "cell_type": "code",
   "execution_count": null,
   "id": "171290ac",
   "metadata": {},
   "outputs": [],
   "source": []
  },
  {
   "cell_type": "code",
   "execution_count": 436,
   "id": "d88c9bd7",
   "metadata": {
    "scrolled": false
   },
   "outputs": [
    {
     "data": {
      "text/plain": [
       "tensor(1.1062e+11)"
      ]
     },
     "execution_count": 436,
     "metadata": {},
     "output_type": "execute_result"
    }
   ],
   "source": [
    "\n",
    "torch.norm(torch.mm(T.T, T))"
   ]
  },
  {
   "cell_type": "code",
   "execution_count": 437,
   "id": "4595cf39",
   "metadata": {},
   "outputs": [
    {
     "name": "stdout",
     "output_type": "stream",
     "text": [
      "tensor(5.9769e+13)\n"
     ]
    }
   ],
   "source": [
    "import torch\n",
    "\n",
    "X = T\n",
    "# Assume X is a tensor of size (100, 1000)\n",
    "batch_size, height_width = X.size()\n",
    "\n",
    "# Reshape X to be a matrix of size (batch_size, height_width)\n",
    "X_reshaped = X.view(batch_size, height_width)\n",
    "\n",
    "# Compute the norms of the rows of X\n",
    "row_norms = torch.norm(X_reshaped, dim=1)\n",
    "\n",
    "# Compute the norm of the Gram matrix\n",
    "norm = torch.norm(torch.mm(X_reshaped, X_reshaped.t())) ** 2 / (batch_size ** 2) / 2\n",
    "\n",
    "print(norm)\n"
   ]
  },
  {
   "cell_type": "code",
   "execution_count": null,
   "id": "c95b16a8",
   "metadata": {},
   "outputs": [],
   "source": []
  },
  {
   "cell_type": "code",
   "execution_count": null,
   "id": "09bc392d",
   "metadata": {},
   "outputs": [],
   "source": []
  },
  {
   "cell_type": "code",
   "execution_count": null,
   "id": "e707a172",
   "metadata": {},
   "outputs": [],
   "source": []
  }
 ],
 "metadata": {
  "kernelspec": {
   "display_name": "Python 3 (ipykernel)",
   "language": "python",
   "name": "python3"
  },
  "language_info": {
   "codemirror_mode": {
    "name": "ipython",
    "version": 3
   },
   "file_extension": ".py",
   "mimetype": "text/x-python",
   "name": "python",
   "nbconvert_exporter": "python",
   "pygments_lexer": "ipython3",
   "version": "3.11.1"
  }
 },
 "nbformat": 4,
 "nbformat_minor": 5
}
