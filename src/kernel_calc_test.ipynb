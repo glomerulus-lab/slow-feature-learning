{
 "cells": [
  {
   "cell_type": "markdown",
   "id": "e910c461",
   "metadata": {},
   "source": [
    "# Kernel Calculation Test\n",
    "This notebook is used to test the functionality of the kernel calc methods that (if working) will be rewritten in Python script."
   ]
  },
  {
   "cell_type": "code",
   "execution_count": 13,
   "id": "a7abf607",
   "metadata": {
    "scrolled": false
   },
   "outputs": [],
   "source": [
    "import torch\n",
    "import resources as rs"
   ]
  },
  {
   "cell_type": "markdown",
   "id": "d587053d",
   "metadata": {},
   "source": [
    "### Loading Model Data"
   ]
  },
  {
   "cell_type": "code",
   "execution_count": 14,
   "id": "a553232c",
   "metadata": {},
   "outputs": [],
   "source": [
    "model_path = 'ex_models.pt'\n",
    "state_dict = torch.load(model_path, map_location=torch.device('cpu')) # MODEL"
   ]
  },
  {
   "cell_type": "markdown",
   "id": "c959e794",
   "metadata": {},
   "source": [
    "### Unpacking the params"
   ]
  },
  {
   "cell_type": "markdown",
   "id": "9008a912",
   "metadata": {},
   "source": [
    "**NOTE:** \n",
    "The model was trained on the MNIST digits of 0 1"
   ]
  },
  {
   "cell_type": "markdown",
   "id": "b4b480b9",
   "metadata": {},
   "source": [
    "Unpacking the features params"
   ]
  },
  {
   "cell_type": "code",
   "execution_count": 15,
   "id": "b943de91",
   "metadata": {
    "scrolled": true
   },
   "outputs": [
    {
     "name": "stdout",
     "output_type": "stream",
     "text": [
      "tensor([[ 0.0212, -0.0311, -0.0050,  ..., -0.0343, -0.0193,  0.0000],\n",
      "        [ 0.0112, -0.0050,  0.0149,  ..., -0.0093, -0.0106,  0.0336],\n",
      "        [-0.0324, -0.0006, -0.0062,  ...,  0.0311,  0.0137, -0.0324],\n",
      "        ...,\n",
      "        [-0.0305,  0.0168, -0.0293,  ...,  0.0237, -0.0280, -0.0112],\n",
      "        [-0.0349,  0.0056, -0.0174,  ..., -0.0093, -0.0031,  0.0212],\n",
      "        [ 0.0349,  0.0168, -0.0206,  ..., -0.0149,  0.0044, -0.0187]])\n",
      "Parameter containing:\n",
      "tensor([ 0.0235, -0.0103, -0.0210,  ..., -0.0244,  0.0028, -0.0313],\n",
      "       grad_fn=<NotImplemented>)\n"
     ]
    }
   ],
   "source": [
    "import torch.nn as nn\n",
    "\n",
    "# get the weights and biases of the quantized model (for the features layer)\n",
    "f_weights_quant = state_dict['features.hidden_layer._packed_params._packed_params'][0]\n",
    "f_bias_quant = state_dict['features.hidden_layer._packed_params._packed_params'][1]\n",
    "\n",
    "# dequantize the weights and biases\n",
    "f_weights_float = torch.dequantize(f_weights_quant)\n",
    "f_bias_float = torch.dequantize(f_bias_quant)\n",
    "# print the float values of weights and biases\n",
    "print(f_weights_float)\n",
    "print(f_bias_float)"
   ]
  },
  {
   "cell_type": "markdown",
   "id": "7db32b1a",
   "metadata": {},
   "source": [
    "Unpacking the readout params."
   ]
  },
  {
   "cell_type": "code",
   "execution_count": 16,
   "id": "d42817aa",
   "metadata": {},
   "outputs": [
    {
     "name": "stdout",
     "output_type": "stream",
     "text": [
      "tensor([[ 0.0219,  0.0389,  0.0024,  ..., -0.0073,  0.0182, -0.0158],\n",
      "        [-0.0195, -0.0219, -0.0024,  ...,  0.0073, -0.0170,  0.0134]])\n",
      "Parameter containing:\n",
      "tensor([0.4623, 0.4824], grad_fn=<NotImplemented>)\n"
     ]
    }
   ],
   "source": [
    "# get the weights and biases of the quantized model (for the readout layer)\n",
    "r_weights_quant = state_dict['readout._packed_params._packed_params'][0]\n",
    "r_bias_quant = state_dict['readout._packed_params._packed_params'][1]\n",
    "\n",
    "# dequantize the weights and bises\n",
    "r_weights_float = torch.dequantize(r_weights_quant)\n",
    "r_bias_float = torch.dequantize(r_bias_quant)\n",
    "\n",
    "print(r_weights_float)\n",
    "print(r_bias_float)"
   ]
  },
  {
   "cell_type": "markdown",
   "id": "4cb6db2f",
   "metadata": {},
   "source": [
    "### Manually updating the model"
   ]
  },
  {
   "cell_type": "code",
   "execution_count": 17,
   "id": "e839021f",
   "metadata": {
    "scrolled": true
   },
   "outputs": [
    {
     "data": {
      "text/plain": [
       "NN(\n",
       "  (features): Sequential(\n",
       "    (hidden_layer): Linear(in_features=784, out_features=2048, bias=True)\n",
       "    (hidden_activation): ReLU()\n",
       "  )\n",
       "  (readout): Linear(in_features=2048, out_features=2, bias=True)\n",
       ")"
      ]
     },
     "execution_count": 17,
     "metadata": {},
     "output_type": "execute_result"
    }
   ],
   "source": [
    "model = rs.NN()\n",
    "model"
   ]
  },
  {
   "cell_type": "code",
   "execution_count": 18,
   "id": "7ab638b6",
   "metadata": {},
   "outputs": [
    {
     "data": {
      "text/plain": [
       "[Parameter containing:\n",
       " tensor([[-0.0131, -0.0337, -0.0328,  ...,  0.0347, -0.0070,  0.0193],\n",
       "         [ 0.0064, -0.0243, -0.0212,  ..., -0.0205, -0.0091,  0.0355],\n",
       "         [-0.0175, -0.0312, -0.0089,  ..., -0.0182, -0.0322, -0.0102],\n",
       "         ...,\n",
       "         [-0.0299,  0.0289,  0.0093,  ..., -0.0277, -0.0058,  0.0048],\n",
       "         [-0.0191, -0.0097, -0.0204,  ..., -0.0277,  0.0094,  0.0182],\n",
       "         [ 0.0283,  0.0018,  0.0134,  ...,  0.0321,  0.0254, -0.0120]],\n",
       "        requires_grad=True),\n",
       " Parameter containing:\n",
       " tensor([ 0.0234, -0.0305,  0.0227,  ..., -0.0006, -0.0104, -0.0256],\n",
       "        requires_grad=True),\n",
       " Parameter containing:\n",
       " tensor([[ 0.0176, -0.0018, -0.0044,  ..., -0.0051, -0.0119, -0.0023],\n",
       "         [ 0.0138, -0.0057,  0.0194,  ...,  0.0196,  0.0038,  0.0147]],\n",
       "        requires_grad=True),\n",
       " Parameter containing:\n",
       " tensor([-0.0073,  0.0175], requires_grad=True)]"
      ]
     },
     "execution_count": 18,
     "metadata": {},
     "output_type": "execute_result"
    }
   ],
   "source": [
    "params = list(model.parameters())\n",
    "params"
   ]
  },
  {
   "cell_type": "code",
   "execution_count": 19,
   "id": "9a3a705a",
   "metadata": {},
   "outputs": [],
   "source": [
    "params[0].data = f_weights_float\n",
    "params[1].data = f_bias_float\n",
    "params[2].data = r_weights_float\n",
    "params[3].data = r_bias_float"
   ]
  },
  {
   "cell_type": "markdown",
   "id": "a12e4324",
   "metadata": {},
   "source": [
    "### Loading MNIST dataset"
   ]
  },
  {
   "cell_type": "code",
   "execution_count": 20,
   "id": "dec70228",
   "metadata": {},
   "outputs": [],
   "source": [
    "import torchvision.datasets as datasets\n",
    "import torchvision.transforms as transforms\n",
    "from torch.utils.data import DataLoader\n",
    "def mnist_dataset(batch_size, train=True, values=list(range(10))):\n",
    "    # Initializing MNIST data set.\n",
    "    dataset = datasets.MNIST(root='dataset/', train=train, transform=transforms.ToTensor(), download=True)\n",
    "\n",
    "    targets_list = dataset.targets.tolist()\n",
    "    values_index = [i for i in range(len(dataset)) if targets_list[i] in values]\n",
    "\n",
    "    # Creating a subset of ### MNIST targets.\n",
    "    subset = torch.utils.data.Subset(dataset, values_index)\n",
    "    loader = DataLoader(dataset=subset, shuffle=True)\n",
    "\n",
    "    return loader"
   ]
  },
  {
   "cell_type": "code",
   "execution_count": 27,
   "id": "4caae1ea",
   "metadata": {},
   "outputs": [],
   "source": [
    "MNIST = rs.mnist_dataset(batch_size=0, train=True, values=[0,1])\n",
    "data, targets = next(iter(MNIST))"
   ]
  },
  {
   "cell_type": "markdown",
   "id": "e27280bf",
   "metadata": {},
   "source": [
    "Next, in order to perform the CKA calc. we will need to reshape the data into a batch_size X features tenso (12665, 784)."
   ]
  },
  {
   "cell_type": "code",
   "execution_count": 28,
   "id": "c83b98bf",
   "metadata": {},
   "outputs": [
    {
     "data": {
      "text/plain": [
       "torch.Size([12665, 784])"
      ]
     },
     "execution_count": 28,
     "metadata": {},
     "output_type": "execute_result"
    }
   ],
   "source": [
    "data = torch.squeeze(data, dim=1)\n",
    "data = data.view(data.size(0), -1)\n",
    "data.shape"
   ]
  },
  {
   "cell_type": "markdown",
   "id": "e5b43ea1",
   "metadata": {},
   "source": [
    "### CKA Calc.\n",
    "At this point we can now calculate the CKA for the model state."
   ]
  },
  {
   "cell_type": "code",
   "execution_count": 29,
   "id": "af095310",
   "metadata": {},
   "outputs": [
    {
     "data": {
      "text/plain": [
       "torch.Size([12665, 1024])"
      ]
     },
     "execution_count": 29,
     "metadata": {},
     "output_type": "execute_result"
    }
   ],
   "source": [
    "model.features(data).shape"
   ]
  },
  {
   "cell_type": "code",
   "execution_count": 30,
   "id": "7c4e4932",
   "metadata": {},
   "outputs": [
    {
     "data": {
      "text/plain": [
       "tensor(0.9510, grad_fn=<DivBackward0>)"
      ]
     },
     "execution_count": 30,
     "metadata": {},
     "output_type": "execute_result"
    }
   ],
   "source": [
    "rs.kernel_calc(targets, model.features(data))"
   ]
  },
  {
   "cell_type": "markdown",
   "id": "95b7f3b6",
   "metadata": {},
   "source": [
    "#TODO using this notebook create a python script that will do this for each of the model states (135 * 512)..."
   ]
  }
 ],
 "metadata": {
  "kernelspec": {
   "display_name": "Python 3 (ipykernel)",
   "language": "python",
   "name": "python3"
  },
  "language_info": {
   "codemirror_mode": {
    "name": "ipython",
    "version": 3
   },
   "file_extension": ".py",
   "mimetype": "text/x-python",
   "name": "python",
   "nbconvert_exporter": "python",
   "pygments_lexer": "ipython3",
   "version": "3.10.9"
  }
 },
 "nbformat": 4,
 "nbformat_minor": 5
}
