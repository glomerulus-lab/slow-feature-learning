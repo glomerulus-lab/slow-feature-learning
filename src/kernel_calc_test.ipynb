{
 "cells": [
  {
   "cell_type": "markdown",
   "id": "e910c461",
   "metadata": {},
   "source": [
    "# Kernel Calculation Test\n",
    "This notebook is used to test the functionality of the kernel calc methods that (if working) will be rewritten in Python script."
   ]
  },
  {
   "cell_type": "code",
   "execution_count": 1,
   "id": "a7abf607",
   "metadata": {
    "scrolled": false
   },
   "outputs": [
    {
     "ename": "ModuleNotFoundError",
     "evalue": "No module named 'torchvision'",
     "output_type": "error",
     "traceback": [
      "\u001b[0;31m---------------------------------------------------------------------------\u001b[0m",
      "\u001b[0;31mModuleNotFoundError\u001b[0m                       Traceback (most recent call last)",
      "Cell \u001b[0;32mIn[1], line 2\u001b[0m\n\u001b[1;32m      1\u001b[0m \u001b[38;5;28;01mimport\u001b[39;00m \u001b[38;5;21;01mtorch\u001b[39;00m\n\u001b[0;32m----> 2\u001b[0m \u001b[38;5;28;01mimport\u001b[39;00m \u001b[38;5;21;01mresources\u001b[39;00m \u001b[38;5;28;01mas\u001b[39;00m \u001b[38;5;21;01mrs\u001b[39;00m\n",
      "File \u001b[0;32m/research/harris/cameron_kaminski/slow-feature-learning/src/resources/__init__.py:7\u001b[0m\n\u001b[1;32m      1\u001b[0m \u001b[38;5;66;03m#\u001b[39;00m\n\u001b[1;32m      2\u001b[0m \u001b[38;5;66;03m# RESOURCE FILE\u001b[39;00m\n\u001b[1;32m      3\u001b[0m \u001b[38;5;66;03m# By : CAMERON KAMINSKI\u001b[39;00m\n\u001b[1;32m      4\u001b[0m \u001b[38;5;66;03m#\u001b[39;00m\n\u001b[1;32m      6\u001b[0m \u001b[38;5;28;01mfrom\u001b[39;00m \u001b[38;5;21;01m.\u001b[39;00m\u001b[38;5;21;01mnetwork\u001b[39;00m \u001b[38;5;28;01mimport\u001b[39;00m NN\n\u001b[0;32m----> 7\u001b[0m \u001b[38;5;28;01mfrom\u001b[39;00m \u001b[38;5;21;01m.\u001b[39;00m\u001b[38;5;21;01mnetwork_functions\u001b[39;00m \u001b[38;5;28;01mimport\u001b[39;00m \u001b[38;5;241m*\u001b[39m\n\u001b[1;32m      8\u001b[0m \u001b[38;5;28;01mfrom\u001b[39;00m \u001b[38;5;21;01m.\u001b[39;00m\u001b[38;5;21;01margparser\u001b[39;00m \u001b[38;5;28;01mimport\u001b[39;00m parseHyperparams\n\u001b[1;32m      9\u001b[0m \u001b[38;5;28;01mfrom\u001b[39;00m \u001b[38;5;21;01m.\u001b[39;00m\u001b[38;5;21;01mcka_calc\u001b[39;00m \u001b[38;5;28;01mimport\u001b[39;00m \u001b[38;5;241m*\u001b[39m\n",
      "File \u001b[0;32m/research/harris/cameron_kaminski/slow-feature-learning/src/resources/network_functions.py:3\u001b[0m\n\u001b[1;32m      1\u001b[0m \u001b[38;5;28;01mimport\u001b[39;00m \u001b[38;5;21;01mtorch\u001b[39;00m  \u001b[38;5;66;03m# Base torch library\u001b[39;00m\n\u001b[1;32m      2\u001b[0m \u001b[38;5;28;01mfrom\u001b[39;00m \u001b[38;5;21;01mtorch\u001b[39;00m\u001b[38;5;21;01m.\u001b[39;00m\u001b[38;5;21;01mutils\u001b[39;00m\u001b[38;5;21;01m.\u001b[39;00m\u001b[38;5;21;01mdata\u001b[39;00m \u001b[38;5;28;01mimport\u001b[39;00m DataLoader  \u001b[38;5;66;03m# Minibathces\u001b[39;00m\n\u001b[0;32m----> 3\u001b[0m \u001b[38;5;28;01mimport\u001b[39;00m \u001b[38;5;21;01mtorchvision\u001b[39;00m\u001b[38;5;21;01m.\u001b[39;00m\u001b[38;5;21;01mdatasets\u001b[39;00m \u001b[38;5;28;01mas\u001b[39;00m \u001b[38;5;21;01mdatasets\u001b[39;00m  \u001b[38;5;66;03m# MNIST dataset\u001b[39;00m\n\u001b[1;32m      4\u001b[0m \u001b[38;5;28;01mimport\u001b[39;00m \u001b[38;5;21;01mtorchvision\u001b[39;00m\u001b[38;5;21;01m.\u001b[39;00m\u001b[38;5;21;01mtransforms\u001b[39;00m \u001b[38;5;28;01mas\u001b[39;00m \u001b[38;5;21;01mtransforms\u001b[39;00m\n\u001b[1;32m      5\u001b[0m \u001b[38;5;28;01mimport\u001b[39;00m \u001b[38;5;21;01mnumpy\u001b[39;00m \u001b[38;5;28;01mas\u001b[39;00m \u001b[38;5;21;01mnp\u001b[39;00m\n",
      "\u001b[0;31mModuleNotFoundError\u001b[0m: No module named 'torchvision'"
     ]
    }
   ],
   "source": [
    "import torch\n",
    "import resources as rs"
   ]
  },
  {
   "cell_type": "markdown",
   "id": "d587053d",
   "metadata": {},
   "source": [
    "### Loading Model Data"
   ]
  },
  {
   "cell_type": "code",
   "execution_count": null,
   "id": "a553232c",
   "metadata": {},
   "outputs": [],
   "source": [
    "model_path = 'ex_models.pt'\n",
    "state_dict = torch.load(model_path, map_location=torch.device('cpu')) # MODEL"
   ]
  },
  {
   "cell_type": "markdown",
   "id": "c959e794",
   "metadata": {},
   "source": [
    "### Unpacking the params"
   ]
  },
  {
   "cell_type": "markdown",
   "id": "9008a912",
   "metadata": {},
   "source": [
    "**NOTE:** \n",
    "The model was trained on the MNIST digits of 0 1"
   ]
  },
  {
   "cell_type": "markdown",
   "id": "b4b480b9",
   "metadata": {},
   "source": [
    "Unpacking the features params"
   ]
  },
  {
   "cell_type": "code",
   "execution_count": null,
   "id": "b943de91",
   "metadata": {
    "scrolled": true
   },
   "outputs": [],
   "source": [
    "import torch.nn as nn\n",
    "\n",
    "# get the weights and biases of the quantized model (for the features layer)\n",
    "f_weights_quant = state_dict['features.hidden_layer._packed_params._packed_params'][0]\n",
    "f_bias_quant = state_dict['features.hidden_layer._packed_params._packed_params'][1]\n",
    "\n",
    "# dequantize the weights and biases\n",
    "f_weights_float = torch.dequantize(f_weights_quant)\n",
    "f_bias_float = torch.dequantize(f_bias_quant)\n",
    "# print the float values of weights and biases\n",
    "print(f_weights_float)\n",
    "print(f_bias_float)"
   ]
  },
  {
   "cell_type": "markdown",
   "id": "7db32b1a",
   "metadata": {},
   "source": [
    "Unpacking the readout params."
   ]
  },
  {
   "cell_type": "code",
   "execution_count": null,
   "id": "d42817aa",
   "metadata": {},
   "outputs": [],
   "source": [
    "# get the weights and biases of the quantized model (for the readout layer)\n",
    "r_weights_quant = state_dict['readout._packed_params._packed_params'][0]\n",
    "r_bias_quant = state_dict['readout._packed_params._packed_params'][1]\n",
    "\n",
    "# dequantize the weights and bises\n",
    "r_weights_float = torch.dequantize(r_weights_quant)\n",
    "r_bias_float = torch.dequantize(r_bias_quant)\n",
    "\n",
    "print(r_weights_float)\n",
    "print(r_bias_float)"
   ]
  },
  {
   "cell_type": "markdown",
   "id": "4cb6db2f",
   "metadata": {},
   "source": [
    "### Manually updating the model"
   ]
  },
  {
   "cell_type": "code",
   "execution_count": null,
   "id": "e839021f",
   "metadata": {
    "scrolled": true
   },
   "outputs": [],
   "source": [
    "model = rs.NN()\n",
    "model"
   ]
  },
  {
   "cell_type": "code",
   "execution_count": null,
   "id": "7ab638b6",
   "metadata": {},
   "outputs": [],
   "source": [
    "params = list(model.parameters())\n",
    "params"
   ]
  },
  {
   "cell_type": "code",
   "execution_count": null,
   "id": "9a3a705a",
   "metadata": {},
   "outputs": [],
   "source": [
    "params[0].data = f_weights_float\n",
    "params[1].data = f_bias_float\n",
    "params[2].data = r_weights_float\n",
    "params[3].data = r_bias_float"
   ]
  },
  {
   "cell_type": "markdown",
   "id": "a12e4324",
   "metadata": {},
   "source": [
    "### Loading MNIST dataset"
   ]
  },
  {
   "cell_type": "code",
   "execution_count": null,
   "id": "dec70228",
   "metadata": {},
   "outputs": [],
   "source": [
    "import torchvision.datasets as datasets\n",
    "import torchvision.transforms as transforms\n",
    "from torch.utils.data import DataLoader\n",
    "def mnist_dataset(batch_size, train=True, values=list(range(10))):\n",
    "    # Initializing MNIST data set.\n",
    "    dataset = datasets.MNIST(root='dataset/', train=train, transform=transforms.ToTensor(), download=True)\n",
    "\n",
    "    targets_list = dataset.targets.tolist()\n",
    "    values_index = [i for i in range(len(dataset)) if targets_list[i] in values]\n",
    "\n",
    "    # Creating a subset of ### MNIST targets.\n",
    "    subset = torch.utils.data.Subset(dataset, values_index)\n",
    "    loader = DataLoader(dataset=subset, shuffle=True)\n",
    "\n",
    "    return loader"
   ]
  },
  {
   "cell_type": "code",
   "execution_count": null,
   "id": "4caae1ea",
   "metadata": {},
   "outputs": [],
   "source": [
    "MNIST = rs.mnist_dataset(batch_size=0, train=True, values=[0,1])\n",
    "data, targets = next(iter(MNIST))"
   ]
  },
  {
   "cell_type": "markdown",
   "id": "e27280bf",
   "metadata": {},
   "source": [
    "Next, in order to perform the CKA calc. we will need to reshape the data into a batch_size X features tenso (12665, 784)."
   ]
  },
  {
   "cell_type": "code",
   "execution_count": null,
   "id": "c83b98bf",
   "metadata": {},
   "outputs": [],
   "source": [
    "data = torch.squeeze(data, dim=1)\n",
    "data = data.view(data.size(0), -1)\n",
    "data.shape"
   ]
  },
  {
   "cell_type": "markdown",
   "id": "e5b43ea1",
   "metadata": {},
   "source": [
    "### CKA Calc.\n",
    "At this point we can now calculate the CKA for the model state."
   ]
  },
  {
   "cell_type": "code",
   "execution_count": null,
   "id": "af095310",
   "metadata": {},
   "outputs": [],
   "source": [
    "model.features(data).shape"
   ]
  },
  {
   "cell_type": "code",
   "execution_count": null,
   "id": "c7189516",
   "metadata": {},
   "outputs": [],
   "source": [
    "targets.shape"
   ]
  },
  {
   "cell_type": "code",
   "execution_count": null,
   "id": "7c4e4932",
   "metadata": {
    "scrolled": true
   },
   "outputs": [],
   "source": [
    "rs.kernel_calc(targets, model.features(data))"
   ]
  },
  {
   "cell_type": "markdown",
   "id": "95b7f3b6",
   "metadata": {},
   "source": [
    "#TODO using this notebook create a python script that will do this for each of the model states (135 * 512)..."
   ]
  },
  {
   "cell_type": "markdown",
   "id": "475ee852",
   "metadata": {},
   "source": [
    "### Accuracy"
   ]
  },
  {
   "cell_type": "code",
   "execution_count": null,
   "id": "1cef73b2",
   "metadata": {},
   "outputs": [],
   "source": [
    "import torch.optim as optim"
   ]
  },
  {
   "cell_type": "code",
   "execution_count": null,
   "id": "a83134d7",
   "metadata": {},
   "outputs": [],
   "source": [
    "device = torch.device('cpu')\n",
    "loss = nn.MSELoss()\n",
    "model.eval()\n",
    "losses = rs.train(MNIST, device, model, loss, values=[0, 1], backwards=False, record_loss=True)"
   ]
  },
  {
   "cell_type": "code",
   "execution_count": null,
   "id": "054e4f89",
   "metadata": {
    "scrolled": true
   },
   "outputs": [],
   "source": [
    "losses"
   ]
  },
  {
   "cell_type": "code",
   "execution_count": null,
   "id": "d8f43c82",
   "metadata": {},
   "outputs": [],
   "source": [
    "import time"
   ]
  },
  {
   "cell_type": "markdown",
   "id": "ff5f1677",
   "metadata": {},
   "source": [
    "### CKA Test.\n",
    "Defining Center Kernel Alignment functions."
   ]
  },
  {
   "cell_type": "code",
   "execution_count": null,
   "id": "61ecf2ad",
   "metadata": {},
   "outputs": [],
   "source": []
  },
  {
   "cell_type": "code",
   "execution_count": null,
   "id": "6dd6bab0",
   "metadata": {},
   "outputs": [],
   "source": [
    "def kernel_calc(y, phi):\n",
    "    y = torch.t(torch.unsqueeze(y, -1))\n",
    "    \n",
    "    start = time.time()\n",
    "    K1 = torch.matmul(torch.t(y), y)\n",
    "    \n",
    "    K1c = kernel_centering(K1.float())\n",
    "\n",
    "    K2 = torch.mm(phi, torch.t(phi))\n",
    "    \n",
    "    K2c = kernel_centering(K2)\n",
    "    end = time.time()\n",
    "\n",
    "    return kernel_alignment(K1c, K2c)\n",
    "\n",
    "\n",
    "def frobenius_product(K1, K2):\n",
    "    return torch.sum(K1 * K2)\n",
    "\n",
    "\n",
    "def kernel_alignment(K1, K2):\n",
    "    inner = frobenius_product(K1, K2) \n",
    "    mag_norm = ((torch.norm(K1, p='fro') * torch.norm(K2, p='fro')))\n",
    "    return inner / mag_norm\n",
    "\n",
    "\n",
    "def kernel_centering(K):\n",
    "    row_means = K.mean(dim=1, keepdim=True)\n",
    "    col_means = K.mean(dim=0, keepdim=True)\n",
    "    total_mean = K.mean()\n",
    "    \n",
    "    return K - row_means - col_means + total_mean"
   ]
  },
  {
   "cell_type": "code",
   "execution_count": null,
   "id": "1e5d5627",
   "metadata": {},
   "outputs": [],
   "source": [
    "start = time.time()\n",
    "cka = kernel_calc(targets, model.features(data))\n",
    "end = time.time()\n",
    "print(f\"CKA : {cka} |TOTAL TIME: {end - start}s\")"
   ]
  },
  {
   "cell_type": "markdown",
   "id": "d3dcd1ff",
   "metadata": {},
   "source": [
    "### New CKA Function"
   ]
  },
  {
   "cell_type": "code",
   "execution_count": null,
   "id": "5dc164fb",
   "metadata": {},
   "outputs": [],
   "source": [
    "phi = model.features(data)\n",
    "y = torch.unsqueeze(targets.T, -1)"
   ]
  },
  {
   "cell_type": "markdown",
   "id": "36a1ad8a",
   "metadata": {},
   "source": [
    "The new methods potentially allows us to ignore the centering calculation."
   ]
  },
  {
   "cell_type": "code",
   "execution_count": null,
   "id": "3d2bfdc7",
   "metadata": {},
   "outputs": [],
   "source": [
    "# New Method\n",
    "start = time.time()\n",
    "v = phi.T.matmul(y.float())\n",
    "inner = v.T @ v\n",
    "end = time.time()\n",
    "print(\"NEW METHOD\")\n",
    "print(f\"INNER = {inner} | TIME = {end - start}s\")"
   ]
  },
  {
   "cell_type": "code",
   "execution_count": null,
   "id": "fc68c343",
   "metadata": {},
   "outputs": [],
   "source": [
    "# Old Method\n",
    "start = time.time()\n",
    "K1 = y @ y.T\n",
    "K1 = K1.float()\n",
    "K2 = phi @ phi.T\n",
    "inner = torch.trace(torch.mm(K2, torch.t(K1)))\n",
    "end = time.time()\n",
    "print(\"OLD METHOD\")\n",
    "print(f\"INNER = {inner} | TIME = {end - start}s\")"
   ]
  },
  {
   "cell_type": "markdown",
   "id": "8fe5df06",
   "metadata": {},
   "source": [
    "According to this new finding we can decrease computation time for the frobenius product by 3307.0 multiplier!!"
   ]
  },
  {
   "cell_type": "markdown",
   "id": "ec48d259",
   "metadata": {},
   "source": [
    "### Using this result to produce our a new CKA method."
   ]
  },
  {
   "cell_type": "code",
   "execution_count": null,
   "id": "31780199",
   "metadata": {},
   "outputs": [],
   "source": [
    "def cka(phi, y):\n",
    "    \n",
    "    # Targets vectory [y]\n",
    "    y_m = len(y)\n",
    "    y_ones = torch.ones(y_m, 1)\n",
    "    y_c = y - (y_ones * y_ones.T * y) / y_m\n",
    "    \n",
    "    # Features matrix [PHI]\n",
    "    phi_m = len(phi)\n",
    "    phi_ones = torch.ones(phi_m, 1)\n",
    "    phi_c = phi "
   ]
  },
  {
   "cell_type": "code",
   "execution_count": null,
   "id": "af84b136",
   "metadata": {},
   "outputs": [],
   "source": [
    "cka(phi, y.flo)"
   ]
  }
 ],
 "metadata": {
  "kernelspec": {
   "display_name": "Python 3 (ipykernel)",
   "language": "python",
   "name": "python3"
  },
  "language_info": {
   "codemirror_mode": {
    "name": "ipython",
    "version": 3
   },
   "file_extension": ".py",
   "mimetype": "text/x-python",
   "name": "python",
   "nbconvert_exporter": "python",
   "pygments_lexer": "ipython3",
   "version": "3.10.9"
  }
 },
 "nbformat": 4,
 "nbformat_minor": 5
}
