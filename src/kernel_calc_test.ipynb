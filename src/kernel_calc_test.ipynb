{
 "cells": [
  {
   "cell_type": "markdown",
   "id": "e910c461",
   "metadata": {},
   "source": [
    "# Kernel Calculation Test\n",
    "This notebook is used to test the functionality of the kernel calc methods that (if working) will be rewritten in Python script."
   ]
  },
  {
   "cell_type": "code",
   "execution_count": 23,
   "id": "a7abf607",
   "metadata": {
    "scrolled": false
   },
   "outputs": [],
   "source": [
    "import torch\n",
    "import resources as rs"
   ]
  },
  {
   "cell_type": "markdown",
   "id": "d587053d",
   "metadata": {},
   "source": [
    "### Loading Model Data"
   ]
  },
  {
   "cell_type": "code",
   "execution_count": 24,
   "id": "a553232c",
   "metadata": {},
   "outputs": [],
   "source": [
    "model_path = 'ex_models.pt'\n",
    "state_dict = torch.load(model_path, map_location=torch.device('cpu')) # MODEL"
   ]
  },
  {
   "cell_type": "markdown",
   "id": "c959e794",
   "metadata": {},
   "source": [
    "### Unpacking the params"
   ]
  },
  {
   "cell_type": "markdown",
   "id": "9008a912",
   "metadata": {},
   "source": [
    "**NOTE:** \n",
    "The model was trained on the MNIST digits of 0 1"
   ]
  },
  {
   "cell_type": "markdown",
   "id": "b4b480b9",
   "metadata": {},
   "source": [
    "Unpacking the features params"
   ]
  },
  {
   "cell_type": "code",
   "execution_count": 25,
   "id": "b943de91",
   "metadata": {
    "scrolled": true
   },
   "outputs": [
    {
     "name": "stdout",
     "output_type": "stream",
     "text": [
      "tensor([[ 0.0212, -0.0311, -0.0050,  ..., -0.0343, -0.0193,  0.0000],\n",
      "        [ 0.0112, -0.0050,  0.0149,  ..., -0.0093, -0.0106,  0.0336],\n",
      "        [-0.0324, -0.0006, -0.0062,  ...,  0.0311,  0.0137, -0.0324],\n",
      "        ...,\n",
      "        [-0.0305,  0.0168, -0.0293,  ...,  0.0237, -0.0280, -0.0112],\n",
      "        [-0.0349,  0.0056, -0.0174,  ..., -0.0093, -0.0031,  0.0212],\n",
      "        [ 0.0349,  0.0168, -0.0206,  ..., -0.0149,  0.0044, -0.0187]])\n",
      "Parameter containing:\n",
      "tensor([ 0.0235, -0.0103, -0.0210,  ..., -0.0244,  0.0028, -0.0313],\n",
      "       grad_fn=<NotImplemented>)\n"
     ]
    }
   ],
   "source": [
    "import torch.nn as nn\n",
    "\n",
    "# get the weights and biases of the quantized model (for the features layer)\n",
    "f_weights_quant = state_dict['features.hidden_layer._packed_params._packed_params'][0]\n",
    "f_bias_quant = state_dict['features.hidden_layer._packed_params._packed_params'][1]\n",
    "\n",
    "# dequantize the weights and biases\n",
    "f_weights_float = torch.dequantize(f_weights_quant)\n",
    "f_bias_float = torch.dequantize(f_bias_quant)\n",
    "# print the float values of weights and biases\n",
    "print(f_weights_float)\n",
    "print(f_bias_float)"
   ]
  },
  {
   "cell_type": "markdown",
   "id": "7db32b1a",
   "metadata": {},
   "source": [
    "Unpacking the readout params."
   ]
  },
  {
   "cell_type": "code",
   "execution_count": 26,
   "id": "d42817aa",
   "metadata": {},
   "outputs": [
    {
     "name": "stdout",
     "output_type": "stream",
     "text": [
      "tensor([[ 0.0219,  0.0389,  0.0024,  ..., -0.0073,  0.0182, -0.0158],\n",
      "        [-0.0195, -0.0219, -0.0024,  ...,  0.0073, -0.0170,  0.0134]])\n",
      "Parameter containing:\n",
      "tensor([0.4623, 0.4824], grad_fn=<NotImplemented>)\n"
     ]
    }
   ],
   "source": [
    "# get the weights and biases of the quantized model (for the readout layer)\n",
    "r_weights_quant = state_dict['readout._packed_params._packed_params'][0]\n",
    "r_bias_quant = state_dict['readout._packed_params._packed_params'][1]\n",
    "\n",
    "# dequantize the weights and bises\n",
    "r_weights_float = torch.dequantize(r_weights_quant)\n",
    "r_bias_float = torch.dequantize(r_bias_quant)\n",
    "\n",
    "print(r_weights_float)\n",
    "print(r_bias_float)"
   ]
  },
  {
   "cell_type": "markdown",
   "id": "4cb6db2f",
   "metadata": {},
   "source": [
    "### Manually updating the model"
   ]
  },
  {
   "cell_type": "code",
   "execution_count": 27,
   "id": "e839021f",
   "metadata": {
    "scrolled": true
   },
   "outputs": [
    {
     "data": {
      "text/plain": [
       "NN(\n",
       "  (features): Sequential(\n",
       "    (hidden_layer): Linear(in_features=784, out_features=2048, bias=True)\n",
       "    (hidden_activation): ReLU()\n",
       "  )\n",
       "  (readout): Linear(in_features=2048, out_features=2, bias=True)\n",
       ")"
      ]
     },
     "execution_count": 27,
     "metadata": {},
     "output_type": "execute_result"
    }
   ],
   "source": [
    "model = rs.NN()\n",
    "model"
   ]
  },
  {
   "cell_type": "code",
   "execution_count": 28,
   "id": "7ab638b6",
   "metadata": {},
   "outputs": [
    {
     "data": {
      "text/plain": [
       "[Parameter containing:\n",
       " tensor([[ 0.0225, -0.0102, -0.0162,  ..., -0.0345, -0.0016, -0.0135],\n",
       "         [ 0.0154,  0.0070,  0.0239,  ..., -0.0002, -0.0327,  0.0221],\n",
       "         [ 0.0165,  0.0316,  0.0331,  ...,  0.0279, -0.0249,  0.0317],\n",
       "         ...,\n",
       "         [ 0.0123, -0.0321,  0.0080,  ..., -0.0237,  0.0114, -0.0168],\n",
       "         [-0.0163, -0.0265, -0.0123,  ...,  0.0102, -0.0143,  0.0307],\n",
       "         [ 0.0350,  0.0323,  0.0201,  ..., -0.0036,  0.0276,  0.0264]],\n",
       "        requires_grad=True),\n",
       " Parameter containing:\n",
       " tensor([ 0.0306,  0.0139,  0.0259,  ...,  0.0266, -0.0032, -0.0260],\n",
       "        requires_grad=True),\n",
       " Parameter containing:\n",
       " tensor([[-0.0169, -0.0136, -0.0182,  ...,  0.0027,  0.0116,  0.0066],\n",
       "         [ 0.0040,  0.0094,  0.0049,  ..., -0.0106,  0.0022, -0.0215]],\n",
       "        requires_grad=True),\n",
       " Parameter containing:\n",
       " tensor([-0.0002, -0.0009], requires_grad=True)]"
      ]
     },
     "execution_count": 28,
     "metadata": {},
     "output_type": "execute_result"
    }
   ],
   "source": [
    "params = list(model.parameters())\n",
    "params"
   ]
  },
  {
   "cell_type": "code",
   "execution_count": 29,
   "id": "9a3a705a",
   "metadata": {},
   "outputs": [],
   "source": [
    "params[0].data = f_weights_float\n",
    "params[1].data = f_bias_float\n",
    "params[2].data = r_weights_float\n",
    "params[3].data = r_bias_float"
   ]
  },
  {
   "cell_type": "markdown",
   "id": "a12e4324",
   "metadata": {},
   "source": [
    "### Loading MNIST dataset"
   ]
  },
  {
   "cell_type": "code",
   "execution_count": 30,
   "id": "dec70228",
   "metadata": {},
   "outputs": [],
   "source": [
    "import torchvision.datasets as datasets\n",
    "import torchvision.transforms as transforms\n",
    "from torch.utils.data import DataLoader\n",
    "def mnist_dataset(batch_size, train=True, values=list(range(10))):\n",
    "    # Initializing MNIST data set.\n",
    "    dataset = datasets.MNIST(root='dataset/', train=train, transform=transforms.ToTensor(), download=True)\n",
    "\n",
    "    targets_list = dataset.targets.tolist()\n",
    "    values_index = [i for i in range(len(dataset)) if targets_list[i] in values]\n",
    "\n",
    "    # Creating a subset of ### MNIST targets.\n",
    "    subset = torch.utils.data.Subset(dataset, values_index)\n",
    "    loader = DataLoader(dataset=subset, shuffle=True)\n",
    "\n",
    "    return loader"
   ]
  },
  {
   "cell_type": "code",
   "execution_count": 31,
   "id": "4caae1ea",
   "metadata": {},
   "outputs": [],
   "source": [
    "MNIST = rs.mnist_dataset(batch_size=0, train=True, values=[0,1])\n",
    "data, targets = next(iter(MNIST))"
   ]
  },
  {
   "cell_type": "markdown",
   "id": "e27280bf",
   "metadata": {},
   "source": [
    "Next, in order to perform the CKA calc. we will need to reshape the data into a batch_size X features tenso (12665, 784)."
   ]
  },
  {
   "cell_type": "code",
   "execution_count": 32,
   "id": "c83b98bf",
   "metadata": {},
   "outputs": [
    {
     "data": {
      "text/plain": [
       "torch.Size([12665, 784])"
      ]
     },
     "execution_count": 32,
     "metadata": {},
     "output_type": "execute_result"
    }
   ],
   "source": [
    "data = torch.squeeze(data, dim=1)\n",
    "data = data.view(data.size(0), -1)\n",
    "data.shape"
   ]
  },
  {
   "cell_type": "markdown",
   "id": "e5b43ea1",
   "metadata": {},
   "source": [
    "### CKA Calc.\n",
    "At this point we can now calculate the CKA for the model state."
   ]
  },
  {
   "cell_type": "code",
   "execution_count": 33,
   "id": "af095310",
   "metadata": {},
   "outputs": [
    {
     "data": {
      "text/plain": [
       "torch.Size([12665, 1024])"
      ]
     },
     "execution_count": 33,
     "metadata": {},
     "output_type": "execute_result"
    }
   ],
   "source": [
    "model.features(data).shape"
   ]
  },
  {
   "cell_type": "code",
   "execution_count": 34,
   "id": "c7189516",
   "metadata": {},
   "outputs": [
    {
     "data": {
      "text/plain": [
       "torch.Size([12665])"
      ]
     },
     "execution_count": 34,
     "metadata": {},
     "output_type": "execute_result"
    }
   ],
   "source": [
    "targets.shape"
   ]
  },
  {
   "cell_type": "code",
   "execution_count": 35,
   "id": "7c4e4932",
   "metadata": {
    "scrolled": true
   },
   "outputs": [
    {
     "data": {
      "text/plain": [
       "tensor(0.9497, grad_fn=<DivBackward0>)"
      ]
     },
     "execution_count": 35,
     "metadata": {},
     "output_type": "execute_result"
    }
   ],
   "source": [
    "rs.kernel_calc(targets, model.features(data))"
   ]
  },
  {
   "cell_type": "markdown",
   "id": "95b7f3b6",
   "metadata": {},
   "source": [
    "#TODO using this notebook create a python script that will do this for each of the model states (135 * 512)..."
   ]
  },
  {
   "cell_type": "markdown",
   "id": "475ee852",
   "metadata": {},
   "source": [
    "### Accuracy"
   ]
  },
  {
   "cell_type": "code",
   "execution_count": 37,
   "id": "1cef73b2",
   "metadata": {},
   "outputs": [],
   "source": [
    "import torch.optim as optim"
   ]
  },
  {
   "cell_type": "code",
   "execution_count": 38,
   "id": "a83134d7",
   "metadata": {},
   "outputs": [],
   "source": [
    "device = torch.device('cpu')\n",
    "loss = nn.MSELoss()\n",
    "model.eval()\n",
    "losses = rs.train(MNIST, device, model, loss, values=[0, 1], backwards=False, record_loss=True)"
   ]
  },
  {
   "cell_type": "code",
   "execution_count": 39,
   "id": "054e4f89",
   "metadata": {
    "scrolled": false
   },
   "outputs": [
    {
     "data": {
      "text/plain": [
       "8.250704013335053e-06"
      ]
     },
     "execution_count": 39,
     "metadata": {},
     "output_type": "execute_result"
    }
   ],
   "source": [
    "losses"
   ]
  },
  {
   "cell_type": "markdown",
   "id": "2faed0fc",
   "metadata": {},
   "source": [
    "### CKA Test."
   ]
  },
  {
   "cell_type": "code",
   "execution_count": 52,
   "id": "cd1e418b",
   "metadata": {},
   "outputs": [],
   "source": [
    "import time\n",
    "def kernel_calc(y, phi):\n",
    "    # Output Kernel\n",
    "    start = time.time()\n",
    "    y = torch.t(torch.unsqueeze(y, -1))\n",
    "    end = time.time()\n",
    "    print(f\"UNSQUEEZE: {end - start}s\")\n",
    "    \n",
    "    start = time.time()\n",
    "    K1 = torch.matmul(torch.t(y), y)\n",
    "    end = time.time()\n",
    "    print(f\"K1 MATMUL: {end - start}s\")\n",
    "    \n",
    "    start = time.time()\n",
    "    K1c = kernel_centering(K1.float())\n",
    "    end = time.time()\n",
    "    print(f\"K1 CENTERING: {end - start}\")\n",
    "\n",
    "    # Feature Kernel\n",
    "    start = time.time()\n",
    "    K2 = torch.mm(phi, torch.t(phi))\n",
    "    end = time.time()\n",
    "    print(f\"K2 MM: {end - start}\")\n",
    "    \n",
    "    start = time.time()\n",
    "    K2c = kernel_centering(K2)\n",
    "    end = time.time()\n",
    "    print(f\"K2 CENTERING: {end - start}\")\n",
    "\n",
    "    start = time.time()\n",
    "    ka = kernel_alignment(K1c, K2c)\n",
    "    end = time.time()\n",
    "    print(f\"ALIGNMENT {end - start}\")\n",
    "    return ka\n",
    "\n",
    "\n",
    "def frobenius_product(K1, K2):\n",
    "    return torch.sum(K1 * K2)\n",
    "    #return torch.trace(torch.mm(K2, torch.t(K1)))\n",
    "\n",
    "\n",
    "def kernel_alignment(K1, K2):\n",
    "    return frobenius_product(K1, K2) / ((torch.norm(K1, p='fro') * torch.norm(K2, p='fro')))\n",
    "\n",
    "\n",
    "def kernel_centering(K):\n",
    "#    # Lemmna 1\n",
    "#    \n",
    "#    print(\"=\" * 80)\n",
    "#    print(\"CENTERING\")\n",
    "#\n",
    "#    start = time.time()\n",
    "#    # I - ll^T / m\n",
    "#    m = K.size()[0]\n",
    "#    I = torch.eye(m)\n",
    "#    l = torch.ones(m, 1)\n",
    "#    mat = I - torch.matmul(l, torch.t(l)) / m\n",
    "#    end = time.time()\n",
    "#    print(f\"I MATRIX: {end - start}s\")\n",
    "#\n",
    "#    start = time.time()\n",
    "#    j = torch.matmul(torch.matmul(mat, K), mat)\n",
    "#    end = time.time()\n",
    "#    print(f\"MATMUL I: {end - start}s\")\n",
    "#    print(\"=\" * 80)\n",
    "#    return j\n",
    "    row_means = K.mean(dim=1, keepdim=True)\n",
    "    col_means = K.mean(dim=0, keepdim=True)\n",
    "    total_mean = K.mean()\n",
    "    \n",
    "    K_centered = K - row_means - col_means + total_mean"
   ]
  },
  {
   "cell_type": "code",
   "execution_count": 53,
   "id": "60d41138",
   "metadata": {},
   "outputs": [
    {
     "name": "stdout",
     "output_type": "stream",
     "text": [
      "UNSQUEEZE: 0.0005209445953369141s\n",
      "K1 MATMUL: 1.5471091270446777s\n",
      "K1 CENTERING: 1.5976200103759766\n",
      "K2 MM: 1.0305120944976807\n",
      "K2 CENTERING: 0.6956150531768799\n"
     ]
    },
    {
     "ename": "TypeError",
     "evalue": "unsupported operand type(s) for *: 'NoneType' and 'NoneType'",
     "output_type": "error",
     "traceback": [
      "\u001B[0;31m---------------------------------------------------------------------------\u001B[0m",
      "\u001B[0;31mTypeError\u001B[0m                                 Traceback (most recent call last)",
      "Input \u001B[0;32mIn [53]\u001B[0m, in \u001B[0;36m<cell line: 2>\u001B[0;34m()\u001B[0m\n\u001B[1;32m      1\u001B[0m start \u001B[38;5;241m=\u001B[39m time\u001B[38;5;241m.\u001B[39mtime()\n\u001B[0;32m----> 2\u001B[0m cka \u001B[38;5;241m=\u001B[39m \u001B[43mkernel_calc\u001B[49m\u001B[43m(\u001B[49m\u001B[43mtargets\u001B[49m\u001B[43m,\u001B[49m\u001B[43m \u001B[49m\u001B[43mmodel\u001B[49m\u001B[38;5;241;43m.\u001B[39;49m\u001B[43mfeatures\u001B[49m\u001B[43m(\u001B[49m\u001B[43mdata\u001B[49m\u001B[43m)\u001B[49m\u001B[43m)\u001B[49m\n\u001B[1;32m      3\u001B[0m end \u001B[38;5;241m=\u001B[39m time\u001B[38;5;241m.\u001B[39mtime()\n\u001B[1;32m      4\u001B[0m \u001B[38;5;28mprint\u001B[39m(\u001B[38;5;124mf\u001B[39m\u001B[38;5;124m\"\u001B[39m\u001B[38;5;124mTOTAL TIME: \u001B[39m\u001B[38;5;132;01m{\u001B[39;00mend \u001B[38;5;241m-\u001B[39m start\u001B[38;5;132;01m}\u001B[39;00m\u001B[38;5;124ms\u001B[39m\u001B[38;5;124m\"\u001B[39m)\n",
      "Input \u001B[0;32mIn [52]\u001B[0m, in \u001B[0;36mkernel_calc\u001B[0;34m(y, phi)\u001B[0m\n\u001B[1;32m     28\u001B[0m \u001B[38;5;28mprint\u001B[39m(\u001B[38;5;124mf\u001B[39m\u001B[38;5;124m\"\u001B[39m\u001B[38;5;124mK2 CENTERING: \u001B[39m\u001B[38;5;132;01m{\u001B[39;00mend \u001B[38;5;241m-\u001B[39m start\u001B[38;5;132;01m}\u001B[39;00m\u001B[38;5;124m\"\u001B[39m)\n\u001B[1;32m     30\u001B[0m start \u001B[38;5;241m=\u001B[39m time\u001B[38;5;241m.\u001B[39mtime()\n\u001B[0;32m---> 31\u001B[0m ka \u001B[38;5;241m=\u001B[39m \u001B[43mkernel_alignment\u001B[49m\u001B[43m(\u001B[49m\u001B[43mK1c\u001B[49m\u001B[43m,\u001B[49m\u001B[43m \u001B[49m\u001B[43mK2c\u001B[49m\u001B[43m)\u001B[49m\n\u001B[1;32m     32\u001B[0m end \u001B[38;5;241m=\u001B[39m time\u001B[38;5;241m.\u001B[39mtime()\n\u001B[1;32m     33\u001B[0m \u001B[38;5;28mprint\u001B[39m(\u001B[38;5;124mf\u001B[39m\u001B[38;5;124m\"\u001B[39m\u001B[38;5;124mALIGNMENT \u001B[39m\u001B[38;5;132;01m{\u001B[39;00mend \u001B[38;5;241m-\u001B[39m start\u001B[38;5;132;01m}\u001B[39;00m\u001B[38;5;124m\"\u001B[39m)\n",
      "Input \u001B[0;32mIn [52]\u001B[0m, in \u001B[0;36mkernel_alignment\u001B[0;34m(K1, K2)\u001B[0m\n\u001B[1;32m     42\u001B[0m \u001B[38;5;28;01mdef\u001B[39;00m \u001B[38;5;21mkernel_alignment\u001B[39m(K1, K2):\n\u001B[0;32m---> 43\u001B[0m     \u001B[38;5;28;01mreturn\u001B[39;00m \u001B[43mfrobenius_product\u001B[49m\u001B[43m(\u001B[49m\u001B[43mK1\u001B[49m\u001B[43m,\u001B[49m\u001B[43m \u001B[49m\u001B[43mK2\u001B[49m\u001B[43m)\u001B[49m \u001B[38;5;241m/\u001B[39m ((torch\u001B[38;5;241m.\u001B[39mnorm(K1, p\u001B[38;5;241m=\u001B[39m\u001B[38;5;124m'\u001B[39m\u001B[38;5;124mfro\u001B[39m\u001B[38;5;124m'\u001B[39m) \u001B[38;5;241m*\u001B[39m torch\u001B[38;5;241m.\u001B[39mnorm(K2, p\u001B[38;5;241m=\u001B[39m\u001B[38;5;124m'\u001B[39m\u001B[38;5;124mfro\u001B[39m\u001B[38;5;124m'\u001B[39m)))\n",
      "Input \u001B[0;32mIn [52]\u001B[0m, in \u001B[0;36mfrobenius_product\u001B[0;34m(K1, K2)\u001B[0m\n\u001B[1;32m     37\u001B[0m \u001B[38;5;28;01mdef\u001B[39;00m \u001B[38;5;21mfrobenius_product\u001B[39m(K1, K2):\n\u001B[0;32m---> 38\u001B[0m     \u001B[38;5;28;01mreturn\u001B[39;00m torch\u001B[38;5;241m.\u001B[39msum(\u001B[43mK1\u001B[49m\u001B[43m \u001B[49m\u001B[38;5;241;43m*\u001B[39;49m\u001B[43m \u001B[49m\u001B[43mK2\u001B[49m)\n",
      "\u001B[0;31mTypeError\u001B[0m: unsupported operand type(s) for *: 'NoneType' and 'NoneType'"
     ]
    }
   ],
   "source": [
    "start = time.time()\n",
    "cka = kernel_calc(targets, model.features(data))\n",
    "end = time.time()\n",
    "print(f\"TOTAL TIME: {end - start}s\")"
   ]
  },
  {
   "cell_type": "code",
   "execution_count": 51,
   "id": "0eaed1d1",
   "metadata": {},
   "outputs": [
    {
     "data": {
      "text/plain": [
       "tensor(0.9497, grad_fn=<DivBackward0>)"
      ]
     },
     "execution_count": 51,
     "metadata": {},
     "output_type": "execute_result"
    }
   ],
   "source": [
    "cka"
   ]
  },
  {
   "cell_type": "code",
   "execution_count": null,
   "id": "1fed75b9",
   "metadata": {},
   "outputs": [],
   "source": []
  }
 ],
 "metadata": {
  "kernelspec": {
   "display_name": "slow-feature-learning",
   "language": "python",
   "name": "slow-feature-learning"
  },
  "language_info": {
   "codemirror_mode": {
    "name": "ipython",
    "version": 3
   },
   "file_extension": ".py",
   "mimetype": "text/x-python",
   "name": "python",
   "nbconvert_exporter": "python",
   "pygments_lexer": "ipython3",
   "version": "3.9.7"
  }
 },
 "nbformat": 4,
 "nbformat_minor": 5
}
