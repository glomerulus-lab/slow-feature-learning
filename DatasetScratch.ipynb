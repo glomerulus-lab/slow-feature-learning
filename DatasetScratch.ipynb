{
 "cells": [
  {
   "cell_type": "markdown",
   "id": "531cefc0",
   "metadata": {},
   "source": [
    "# Dataset Scratch"
   ]
  },
  {
   "cell_type": "code",
   "execution_count": 1,
   "id": "39820d16",
   "metadata": {
    "scrolled": true
   },
   "outputs": [],
   "source": [
    "## imports\n",
    "import torch\n",
    "from torch.utils.data import DataLoader  # Minibatches\n",
    "import torchvision.datasets as datasets  # MNIST dataset\n",
    "import torchvision.transforms as transforms\n",
    "import numpy as np\n",
    "import torch.nn as nn   # Nueral network modules.\n",
    "from collections import OrderedDict"
   ]
  },
  {
   "cell_type": "code",
   "execution_count": 2,
   "id": "463157ba",
   "metadata": {},
   "outputs": [],
   "source": [
    "class NN(nn.Module):\n",
    "\n",
    "    def __init__(self, input_size, middle_width, num_classes):\n",
    "\n",
    "\n",
    "        super(NN, self).__init__()\n",
    "        self.features = nn.Sequential(OrderedDict([\n",
    "            ('hidden_layer', nn.Linear(input_size, middle_width)),\n",
    "            ('hidden_activation', nn.ReLU()),\n",
    "            ('readout', nn.Linear(middle_width, num_classes))\n",
    "        ]))\n",
    "\n",
    "    def forward(self, x):\n",
    "        x = self.features(x)\n",
    "\n",
    "        return x"
   ]
  },
  {
   "cell_type": "markdown",
   "id": "802cd928",
   "metadata": {},
   "source": [
    "Setting Device"
   ]
  },
  {
   "cell_type": "code",
   "execution_count": 3,
   "id": "e23144a6",
   "metadata": {},
   "outputs": [],
   "source": [
    "device = torch.device('cuda' if torch.cuda.is_available() else 'cpu')"
   ]
  },
  {
   "cell_type": "markdown",
   "id": "c02668a2",
   "metadata": {},
   "source": [
    "Mnist Dataset"
   ]
  },
  {
   "cell_type": "code",
   "execution_count": 4,
   "id": "d76fcdd5",
   "metadata": {},
   "outputs": [],
   "source": [
    "dataset = datasets.MNIST(root='dataset/', train=True, transform=transforms.ToTensor(), download=True)"
   ]
  },
  {
   "cell_type": "code",
   "execution_count": 5,
   "id": "a0fe57b8",
   "metadata": {
    "scrolled": false
   },
   "outputs": [
    {
     "data": {
      "text/plain": [
       "Dataset MNIST\n",
       "    Number of datapoints: 60000\n",
       "    Root location: dataset/\n",
       "    Split: Train\n",
       "    StandardTransform\n",
       "Transform: ToTensor()"
      ]
     },
     "execution_count": 5,
     "metadata": {},
     "output_type": "execute_result"
    }
   ],
   "source": [
    "dataset"
   ]
  },
  {
   "cell_type": "markdown",
   "id": "33c20fbc",
   "metadata": {},
   "source": [
    "MNIST Dataset Function"
   ]
  },
  {
   "cell_type": "code",
   "execution_count": 6,
   "id": "98aaee7c",
   "metadata": {},
   "outputs": [],
   "source": [
    "def mnist_dataset(batch_size, train=True, values=[0, 1, 2, 3, 4, 5, 6, 7, 8, 9]):\n",
    "    dataset = datasets.MNIST(root='dataset/', train=train, transform=transforms.ToTensor(), download=True)\n",
    "    list = []\n",
    "    targets_list = dataset.targets.tolist()\n",
    "    for i in range(len(dataset)):\n",
    "        if targets_list[i] in values:\n",
    "            list.append(i)\n",
    "    dataset1 = torch.utils.data.Subset(dataset, list)\n",
    "    loader = DataLoader(dataset=dataset1, batch_size=batch_size, shuffle=True)\n",
    "    return loader"
   ]
  },
  {
   "cell_type": "markdown",
   "id": "bea0bb33",
   "metadata": {},
   "source": [
    "MNIST Subset Class"
   ]
  },
  {
   "cell_type": "code",
   "execution_count": 7,
   "id": "d3ae910b",
   "metadata": {},
   "outputs": [],
   "source": [
    "## extend from torch dataset.\n",
    "\n",
    "class CustomDataset:\n",
    "    def __init__(self, data, target):\n",
    "        self.data = data\n",
    "        self.targets = target\n",
    "        \n",
    "    def __len__(self):\n",
    "        return self.data\n",
    "    \n",
    "    def __getitem__(self, idx):\n",
    "        current_sample = self.data[idx, :]\n",
    "        current_target = self.targets[idx]\n",
    "        return {\n",
    "            \"sample\":torch.tensor(current_sample, dtype=torch.float),\n",
    "            \"target\": torch.tensor(current_target, dtype=torch.long)\n",
    "        }"
   ]
  },
  {
   "cell_type": "markdown",
   "id": "508996ee",
   "metadata": {},
   "source": [
    "Function that changes the clasification targets of MNSIT values"
   ]
  },
  {
   "cell_type": "code",
   "execution_count": 8,
   "id": "4f1f20dc",
   "metadata": {},
   "outputs": [],
   "source": [
    "def classify(targets, values):\n",
    "    for key, element in enumerate(values):\n",
    "        targets[targets == element] = key\n",
    "    return targets"
   ]
  },
  {
   "cell_type": "markdown",
   "id": "c71c73f9",
   "metadata": {},
   "source": [
    "TEST"
   ]
  },
  {
   "cell_type": "code",
   "execution_count": 9,
   "id": "579b9fbe",
   "metadata": {},
   "outputs": [],
   "source": [
    "model = NN(input_size=784,\n",
    "           middle_width=100,\n",
    "            num_classes=2).to(device=device)"
   ]
  },
  {
   "cell_type": "code",
   "execution_count": 10,
   "id": "a790902a",
   "metadata": {},
   "outputs": [],
   "source": [
    "# Loading dataset\n",
    "loader = mnist_dataset(100, values=[2, 7])"
   ]
  },
  {
   "cell_type": "code",
   "execution_count": 11,
   "id": "2b4ae706",
   "metadata": {},
   "outputs": [],
   "source": [
    "loss_function = nn.CrossEntropyLoss()"
   ]
  },
  {
   "cell_type": "code",
   "execution_count": 12,
   "id": "11d7f0c1",
   "metadata": {},
   "outputs": [],
   "source": [
    "# Getting datapoints for training (but not training)\n",
    "for batch_idx, (data, targets) in enumerate(loader):\n",
    "    data = data.reshape(data.shape[0], -1).to(device=device)\n",
    "    targets = targets.to(device=device)\n",
    "    scores = model(data)\n",
    "    loss = loss_function(scores, classify(targets, [2, 7]))"
   ]
  }
 ],
 "metadata": {
  "kernelspec": {
   "display_name": "Python 3 (ipykernel)",
   "language": "python",
   "name": "python3"
  },
  "language_info": {
   "codemirror_mode": {
    "name": "ipython",
    "version": 3
   },
   "file_extension": ".py",
   "mimetype": "text/x-python",
   "name": "python",
   "nbconvert_exporter": "python",
   "pygments_lexer": "ipython3",
   "version": "3.9.7"
  }
 },
 "nbformat": 4,
 "nbformat_minor": 5
}
