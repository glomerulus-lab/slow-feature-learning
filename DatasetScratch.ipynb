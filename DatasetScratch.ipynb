{
 "cells": [
  {
   "cell_type": "markdown",
   "id": "531cefc0",
   "metadata": {},
   "source": [
    "# Dataset Scratch"
   ]
  },
  {
   "cell_type": "code",
   "execution_count": 1,
   "id": "39820d16",
   "metadata": {
    "scrolled": true
   },
   "outputs": [],
   "source": [
    "## imports\n",
    "import torch\n",
    "from torch.utils.data import DataLoader  # Minibatches\n",
    "import torchvision.datasets as datasets  # MNIST dataset\n",
    "import torchvision.transforms as transforms\n",
    "import numpy as np\n",
    "import torch.nn as nn   # Nueral network modules.\n",
    "from collections import OrderedDict"
   ]
  },
  {
   "cell_type": "code",
   "execution_count": 2,
   "id": "463157ba",
   "metadata": {},
   "outputs": [],
   "source": [
    "class NN(nn.Module):\n",
    "\n",
    "    def __init__(self, input_size, middle_width, num_classes):\n",
    "\n",
    "\n",
    "        super(NN, self).__init__()\n",
    "        self.features = nn.Sequential(OrderedDict([\n",
    "            ('hidden_layer', nn.Linear(input_size, middle_width)),\n",
    "            ('hidden_activation', nn.ReLU()),\n",
    "            ('readout', nn.Linear(middle_width, num_classes))\n",
    "        ]))\n",
    "\n",
    "    def forward(self, x):\n",
    "        x = self.features(x)\n",
    "\n",
    "        return x"
   ]
  },
  {
   "cell_type": "markdown",
   "id": "802cd928",
   "metadata": {},
   "source": [
    "Setting Device"
   ]
  },
  {
   "cell_type": "code",
   "execution_count": 3,
   "id": "e23144a6",
   "metadata": {},
   "outputs": [],
   "source": [
    "device = torch.device('cuda' if torch.cuda.is_available() else 'cpu')"
   ]
  },
  {
   "cell_type": "markdown",
   "id": "c02668a2",
   "metadata": {},
   "source": [
    "Mnist Dataset"
   ]
  },
  {
   "cell_type": "code",
   "execution_count": 4,
   "id": "d76fcdd5",
   "metadata": {},
   "outputs": [],
   "source": [
    "dataset = datasets.MNIST(root='dataset/', train=True, transform=transforms.ToTensor(), download=True)"
   ]
  },
  {
   "cell_type": "code",
   "execution_count": 5,
   "id": "a0fe57b8",
   "metadata": {
    "scrolled": false
   },
   "outputs": [
    {
     "data": {
      "text/plain": [
       "Dataset MNIST\n",
       "    Number of datapoints: 60000\n",
       "    Root location: dataset/\n",
       "    Split: Train\n",
       "    StandardTransform\n",
       "Transform: ToTensor()"
      ]
     },
     "execution_count": 5,
     "metadata": {},
     "output_type": "execute_result"
    }
   ],
   "source": [
    "dataset"
   ]
  },
  {
   "cell_type": "markdown",
   "id": "33c20fbc",
   "metadata": {},
   "source": [
    "MNIST Dataset Function"
   ]
  },
  {
   "cell_type": "code",
   "execution_count": 6,
   "id": "98aaee7c",
   "metadata": {},
   "outputs": [],
   "source": [
    "def mnist_dataset(batch_size, train=True, values=[0, 1, 2, 3, 4, 5, 6, 7, 8, 9]):\n",
    "    dataset = datasets.MNIST(root='dataset/', train=train, transform=transforms.ToTensor(), download=True)\n",
    "    list = []\n",
    "    targets_list = dataset.targets.tolist()\n",
    "    for i in range(len(dataset)):\n",
    "        if targets_list[i] in values:\n",
    "            list.append(i)\n",
    "    dataset1 = torch.utils.data.Subset(dataset, list)\n",
    "    loader = DataLoader(dataset=dataset1, batch_size=batch_size, shuffle=True)\n",
    "    return loader"
   ]
  },
  {
   "cell_type": "markdown",
   "id": "bea0bb33",
   "metadata": {},
   "source": [
    "MNIST Subset Class"
   ]
  },
  {
   "cell_type": "code",
   "execution_count": 7,
   "id": "d3ae910b",
   "metadata": {},
   "outputs": [],
   "source": [
    "## extend from torch dataset.\n",
    "\n",
    "class CustomDataset:\n",
    "    def __init__(self, data, target):\n",
    "        self.data = data\n",
    "        self.targets = target\n",
    "        \n",
    "    def __len__(self):\n",
    "        return self.data\n",
    "    \n",
    "    def __getitem__(self, idx):\n",
    "        current_sample = self.data[idx, :]\n",
    "        current_target = self.targets[idx]\n",
    "        return {\n",
    "            \"sample\":torch.tensor(current_sample, dtype=torch.float),\n",
    "            \"target\": torch.tensor(current_target, dtype=torch.long)\n",
    "        }"
   ]
  },
  {
   "cell_type": "code",
   "execution_count": 44,
   "id": "112d180a",
   "metadata": {},
   "outputs": [],
   "source": [
    "def check_accuracy(device, model, loader):\n",
    "    num_correct = 0\n",
    "    num_samples = 0\n",
    "    model.eval()\n",
    "\n",
    "    with torch.no_grad():\n",
    "        for x, y in loader:\n",
    "            x = x.to(device=device)\n",
    "            y = y.to(device=device)\n",
    "            y = classify(y, [2, 7])\n",
    "            x = x.reshape(x.shape[0], -1)\n",
    "            \n",
    "\n",
    "            scores = model(x)\n",
    "            # 64images x 10,\n",
    "\n",
    "            _, predictions = scores.max(1)\n",
    "            num_correct += (predictions == y).sum()\n",
    "            num_samples += predictions.size(0)\n",
    "\n",
    "    return num_correct / num_samples\n"
   ]
  },
  {
   "cell_type": "markdown",
   "id": "508996ee",
   "metadata": {},
   "source": [
    "Function that changes the clasification targets of MNSIT values"
   ]
  },
  {
   "cell_type": "code",
   "execution_count": 9,
   "id": "4f1f20dc",
   "metadata": {},
   "outputs": [],
   "source": [
    "def classify(targets, values):\n",
    "    new_targets = targets.clone()\n",
    "    for key, element in enumerate(values):\n",
    "        new_targets[new_targets == element] = key\n",
    "    return new_targets"
   ]
  },
  {
   "cell_type": "markdown",
   "id": "c71c73f9",
   "metadata": {},
   "source": [
    "TEST"
   ]
  },
  {
   "cell_type": "code",
   "execution_count": 10,
   "id": "579b9fbe",
   "metadata": {},
   "outputs": [],
   "source": [
    "model = NN(input_size=784,\n",
    "           middle_width=100,\n",
    "            num_classes=2).to(device=device)"
   ]
  },
  {
   "cell_type": "code",
   "execution_count": 11,
   "id": "a790902a",
   "metadata": {},
   "outputs": [],
   "source": [
    "# Loading dataset\n",
    "loader = mnist_dataset(100, values=[0, 1])"
   ]
  },
  {
   "cell_type": "code",
   "execution_count": 12,
   "id": "2b4ae706",
   "metadata": {},
   "outputs": [],
   "source": [
    "loss_function = nn.CrossEntropyLoss()"
   ]
  },
  {
   "cell_type": "code",
   "execution_count": 13,
   "id": "ab303ec0",
   "metadata": {},
   "outputs": [],
   "source": [
    "# Getting datapoints for training (but not training)\n",
    "for batch_idx, (data, targets) in enumerate(loader):\n",
    "    data = data.reshape(data.shape[0], -1).to(device=device)\n",
    "    targets = targets.to(device=device)\n",
    "    scores = model(data)\n",
    "    loss = loss_function(scores, classify(targets, [0, 1]))"
   ]
  },
  {
   "cell_type": "code",
   "execution_count": 14,
   "id": "44479e51",
   "metadata": {},
   "outputs": [
    {
     "data": {
      "text/plain": [
       "tensor([0, 1, 0, 1, 0, 1, 1, 1, 0, 1, 1, 0, 0, 0, 0, 1, 0, 0, 0, 1, 0, 0, 1, 1,\n",
       "        0, 0, 0, 0, 0, 0, 1, 0, 1, 1, 1, 1, 1, 1, 1, 1, 1, 1, 0, 1, 1, 0, 0, 1,\n",
       "        0, 1, 1, 0, 0, 0, 0, 0, 1, 1, 0, 0, 1, 1, 0, 0, 1])"
      ]
     },
     "execution_count": 14,
     "metadata": {},
     "output_type": "execute_result"
    }
   ],
   "source": [
    "targets"
   ]
  },
  {
   "cell_type": "code",
   "execution_count": 37,
   "id": "ae683e02",
   "metadata": {},
   "outputs": [
    {
     "ename": "ValueError",
     "evalue": "too many values to unpack (expected 2)",
     "output_type": "error",
     "traceback": [
      "\u001b[0;31m---------------------------------------------------------------------------\u001b[0m",
      "\u001b[0;31mValueError\u001b[0m                                Traceback (most recent call last)",
      "Input \u001b[0;32mIn [37]\u001b[0m, in \u001b[0;36m<cell line: 1>\u001b[0;34m()\u001b[0m\n\u001b[0;32m----> 1\u001b[0m samples, right \u001b[38;5;241m=\u001b[39m classify(targets, [\u001b[38;5;241m0\u001b[39m, \u001b[38;5;241m1\u001b[39m])\n",
      "\u001b[0;31mValueError\u001b[0m: too many values to unpack (expected 2)"
     ]
    }
   ],
   "source": [
    "classify(targets, [0, 1])"
   ]
  },
  {
   "cell_type": "code",
   "execution_count": 45,
   "id": "331b9fc1",
   "metadata": {},
   "outputs": [],
   "source": [
    "ratio =  check_accuracy(device, model, loader)"
   ]
  },
  {
   "cell_type": "code",
   "execution_count": 47,
   "id": "685cbafa",
   "metadata": {},
   "outputs": [
    {
     "data": {
      "text/plain": [
       "tensor(23.5926)"
      ]
     },
     "execution_count": 47,
     "metadata": {},
     "output_type": "execute_result"
    }
   ],
   "source": [
    "100 - 100 * ratio"
   ]
  },
  {
   "cell_type": "code",
   "execution_count": 42,
   "id": "25488ff5",
   "metadata": {},
   "outputs": [
    {
     "data": {
      "text/plain": [
       "12665"
      ]
     },
     "execution_count": 42,
     "metadata": {},
     "output_type": "execute_result"
    }
   ],
   "source": [
    "right"
   ]
  },
  {
   "cell_type": "code",
   "execution_count": 43,
   "id": "3e0e0a5c",
   "metadata": {},
   "outputs": [
    {
     "data": {
      "text/plain": [
       "tensor(0.7641)"
      ]
     },
     "execution_count": 43,
     "metadata": {},
     "output_type": "execute_result"
    }
   ],
   "source": [
    "samples/right"
   ]
  },
  {
   "cell_type": "code",
   "execution_count": 34,
   "id": "f304cad3",
   "metadata": {},
   "outputs": [
    {
     "data": {
      "text/plain": [
       "tensor([[ 0.1207,  0.1467],\n",
       "        [-0.0294, -0.0953],\n",
       "        [-0.0160, -0.0604],\n",
       "        [-0.1551, -0.0469],\n",
       "        [-0.1030,  0.1157],\n",
       "        [-0.0036, -0.0198],\n",
       "        [-0.0681, -0.0195],\n",
       "        [ 0.0025,  0.0543],\n",
       "        [-0.1050,  0.0438],\n",
       "        [ 0.1190,  0.0709],\n",
       "        [-0.0843,  0.0149],\n",
       "        [-0.0993,  0.0287],\n",
       "        [ 0.0951, -0.0436],\n",
       "        [ 0.0108,  0.0435],\n",
       "        [-0.0550, -0.0384],\n",
       "        [-0.1378,  0.0780],\n",
       "        [-0.0483, -0.0033],\n",
       "        [-0.1152,  0.0734],\n",
       "        [-0.0853,  0.0979],\n",
       "        [-0.1333, -0.1260],\n",
       "        [ 0.0470,  0.0040],\n",
       "        [-0.1152,  0.0445],\n",
       "        [-0.1524,  0.0414],\n",
       "        [-0.0766, -0.0531],\n",
       "        [-0.0124,  0.0145],\n",
       "        [-0.1001,  0.0462],\n",
       "        [-0.1090,  0.0814],\n",
       "        [-0.1192,  0.0060],\n",
       "        [-0.0058,  0.0477],\n",
       "        [-0.0339,  0.0125],\n",
       "        [-0.0181, -0.0659],\n",
       "        [-0.0470,  0.0378],\n",
       "        [-0.0604,  0.0243],\n",
       "        [ 0.0215,  0.0294],\n",
       "        [ 0.1612,  0.0003],\n",
       "        [-0.0731,  0.0404],\n",
       "        [-0.1379,  0.0823],\n",
       "        [ 0.1220,  0.0696],\n",
       "        [-0.1084,  0.0949],\n",
       "        [ 0.0652,  0.0471],\n",
       "        [-0.0920,  0.0578],\n",
       "        [-0.1079,  0.1078],\n",
       "        [-0.0398,  0.1071],\n",
       "        [-0.0635, -0.0039],\n",
       "        [-0.0120,  0.0496],\n",
       "        [ 0.0513,  0.0937],\n",
       "        [ 0.0734,  0.0108],\n",
       "        [-0.0720,  0.0136],\n",
       "        [-0.0723,  0.0694],\n",
       "        [-0.0922, -0.0767],\n",
       "        [-0.0529, -0.0272],\n",
       "        [-0.0942, -0.0120],\n",
       "        [-0.0162, -0.0165],\n",
       "        [-0.0621, -0.0482],\n",
       "        [-0.0231,  0.0438],\n",
       "        [-0.0487,  0.0673],\n",
       "        [ 0.0738,  0.1071],\n",
       "        [ 0.0007,  0.0769],\n",
       "        [-0.0906,  0.0658],\n",
       "        [ 0.1046,  0.1050],\n",
       "        [-0.0987, -0.0003],\n",
       "        [-0.0501,  0.0190],\n",
       "        [-0.0237,  0.0200],\n",
       "        [-0.0759,  0.0578],\n",
       "        [-0.0949,  0.0894]])"
      ]
     },
     "execution_count": 34,
     "metadata": {},
     "output_type": "execute_result"
    }
   ],
   "source": [
    "scores"
   ]
  },
  {
   "cell_type": "code",
   "execution_count": 33,
   "id": "fc0c5c2b",
   "metadata": {},
   "outputs": [
    {
     "data": {
      "text/plain": [
       "torch.return_types.max(\n",
       "values=tensor([ 0.1467, -0.0294, -0.0160, -0.0469,  0.1157, -0.0036, -0.0195,  0.0543,\n",
       "         0.0438,  0.1190,  0.0149,  0.0287,  0.0951,  0.0435, -0.0384,  0.0780,\n",
       "        -0.0033,  0.0734,  0.0979, -0.1260,  0.0470,  0.0445,  0.0414, -0.0531,\n",
       "         0.0145,  0.0462,  0.0814,  0.0060,  0.0477,  0.0125, -0.0181,  0.0378,\n",
       "         0.0243,  0.0294,  0.1612,  0.0404,  0.0823,  0.1220,  0.0949,  0.0652,\n",
       "         0.0578,  0.1078,  0.1071, -0.0039,  0.0496,  0.0937,  0.0734,  0.0136,\n",
       "         0.0694, -0.0767, -0.0272, -0.0120, -0.0162, -0.0482,  0.0438,  0.0673,\n",
       "         0.1071,  0.0769,  0.0658,  0.1050, -0.0003,  0.0190,  0.0200,  0.0578,\n",
       "         0.0894]),\n",
       "indices=tensor([1, 0, 0, 1, 1, 0, 1, 1, 1, 0, 1, 1, 0, 1, 1, 1, 1, 1, 1, 1, 0, 1, 1, 1,\n",
       "        1, 1, 1, 1, 1, 1, 0, 1, 1, 1, 0, 1, 1, 0, 1, 0, 1, 1, 1, 1, 1, 1, 0, 1,\n",
       "        1, 1, 1, 1, 0, 1, 1, 1, 1, 1, 1, 1, 1, 1, 1, 1, 1]))"
      ]
     },
     "execution_count": 33,
     "metadata": {},
     "output_type": "execute_result"
    }
   ],
   "source": [
    "scores.max(1)"
   ]
  },
  {
   "cell_type": "code",
   "execution_count": 21,
   "id": "0122a7e4",
   "metadata": {},
   "outputs": [
    {
     "ename": "IndexError",
     "evalue": "Dimension out of range (expected to be in range of [-1, 0], but got 1)",
     "output_type": "error",
     "traceback": [
      "\u001b[0;31m---------------------------------------------------------------------------\u001b[0m",
      "\u001b[0;31mIndexError\u001b[0m                                Traceback (most recent call last)",
      "Input \u001b[0;32mIn [21]\u001b[0m, in \u001b[0;36m<cell line: 1>\u001b[0;34m()\u001b[0m\n\u001b[0;32m----> 1\u001b[0m \u001b[43mscores\u001b[49m\u001b[38;5;241;43m.\u001b[39;49m\u001b[43mmax\u001b[49m\u001b[43m(\u001b[49m\u001b[38;5;241;43m1\u001b[39;49m\u001b[43m)\u001b[49m\n",
      "\u001b[0;31mIndexError\u001b[0m: Dimension out of range (expected to be in range of [-1, 0], but got 1)"
     ]
    }
   ],
   "source": [
    "scores.max(1)"
   ]
  },
  {
   "cell_type": "code",
   "execution_count": null,
   "id": "def7e9d2",
   "metadata": {},
   "outputs": [],
   "source": [
    "y = check_accuracy(device, model, loader)"
   ]
  },
  {
   "cell_type": "code",
   "execution_count": 24,
   "id": "d3ac2cc5",
   "metadata": {},
   "outputs": [],
   "source": [
    "values = [0, 1, 2]"
   ]
  },
  {
   "cell_type": "code",
   "execution_count": 25,
   "id": "0fe0ad39",
   "metadata": {},
   "outputs": [
    {
     "data": {
      "text/plain": [
       "3"
      ]
     },
     "execution_count": 25,
     "metadata": {},
     "output_type": "execute_result"
    }
   ],
   "source": [
    "len(values)"
   ]
  },
  {
   "cell_type": "code",
   "execution_count": 22,
   "id": "1131d06f",
   "metadata": {},
   "outputs": [
    {
     "ename": "IndexError",
     "evalue": "Dimension out of range (expected to be in range of [-1, 0], but got 1)",
     "output_type": "error",
     "traceback": [
      "\u001b[0;31m---------------------------------------------------------------------------\u001b[0m",
      "\u001b[0;31mIndexError\u001b[0m                                Traceback (most recent call last)",
      "Input \u001b[0;32mIn [22]\u001b[0m, in \u001b[0;36m<cell line: 1>\u001b[0;34m()\u001b[0m\n\u001b[0;32m----> 1\u001b[0m _, predictions \u001b[38;5;241m=\u001b[39m \u001b[43mscores\u001b[49m\u001b[38;5;241;43m.\u001b[39;49m\u001b[43mmax\u001b[49m\u001b[43m(\u001b[49m\u001b[38;5;241;43m1\u001b[39;49m\u001b[43m)\u001b[49m\n",
      "\u001b[0;31mIndexError\u001b[0m: Dimension out of range (expected to be in range of [-1, 0], but got 1)"
     ]
    }
   ],
   "source": [
    "_, predictions = scores.max(1)"
   ]
  },
  {
   "cell_type": "code",
   "execution_count": 26,
   "id": "759cd420",
   "metadata": {},
   "outputs": [
    {
     "data": {
      "text/plain": [
       "tensor([0, 0, 0, 1, 1, 0, 0, 0, 1, 0, 0, 0, 1, 0, 1, 1, 1, 1, 0, 1, 1, 1, 1, 0,\n",
       "        1, 1, 1, 1, 0, 0, 0, 1, 1, 0, 1, 0, 1, 1, 1, 1, 1, 0, 0, 1, 0, 0, 1, 1,\n",
       "        1, 0, 0, 1, 0, 0, 0, 0, 1, 0, 1, 1, 1, 0, 0, 0, 0])"
      ]
     },
     "execution_count": 26,
     "metadata": {},
     "output_type": "execute_result"
    }
   ],
   "source": [
    "scores"
   ]
  },
  {
   "cell_type": "code",
   "execution_count": null,
   "id": "92d88250",
   "metadata": {},
   "outputs": [],
   "source": [
    "predictions"
   ]
  },
  {
   "cell_type": "code",
   "execution_count": null,
   "id": "0f409af7",
   "metadata": {},
   "outputs": [],
   "source": [
    "(predictions == y).sum()"
   ]
  },
  {
   "cell_type": "code",
   "execution_count": null,
   "id": "d993a608",
   "metadata": {},
   "outputs": [],
   "source": [
    "100 - 100*float((predictions==y).sum())/float(y.size(0))"
   ]
  }
 ],
 "metadata": {
  "kernelspec": {
   "display_name": "slow-feature-learning",
   "language": "python",
   "name": "slow-feature-learning"
  },
  "language_info": {
   "codemirror_mode": {
    "name": "ipython",
    "version": 3
   },
   "file_extension": ".py",
   "mimetype": "text/x-python",
   "name": "python",
   "nbconvert_exporter": "python",
   "pygments_lexer": "ipython3",
   "version": "3.9.7"
  }
 },
 "nbformat": 4,
 "nbformat_minor": 5
}
