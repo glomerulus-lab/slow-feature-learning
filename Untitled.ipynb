{
 "cells": [
  {
   "cell_type": "code",
   "execution_count": 1,
   "id": "964c9bc9",
   "metadata": {},
   "outputs": [],
   "source": [
    "import torch.nn as nn   # Nueral network modules.\n",
    "from collections import OrderedDict\n",
    "import torch  # Base torch library\n",
    "from torch.utils.data import DataLoader  # Minibathces\n",
    "import torchvision.datasets as datasets  # MNIST dataset\n",
    "import torchvision.transforms as transforms\n",
    "import numpy as np\n",
    "from network_functions import *\n",
    "from network import *\n",
    "import torch.nn as nn  # Neural network modules\n",
    "import torch.optim as optim  # Optimization algorithms\n",
    "import pandas as pd"
   ]
  },
  {
   "cell_type": "markdown",
   "id": "8950ed57",
   "metadata": {},
   "source": [
    "Nueral Network Class"
   ]
  },
  {
   "cell_type": "code",
   "execution_count": 2,
   "id": "e71c8ba0",
   "metadata": {},
   "outputs": [],
   "source": [
    "class NN(nn.Module):\n",
    "\n",
    "    def __init__(self, input_size, middle_width, num_classes):\n",
    "\n",
    "\n",
    "        super(NN, self).__init__()\n",
    "        self.features = nn.Sequential(OrderedDict([\n",
    "            ('hidden_layer', nn.Linear(input_size, middle_width)),\n",
    "            ('hidden_activation', nn.ReLU()),\n",
    "            ('readout', nn.Linear(middle_width, num_classes))\n",
    "        ]))\n",
    "\n",
    "    def forward(self, x):\n",
    "        x = self.features(x)\n",
    "\n",
    "        return x"
   ]
  },
  {
   "cell_type": "markdown",
   "id": "0ff155a3",
   "metadata": {},
   "source": [
    "Helper Functions"
   ]
  },
  {
   "cell_type": "code",
   "execution_count": 3,
   "id": "06c21774",
   "metadata": {},
   "outputs": [],
   "source": [
    "def set_device():\n",
    "    device = torch.device('cuda' if torch.cuda.is_available() else 'cpu')\n",
    "    return device\n",
    "\n",
    "\n",
    "def mnist_dataset(batch_size, train=True, values=list(range(10))):\n",
    "    # Initializing MNIST data set.\n",
    "    dataset = datasets.MNIST(root='dataset/', train=train, transform=transforms.ToTensor(), download=True)\n",
    "\n",
    "    targets_list = dataset.targets.tolist()\n",
    "    values_index = [i for i in range(len(dataset)) if targets_list[i] in values]\n",
    "\n",
    "    # Creating a subset of ### MNIST targets.\n",
    "    subset = torch.utils.data.Subset(dataset, values_index)\n",
    "    loader = DataLoader(dataset=subset, batch_size=batch_size, shuffle=True)\n",
    "\n",
    "    return loader\n",
    "\n",
    "\n",
    "def train(loader, device, model, loss_function, optimizer_function, values=list(range(10))):\n",
    "    # Training on each data point.\n",
    "    for batch_idx, (data, targets) in enumerate(loader):\n",
    "        data = data.reshape(data.shape[0], -1).to(device=device)\n",
    "        targets = targets.to(device=device)\n",
    "\n",
    "        # Forwards.\n",
    "        scores = model(data)\n",
    "        loss = loss_function(scores, classify_targets(targets, values))\n",
    "\n",
    "        # Backwards.\n",
    "        optimizer_function.zero_grad()\n",
    "        loss.backward()\n",
    "\n",
    "        optimizer_function.step()\n",
    "\n",
    "\n",
    "def record_accuracy(device, model, train_loader, test_loader, epoch):\n",
    "    epoch_accuracy = np.array([[\n",
    "        epoch + 1,\n",
    "        check_accuracy(device, model, train_loader),\n",
    "        check_accuracy(device, model, test_loader)\n",
    "    ]])\n",
    "\n",
    "    return epoch_accuracy\n",
    "\n",
    "\n",
    "def check_accuracy(device, model, loader):\n",
    "    num_correct = 0\n",
    "    num_samples = 0\n",
    "    model.eval()\n",
    "\n",
    "    with torch.no_grad():\n",
    "        for x, y in loader:\n",
    "            x = x.to(device=device)\n",
    "            y = y.to(device=device)\n",
    "            x = x.reshape(x.shape[0], -1)\n",
    "\n",
    "            scores = model(x)\n",
    "            # 64images x 10,\n",
    "\n",
    "            _, predictions = scores.max(1)\n",
    "            num_correct += (predictions == y).sum()\n",
    "            num_samples += predictions.size(0)\n",
    "\n",
    "    return 100 - float(num_correct) / float(num_samples) * 100\n",
    "\n",
    "\n",
    "def classify_targets(targets, values):\n",
    "    new_targets = targets.clone()\n",
    "\n",
    "    # Changing targets to a classifiable number.\n",
    "    for key, element in enumerate(values):\n",
    "        new_targets[new_targets == element] = key\n",
    "    return new_targets"
   ]
  },
  {
   "cell_type": "markdown",
   "id": "9f9a8121",
   "metadata": {},
   "source": [
    "Setting Device"
   ]
  },
  {
   "cell_type": "code",
   "execution_count": 4,
   "id": "22d5992c",
   "metadata": {},
   "outputs": [],
   "source": [
    "device = set_device()"
   ]
  },
  {
   "cell_type": "markdown",
   "id": "981b23d5",
   "metadata": {},
   "source": [
    "Hyper Params"
   ]
  },
  {
   "cell_type": "code",
   "execution_count": 5,
   "id": "cc186c5e",
   "metadata": {},
   "outputs": [],
   "source": [
    "hp = {\n",
    "        \"Input Size\": 784,\n",
    "        \"Middle Layer Width\": 2000,\n",
    "        \"Num Classes\": 2,\n",
    "        \"Regular Learning Rate\": 0.1,\n",
    "        \"Slow Learning Rate\": 0.01,\n",
    "        \"Batch Size\": 100,\n",
    "        \"Epochs\": 100\n",
    "    }"
   ]
  },
  {
   "cell_type": "markdown",
   "id": "a0b148b8",
   "metadata": {},
   "source": [
    "Initializing Models"
   ]
  },
  {
   "cell_type": "code",
   "execution_count": 6,
   "id": "dbea2ada",
   "metadata": {},
   "outputs": [],
   "source": [
    "slow_model = NN(input_size=hp[\"Input Size\"],\n",
    "                    middle_width=hp[\"Middle Layer Width\"],\n",
    "                    num_classes=hp[\"Num Classes\"]).to(device=device)\n",
    "\n",
    "reg_model = NN(input_size=hp[\"Input Size\"],\n",
    "                   middle_width=hp[\"Middle Layer Width\"],\n",
    "                   num_classes=hp[\"Num Classes\"]).to(device=device)"
   ]
  },
  {
   "cell_type": "markdown",
   "id": "223c0fef",
   "metadata": {},
   "source": [
    "Loading MNIST"
   ]
  },
  {
   "cell_type": "code",
   "execution_count": 7,
   "id": "988929ad",
   "metadata": {},
   "outputs": [
    {
     "name": "stdout",
     "output_type": "stream",
     "text": [
      "MNIST digits [0, 1]\n"
     ]
    }
   ],
   "source": [
    "mnist_values = [0, 1]\n",
    "print(f\"MNIST digits {mnist_values}\")\n",
    "train_loader = mnist_dataset(hp[\"Batch Size\"], values=mnist_values)\n",
    "validate_loader = mnist_dataset(hp[\"Batch Size\"], train=False, values=mnist_values)"
   ]
  },
  {
   "cell_type": "markdown",
   "id": "611ff8f7",
   "metadata": {},
   "source": [
    "Loss Function"
   ]
  },
  {
   "cell_type": "code",
   "execution_count": 8,
   "id": "3994603f",
   "metadata": {},
   "outputs": [],
   "source": [
    "loss_function = nn.CrossEntropyLoss()"
   ]
  },
  {
   "cell_type": "markdown",
   "id": "db9eb4ee",
   "metadata": {},
   "source": [
    "Optimizers"
   ]
  },
  {
   "cell_type": "code",
   "execution_count": 9,
   "id": "e82a7651",
   "metadata": {},
   "outputs": [],
   "source": [
    "sl_optimizer = optim.SGD([{'params': slow_model.features.hidden_layer.parameters()},\n",
    "                          {'params': slow_model.features.readout.parameters(),\n",
    "                           'lr': hp[\"Regular Learning Rate\"]}],\n",
    "                         lr=hp[\"Slow Learning Rate\"])\n",
    "r_optimizer = optim.SGD(reg_model.parameters(), lr=hp[\"Regular Learning Rate\"])"
   ]
  },
  {
   "cell_type": "markdown",
   "id": "f3d5cf02",
   "metadata": {},
   "source": [
    "Creating Empty Arrays For Storing Accuracy Metrics"
   ]
  },
  {
   "cell_type": "code",
   "execution_count": 10,
   "id": "75ce6fae",
   "metadata": {},
   "outputs": [],
   "source": [
    "slow_accuracy = np.zeros((1, 3))\n",
    "regular_accuracy = np.zeros((1, 3))"
   ]
  },
  {
   "cell_type": "markdown",
   "id": "4df401b1",
   "metadata": {},
   "source": [
    "Training"
   ]
  },
  {
   "cell_type": "code",
   "execution_count": 11,
   "id": "08059b80",
   "metadata": {},
   "outputs": [
    {
     "name": "stdout",
     "output_type": "stream",
     "text": [
      "[[1.         0.23687327 0.14184397]]\n",
      "[[1.         0.21318595 0.09456265]]\n",
      "-Finished epoch 1/100\n",
      "[[2.         0.21318595 0.09456265]]\n",
      "[[2.         0.15791552 0.09456265]]\n",
      "-Finished epoch 2/100\n",
      "[[3.         0.18160284 0.09456265]]\n",
      "[[3.         0.11843664 0.09456265]]\n",
      "-Finished epoch 3/100\n",
      "[[4.         0.15001974 0.04728132]]\n",
      "[[4.         0.11054086 0.04728132]]\n",
      "-Finished epoch 4/100\n",
      "[[5.         0.14212396 0.04728132]]\n",
      "[[5.         0.11054086 0.04728132]]\n",
      "-Finished epoch 5/100\n",
      "[[6.         0.13422819 0.04728132]]\n",
      "[[6.         0.11843664 0.04728132]]\n",
      "-Finished epoch 6/100\n",
      "[[7.         0.13422819 0.04728132]]\n",
      "[[7.         0.08685353 0.04728132]]\n",
      "-Finished epoch 7/100\n",
      "[[8.         0.13422819 0.04728132]]\n",
      "[[8.         0.08685353 0.04728132]]\n",
      "-Finished epoch 8/100\n",
      "[[9.         0.12633241 0.04728132]]\n",
      "[[9.         0.07106198 0.04728132]]\n",
      "-Finished epoch 9/100\n",
      "[[10.          0.11054086  0.04728132]]\n",
      "[[10.          0.06316621  0.04728132]]\n",
      "-Finished epoch 10/100\n",
      "[[11.          0.10264508  0.04728132]]\n",
      "[[11.          0.06316621  0.04728132]]\n",
      "-Finished epoch 11/100\n",
      "[[12.          0.10264508  0.04728132]]\n",
      "[[12.          0.05527043  0.04728132]]\n",
      "-Finished epoch 12/100\n",
      "[[13.          0.10264508  0.04728132]]\n",
      "[[13.          0.05527043  0.04728132]]\n",
      "-Finished epoch 13/100\n",
      "[[14.          0.10264508  0.04728132]]\n",
      "[[14.          0.04737465  0.04728132]]\n",
      "-Finished epoch 14/100\n",
      "[[15.          0.10264508  0.04728132]]\n",
      "[[15.          0.04737465  0.04728132]]\n",
      "-Finished epoch 15/100\n",
      "[[16.          0.10264508  0.04728132]]\n",
      "[[16.          0.05527043  0.04728132]]\n",
      "-Finished epoch 16/100\n",
      "[[17.          0.09474931  0.04728132]]\n",
      "[[17.          0.04737465  0.04728132]]\n",
      "-Finished epoch 17/100\n",
      "[[18.          0.09474931  0.04728132]]\n",
      "[[18.          0.04737465  0.04728132]]\n",
      "-Finished epoch 18/100\n",
      "[[19.          0.09474931  0.04728132]]\n",
      "[[19.          0.04737465  0.04728132]]\n",
      "-Finished epoch 19/100\n",
      "[[20.          0.09474931  0.04728132]]\n",
      "[[20.          0.02368733  0.04728132]]\n",
      "-Finished epoch 20/100\n",
      "[[21.          0.09474931  0.04728132]]\n",
      "[[21.          0.03947888  0.04728132]]\n",
      "-Finished epoch 21/100\n",
      "[[22.          0.09474931  0.04728132]]\n",
      "[[22.          0.03947888  0.04728132]]\n",
      "-Finished epoch 22/100\n",
      "[[23.          0.08685353  0.04728132]]\n",
      "[[23.          0.0315831   0.04728132]]\n",
      "-Finished epoch 23/100\n",
      "[[24.          0.07895776  0.04728132]]\n",
      "[[2.40000000e+01 1.57915515e-02 4.72813239e-02]]\n",
      "-Finished epoch 24/100\n",
      "[[25.          0.07106198  0.04728132]]\n",
      "[[25.          0.0315831   0.04728132]]\n",
      "-Finished epoch 25/100\n",
      "[[26.          0.06316621  0.04728132]]\n",
      "[[2.60000000e+01 2.36873273e-02 4.72813239e-02]]\n",
      "-Finished epoch 26/100\n",
      "[[27.          0.06316621  0.04728132]]\n",
      "[[2.70000000e+01 7.89577576e-03 4.72813239e-02]]\n",
      "-Finished epoch 27/100\n",
      "[[28.          0.06316621  0.04728132]]\n",
      "[[2.80000000e+01 7.89577576e-03 4.72813239e-02]]\n",
      "-Finished epoch 28/100\n",
      "[[29.          0.05527043  0.04728132]]\n",
      "[[2.90000000e+01 2.36873273e-02 4.72813239e-02]]\n",
      "-Finished epoch 29/100\n",
      "[[30.          0.05527043  0.04728132]]\n",
      "[[3.00000000e+01 7.89577576e-03 4.72813239e-02]]\n",
      "-Finished epoch 30/100\n",
      "[[31.          0.05527043  0.04728132]]\n",
      "[[3.10000000e+01 7.89577576e-03 4.72813239e-02]]\n",
      "-Finished epoch 31/100\n",
      "[[32.          0.05527043  0.04728132]]\n",
      "[[3.20000000e+01 7.89577576e-03 4.72813239e-02]]\n",
      "-Finished epoch 32/100\n",
      "[[33.          0.04737465  0.04728132]]\n",
      "[[3.30000000e+01 7.89577576e-03 4.72813239e-02]]\n",
      "-Finished epoch 33/100\n",
      "[[34.          0.05527043  0.04728132]]\n",
      "[[3.40000000e+01 7.89577576e-03 4.72813239e-02]]\n",
      "-Finished epoch 34/100\n",
      "[[35.          0.04737465  0.04728132]]\n",
      "[[3.50000000e+01 7.89577576e-03 4.72813239e-02]]\n",
      "-Finished epoch 35/100\n",
      "[[36.          0.04737465  0.04728132]]\n",
      "[[3.60000000e+01 7.89577576e-03 4.72813239e-02]]\n",
      "-Finished epoch 36/100\n",
      "[[37.          0.04737465  0.04728132]]\n",
      "[[3.70000000e+01 7.89577576e-03 4.72813239e-02]]\n",
      "-Finished epoch 37/100\n",
      "[[38.          0.04737465  0.04728132]]\n",
      "[[3.80000000e+01 7.89577576e-03 4.72813239e-02]]\n",
      "-Finished epoch 38/100\n",
      "[[39.          0.04737465  0.04728132]]\n",
      "[[3.90000000e+01 7.89577576e-03 4.72813239e-02]]\n",
      "-Finished epoch 39/100\n"
     ]
    },
    {
     "ename": "KeyboardInterrupt",
     "evalue": "",
     "output_type": "error",
     "traceback": [
      "\u001b[0;31m---------------------------------------------------------------------------\u001b[0m",
      "\u001b[0;31mKeyboardInterrupt\u001b[0m                         Traceback (most recent call last)",
      "Input \u001b[0;32mIn [11]\u001b[0m, in \u001b[0;36m<cell line: 1>\u001b[0;34m()\u001b[0m\n\u001b[1;32m      1\u001b[0m \u001b[38;5;28;01mfor\u001b[39;00m epoch \u001b[38;5;129;01min\u001b[39;00m \u001b[38;5;28mrange\u001b[39m(hp[\u001b[38;5;124m\"\u001b[39m\u001b[38;5;124mEpochs\u001b[39m\u001b[38;5;124m\"\u001b[39m]):\n\u001b[1;32m      2\u001b[0m \n\u001b[1;32m      3\u001b[0m     \u001b[38;5;66;03m# Slow Model\u001b[39;00m\n\u001b[0;32m----> 4\u001b[0m     \u001b[43mtrain\u001b[49m\u001b[43m(\u001b[49m\u001b[43mtrain_loader\u001b[49m\u001b[43m,\u001b[49m\u001b[43m \u001b[49m\u001b[43mdevice\u001b[49m\u001b[43m,\u001b[49m\u001b[43m \u001b[49m\u001b[43mslow_model\u001b[49m\u001b[43m,\u001b[49m\u001b[43m \u001b[49m\u001b[43mloss_function\u001b[49m\u001b[43m,\u001b[49m\u001b[43m \u001b[49m\u001b[43msl_optimizer\u001b[49m\u001b[43m,\u001b[49m\u001b[43m \u001b[49m\u001b[43mvalues\u001b[49m\u001b[38;5;241;43m=\u001b[39;49m\u001b[43mmnist_values\u001b[49m\u001b[43m)\u001b[49m\n\u001b[1;32m      5\u001b[0m     slow_accuracy_epoch \u001b[38;5;241m=\u001b[39m record_accuracy(device, slow_model, train_loader, validate_loader, epoch)\n\u001b[1;32m      6\u001b[0m     \u001b[38;5;28mprint\u001b[39m(slow_accuracy_epoch)\n",
      "Input \u001b[0;32mIn [3]\u001b[0m, in \u001b[0;36mtrain\u001b[0;34m(loader, device, model, loss_function, optimizer_function, values)\u001b[0m\n\u001b[1;32m     20\u001b[0m \u001b[38;5;28;01mdef\u001b[39;00m \u001b[38;5;21mtrain\u001b[39m(loader, device, model, loss_function, optimizer_function, values\u001b[38;5;241m=\u001b[39m\u001b[38;5;28mlist\u001b[39m(\u001b[38;5;28mrange\u001b[39m(\u001b[38;5;241m10\u001b[39m))):\n\u001b[1;32m     21\u001b[0m     \u001b[38;5;66;03m# Training on each data point.\u001b[39;00m\n\u001b[0;32m---> 22\u001b[0m     \u001b[38;5;28;01mfor\u001b[39;00m batch_idx, (data, targets) \u001b[38;5;129;01min\u001b[39;00m \u001b[38;5;28menumerate\u001b[39m(loader):\n\u001b[1;32m     23\u001b[0m         data \u001b[38;5;241m=\u001b[39m data\u001b[38;5;241m.\u001b[39mreshape(data\u001b[38;5;241m.\u001b[39mshape[\u001b[38;5;241m0\u001b[39m], \u001b[38;5;241m-\u001b[39m\u001b[38;5;241m1\u001b[39m)\u001b[38;5;241m.\u001b[39mto(device\u001b[38;5;241m=\u001b[39mdevice)\n\u001b[1;32m     24\u001b[0m         targets \u001b[38;5;241m=\u001b[39m targets\u001b[38;5;241m.\u001b[39mto(device\u001b[38;5;241m=\u001b[39mdevice)\n",
      "File \u001b[0;32m~/anaconda3/envs/slow-feature-learning/lib/python3.9/site-packages/torch/utils/data/dataloader.py:521\u001b[0m, in \u001b[0;36m_BaseDataLoaderIter.__next__\u001b[0;34m(self)\u001b[0m\n\u001b[1;32m    519\u001b[0m \u001b[38;5;28;01mif\u001b[39;00m \u001b[38;5;28mself\u001b[39m\u001b[38;5;241m.\u001b[39m_sampler_iter \u001b[38;5;129;01mis\u001b[39;00m \u001b[38;5;28;01mNone\u001b[39;00m:\n\u001b[1;32m    520\u001b[0m     \u001b[38;5;28mself\u001b[39m\u001b[38;5;241m.\u001b[39m_reset()\n\u001b[0;32m--> 521\u001b[0m data \u001b[38;5;241m=\u001b[39m \u001b[38;5;28;43mself\u001b[39;49m\u001b[38;5;241;43m.\u001b[39;49m\u001b[43m_next_data\u001b[49m\u001b[43m(\u001b[49m\u001b[43m)\u001b[49m\n\u001b[1;32m    522\u001b[0m \u001b[38;5;28mself\u001b[39m\u001b[38;5;241m.\u001b[39m_num_yielded \u001b[38;5;241m+\u001b[39m\u001b[38;5;241m=\u001b[39m \u001b[38;5;241m1\u001b[39m\n\u001b[1;32m    523\u001b[0m \u001b[38;5;28;01mif\u001b[39;00m \u001b[38;5;28mself\u001b[39m\u001b[38;5;241m.\u001b[39m_dataset_kind \u001b[38;5;241m==\u001b[39m _DatasetKind\u001b[38;5;241m.\u001b[39mIterable \u001b[38;5;129;01mand\u001b[39;00m \\\n\u001b[1;32m    524\u001b[0m         \u001b[38;5;28mself\u001b[39m\u001b[38;5;241m.\u001b[39m_IterableDataset_len_called \u001b[38;5;129;01mis\u001b[39;00m \u001b[38;5;129;01mnot\u001b[39;00m \u001b[38;5;28;01mNone\u001b[39;00m \u001b[38;5;129;01mand\u001b[39;00m \\\n\u001b[1;32m    525\u001b[0m         \u001b[38;5;28mself\u001b[39m\u001b[38;5;241m.\u001b[39m_num_yielded \u001b[38;5;241m>\u001b[39m \u001b[38;5;28mself\u001b[39m\u001b[38;5;241m.\u001b[39m_IterableDataset_len_called:\n",
      "File \u001b[0;32m~/anaconda3/envs/slow-feature-learning/lib/python3.9/site-packages/torch/utils/data/dataloader.py:561\u001b[0m, in \u001b[0;36m_SingleProcessDataLoaderIter._next_data\u001b[0;34m(self)\u001b[0m\n\u001b[1;32m    559\u001b[0m \u001b[38;5;28;01mdef\u001b[39;00m \u001b[38;5;21m_next_data\u001b[39m(\u001b[38;5;28mself\u001b[39m):\n\u001b[1;32m    560\u001b[0m     index \u001b[38;5;241m=\u001b[39m \u001b[38;5;28mself\u001b[39m\u001b[38;5;241m.\u001b[39m_next_index()  \u001b[38;5;66;03m# may raise StopIteration\u001b[39;00m\n\u001b[0;32m--> 561\u001b[0m     data \u001b[38;5;241m=\u001b[39m \u001b[38;5;28;43mself\u001b[39;49m\u001b[38;5;241;43m.\u001b[39;49m\u001b[43m_dataset_fetcher\u001b[49m\u001b[38;5;241;43m.\u001b[39;49m\u001b[43mfetch\u001b[49m\u001b[43m(\u001b[49m\u001b[43mindex\u001b[49m\u001b[43m)\u001b[49m  \u001b[38;5;66;03m# may raise StopIteration\u001b[39;00m\n\u001b[1;32m    562\u001b[0m     \u001b[38;5;28;01mif\u001b[39;00m \u001b[38;5;28mself\u001b[39m\u001b[38;5;241m.\u001b[39m_pin_memory:\n\u001b[1;32m    563\u001b[0m         data \u001b[38;5;241m=\u001b[39m _utils\u001b[38;5;241m.\u001b[39mpin_memory\u001b[38;5;241m.\u001b[39mpin_memory(data)\n",
      "File \u001b[0;32m~/anaconda3/envs/slow-feature-learning/lib/python3.9/site-packages/torch/utils/data/_utils/fetch.py:49\u001b[0m, in \u001b[0;36m_MapDatasetFetcher.fetch\u001b[0;34m(self, possibly_batched_index)\u001b[0m\n\u001b[1;32m     47\u001b[0m \u001b[38;5;28;01mdef\u001b[39;00m \u001b[38;5;21mfetch\u001b[39m(\u001b[38;5;28mself\u001b[39m, possibly_batched_index):\n\u001b[1;32m     48\u001b[0m     \u001b[38;5;28;01mif\u001b[39;00m \u001b[38;5;28mself\u001b[39m\u001b[38;5;241m.\u001b[39mauto_collation:\n\u001b[0;32m---> 49\u001b[0m         data \u001b[38;5;241m=\u001b[39m [\u001b[38;5;28mself\u001b[39m\u001b[38;5;241m.\u001b[39mdataset[idx] \u001b[38;5;28;01mfor\u001b[39;00m idx \u001b[38;5;129;01min\u001b[39;00m possibly_batched_index]\n\u001b[1;32m     50\u001b[0m     \u001b[38;5;28;01melse\u001b[39;00m:\n\u001b[1;32m     51\u001b[0m         data \u001b[38;5;241m=\u001b[39m \u001b[38;5;28mself\u001b[39m\u001b[38;5;241m.\u001b[39mdataset[possibly_batched_index]\n",
      "File \u001b[0;32m~/anaconda3/envs/slow-feature-learning/lib/python3.9/site-packages/torch/utils/data/_utils/fetch.py:49\u001b[0m, in \u001b[0;36m<listcomp>\u001b[0;34m(.0)\u001b[0m\n\u001b[1;32m     47\u001b[0m \u001b[38;5;28;01mdef\u001b[39;00m \u001b[38;5;21mfetch\u001b[39m(\u001b[38;5;28mself\u001b[39m, possibly_batched_index):\n\u001b[1;32m     48\u001b[0m     \u001b[38;5;28;01mif\u001b[39;00m \u001b[38;5;28mself\u001b[39m\u001b[38;5;241m.\u001b[39mauto_collation:\n\u001b[0;32m---> 49\u001b[0m         data \u001b[38;5;241m=\u001b[39m [\u001b[38;5;28;43mself\u001b[39;49m\u001b[38;5;241;43m.\u001b[39;49m\u001b[43mdataset\u001b[49m\u001b[43m[\u001b[49m\u001b[43midx\u001b[49m\u001b[43m]\u001b[49m \u001b[38;5;28;01mfor\u001b[39;00m idx \u001b[38;5;129;01min\u001b[39;00m possibly_batched_index]\n\u001b[1;32m     50\u001b[0m     \u001b[38;5;28;01melse\u001b[39;00m:\n\u001b[1;32m     51\u001b[0m         data \u001b[38;5;241m=\u001b[39m \u001b[38;5;28mself\u001b[39m\u001b[38;5;241m.\u001b[39mdataset[possibly_batched_index]\n",
      "File \u001b[0;32m~/anaconda3/envs/slow-feature-learning/lib/python3.9/site-packages/torch/utils/data/dataset.py:363\u001b[0m, in \u001b[0;36mSubset.__getitem__\u001b[0;34m(self, idx)\u001b[0m\n\u001b[1;32m    361\u001b[0m \u001b[38;5;28;01mif\u001b[39;00m \u001b[38;5;28misinstance\u001b[39m(idx, \u001b[38;5;28mlist\u001b[39m):\n\u001b[1;32m    362\u001b[0m     \u001b[38;5;28;01mreturn\u001b[39;00m \u001b[38;5;28mself\u001b[39m\u001b[38;5;241m.\u001b[39mdataset[[\u001b[38;5;28mself\u001b[39m\u001b[38;5;241m.\u001b[39mindices[i] \u001b[38;5;28;01mfor\u001b[39;00m i \u001b[38;5;129;01min\u001b[39;00m idx]]\n\u001b[0;32m--> 363\u001b[0m \u001b[38;5;28;01mreturn\u001b[39;00m \u001b[38;5;28;43mself\u001b[39;49m\u001b[38;5;241;43m.\u001b[39;49m\u001b[43mdataset\u001b[49m\u001b[43m[\u001b[49m\u001b[38;5;28;43mself\u001b[39;49m\u001b[38;5;241;43m.\u001b[39;49m\u001b[43mindices\u001b[49m\u001b[43m[\u001b[49m\u001b[43midx\u001b[49m\u001b[43m]\u001b[49m\u001b[43m]\u001b[49m\n",
      "File \u001b[0;32m~/anaconda3/envs/slow-feature-learning/lib/python3.9/site-packages/torchvision/datasets/mnist.py:134\u001b[0m, in \u001b[0;36mMNIST.__getitem__\u001b[0;34m(self, index)\u001b[0m\n\u001b[1;32m    131\u001b[0m img \u001b[38;5;241m=\u001b[39m Image\u001b[38;5;241m.\u001b[39mfromarray(img\u001b[38;5;241m.\u001b[39mnumpy(), mode\u001b[38;5;241m=\u001b[39m\u001b[38;5;124m'\u001b[39m\u001b[38;5;124mL\u001b[39m\u001b[38;5;124m'\u001b[39m)\n\u001b[1;32m    133\u001b[0m \u001b[38;5;28;01mif\u001b[39;00m \u001b[38;5;28mself\u001b[39m\u001b[38;5;241m.\u001b[39mtransform \u001b[38;5;129;01mis\u001b[39;00m \u001b[38;5;129;01mnot\u001b[39;00m \u001b[38;5;28;01mNone\u001b[39;00m:\n\u001b[0;32m--> 134\u001b[0m     img \u001b[38;5;241m=\u001b[39m \u001b[38;5;28;43mself\u001b[39;49m\u001b[38;5;241;43m.\u001b[39;49m\u001b[43mtransform\u001b[49m\u001b[43m(\u001b[49m\u001b[43mimg\u001b[49m\u001b[43m)\u001b[49m\n\u001b[1;32m    136\u001b[0m \u001b[38;5;28;01mif\u001b[39;00m \u001b[38;5;28mself\u001b[39m\u001b[38;5;241m.\u001b[39mtarget_transform \u001b[38;5;129;01mis\u001b[39;00m \u001b[38;5;129;01mnot\u001b[39;00m \u001b[38;5;28;01mNone\u001b[39;00m:\n\u001b[1;32m    137\u001b[0m     target \u001b[38;5;241m=\u001b[39m \u001b[38;5;28mself\u001b[39m\u001b[38;5;241m.\u001b[39mtarget_transform(target)\n",
      "File \u001b[0;32m~/anaconda3/envs/slow-feature-learning/lib/python3.9/site-packages/torchvision/transforms/transforms.py:98\u001b[0m, in \u001b[0;36mToTensor.__call__\u001b[0;34m(self, pic)\u001b[0m\n\u001b[1;32m     90\u001b[0m \u001b[38;5;28;01mdef\u001b[39;00m \u001b[38;5;21m__call__\u001b[39m(\u001b[38;5;28mself\u001b[39m, pic):\n\u001b[1;32m     91\u001b[0m     \u001b[38;5;124;03m\"\"\"\u001b[39;00m\n\u001b[1;32m     92\u001b[0m \u001b[38;5;124;03m    Args:\u001b[39;00m\n\u001b[1;32m     93\u001b[0m \u001b[38;5;124;03m        pic (PIL Image or numpy.ndarray): Image to be converted to tensor.\u001b[39;00m\n\u001b[0;32m   (...)\u001b[0m\n\u001b[1;32m     96\u001b[0m \u001b[38;5;124;03m        Tensor: Converted image.\u001b[39;00m\n\u001b[1;32m     97\u001b[0m \u001b[38;5;124;03m    \"\"\"\u001b[39;00m\n\u001b[0;32m---> 98\u001b[0m     \u001b[38;5;28;01mreturn\u001b[39;00m \u001b[43mF\u001b[49m\u001b[38;5;241;43m.\u001b[39;49m\u001b[43mto_tensor\u001b[49m\u001b[43m(\u001b[49m\u001b[43mpic\u001b[49m\u001b[43m)\u001b[49m\n",
      "File \u001b[0;32m~/anaconda3/envs/slow-feature-learning/lib/python3.9/site-packages/torchvision/transforms/functional.py:141\u001b[0m, in \u001b[0;36mto_tensor\u001b[0;34m(pic)\u001b[0m\n\u001b[1;32m    138\u001b[0m \u001b[38;5;66;03m# handle PIL Image\u001b[39;00m\n\u001b[1;32m    139\u001b[0m mode_to_nptype \u001b[38;5;241m=\u001b[39m {\u001b[38;5;124m'\u001b[39m\u001b[38;5;124mI\u001b[39m\u001b[38;5;124m'\u001b[39m: np\u001b[38;5;241m.\u001b[39mint32, \u001b[38;5;124m'\u001b[39m\u001b[38;5;124mI;16\u001b[39m\u001b[38;5;124m'\u001b[39m: np\u001b[38;5;241m.\u001b[39mint16, \u001b[38;5;124m'\u001b[39m\u001b[38;5;124mF\u001b[39m\u001b[38;5;124m'\u001b[39m: np\u001b[38;5;241m.\u001b[39mfloat32}\n\u001b[1;32m    140\u001b[0m img \u001b[38;5;241m=\u001b[39m torch\u001b[38;5;241m.\u001b[39mfrom_numpy(\n\u001b[0;32m--> 141\u001b[0m     \u001b[43mnp\u001b[49m\u001b[38;5;241;43m.\u001b[39;49m\u001b[43marray\u001b[49m\u001b[43m(\u001b[49m\u001b[43mpic\u001b[49m\u001b[43m,\u001b[49m\u001b[43m \u001b[49m\u001b[43mmode_to_nptype\u001b[49m\u001b[38;5;241;43m.\u001b[39;49m\u001b[43mget\u001b[49m\u001b[43m(\u001b[49m\u001b[43mpic\u001b[49m\u001b[38;5;241;43m.\u001b[39;49m\u001b[43mmode\u001b[49m\u001b[43m,\u001b[49m\u001b[43m \u001b[49m\u001b[43mnp\u001b[49m\u001b[38;5;241;43m.\u001b[39;49m\u001b[43muint8\u001b[49m\u001b[43m)\u001b[49m\u001b[43m,\u001b[49m\u001b[43m \u001b[49m\u001b[43mcopy\u001b[49m\u001b[38;5;241;43m=\u001b[39;49m\u001b[38;5;28;43;01mTrue\u001b[39;49;00m\u001b[43m)\u001b[49m\n\u001b[1;32m    142\u001b[0m )\n\u001b[1;32m    144\u001b[0m \u001b[38;5;28;01mif\u001b[39;00m pic\u001b[38;5;241m.\u001b[39mmode \u001b[38;5;241m==\u001b[39m \u001b[38;5;124m'\u001b[39m\u001b[38;5;124m1\u001b[39m\u001b[38;5;124m'\u001b[39m:\n\u001b[1;32m    145\u001b[0m     img \u001b[38;5;241m=\u001b[39m \u001b[38;5;241m255\u001b[39m \u001b[38;5;241m*\u001b[39m img\n",
      "File \u001b[0;32m~/anaconda3/envs/slow-feature-learning/lib/python3.9/site-packages/PIL/Image.py:537\u001b[0m, in \u001b[0;36mImage.__getattr__\u001b[0;34m(self, name)\u001b[0m\n\u001b[1;32m    534\u001b[0m     \u001b[38;5;28mself\u001b[39m\u001b[38;5;241m.\u001b[39mpyaccess \u001b[38;5;241m=\u001b[39m \u001b[38;5;28;01mNone\u001b[39;00m\n\u001b[1;32m    535\u001b[0m     \u001b[38;5;28mself\u001b[39m\u001b[38;5;241m.\u001b[39m_exif \u001b[38;5;241m=\u001b[39m \u001b[38;5;28;01mNone\u001b[39;00m\n\u001b[0;32m--> 537\u001b[0m \u001b[38;5;28;01mdef\u001b[39;00m \u001b[38;5;21m__getattr__\u001b[39m(\u001b[38;5;28mself\u001b[39m, name):\n\u001b[1;32m    538\u001b[0m     \u001b[38;5;28;01mif\u001b[39;00m name \u001b[38;5;241m==\u001b[39m \u001b[38;5;124m\"\u001b[39m\u001b[38;5;124mcategory\u001b[39m\u001b[38;5;124m\"\u001b[39m:\n\u001b[1;32m    539\u001b[0m         warnings\u001b[38;5;241m.\u001b[39mwarn(\n\u001b[1;32m    540\u001b[0m             \u001b[38;5;124m\"\u001b[39m\u001b[38;5;124mImage categories are deprecated and will be removed in Pillow 10 \u001b[39m\u001b[38;5;124m\"\u001b[39m\n\u001b[1;32m    541\u001b[0m             \u001b[38;5;124m\"\u001b[39m\u001b[38;5;124m(2023-01-02). Use is_animated instead.\u001b[39m\u001b[38;5;124m\"\u001b[39m,\n\u001b[1;32m    542\u001b[0m             \u001b[38;5;167;01mDeprecationWarning\u001b[39;00m,\n\u001b[1;32m    543\u001b[0m             stacklevel\u001b[38;5;241m=\u001b[39m\u001b[38;5;241m2\u001b[39m,\n\u001b[1;32m    544\u001b[0m         )\n",
      "\u001b[0;31mKeyboardInterrupt\u001b[0m: "
     ]
    }
   ],
   "source": [
    "for epoch in range(hp[\"Epochs\"]):\n",
    "\n",
    "    # Slow Model\n",
    "    train(train_loader, device, slow_model, loss_function, sl_optimizer, values=mnist_values)\n",
    "    slow_accuracy_epoch = record_accuracy(device, slow_model, train_loader, validate_loader, epoch)\n",
    "    print(slow_accuracy_epoch)\n",
    "    slow_accuracy = np.concatenate((slow_accuracy, slow_accuracy_epoch))\n",
    "\n",
    "    # Regular Model\n",
    "    train(train_loader, device, reg_model, loss_function, r_optimizer, values=mnist_values)\n",
    "    regular_accuracy_epoch = record_accuracy(device, reg_model, train_loader, validate_loader, epoch)\n",
    "    print(regular_accuracy_epoch)\n",
    "    regular_accuracy = np.concatenate((regular_accuracy, regular_accuracy_epoch))\n",
    "\n",
    "    print(f\"-Finished epoch {epoch + 1}/{hp['Epochs']}\")"
   ]
  },
  {
   "cell_type": "markdown",
   "id": "1914f999",
   "metadata": {},
   "source": [
    "Recording Metrics"
   ]
  },
  {
   "cell_type": "code",
   "execution_count": 12,
   "id": "f6b113ea",
   "metadata": {},
   "outputs": [
    {
     "name": "stdout",
     "output_type": "stream",
     "text": [
      "-Saved accuracy metrics as 'accuracy_metrics'\n"
     ]
    }
   ],
   "source": [
    "complete_array = np.concatenate((slow_accuracy, regular_accuracy), axis=1)\n",
    "complete_dataframe = pd.DataFrame(complete_array).to_csv('accuracy_metrics')\n",
    "print(f\"-Saved accuracy metrics as 'accuracy_metrics'\")"
   ]
  },
  {
   "cell_type": "markdown",
   "id": "bc2402c3",
   "metadata": {},
   "source": [
    "## TESTING"
   ]
  },
  {
   "cell_type": "code",
   "execution_count": 18,
   "id": "66a31db9",
   "metadata": {},
   "outputs": [],
   "source": [
    "loader = mnist_dataset(100, values=[2,7])"
   ]
  },
  {
   "cell_type": "code",
   "execution_count": 19,
   "id": "010c05aa",
   "metadata": {},
   "outputs": [
    {
     "ename": "NameError",
     "evalue": "name 'model' is not defined",
     "output_type": "error",
     "traceback": [
      "\u001b[0;31m---------------------------------------------------------------------------\u001b[0m",
      "\u001b[0;31mNameError\u001b[0m                                 Traceback (most recent call last)",
      "Input \u001b[0;32mIn [19]\u001b[0m, in \u001b[0;36m<cell line: 1>\u001b[0;34m()\u001b[0m\n\u001b[1;32m      2\u001b[0m data \u001b[38;5;241m=\u001b[39m data\u001b[38;5;241m.\u001b[39mreshape(data\u001b[38;5;241m.\u001b[39mshape[\u001b[38;5;241m0\u001b[39m], \u001b[38;5;241m-\u001b[39m\u001b[38;5;241m1\u001b[39m)\u001b[38;5;241m.\u001b[39mto(device\u001b[38;5;241m=\u001b[39mdevice)\n\u001b[1;32m      3\u001b[0m targets \u001b[38;5;241m=\u001b[39m targets\u001b[38;5;241m.\u001b[39mto(device\u001b[38;5;241m=\u001b[39mdevice)\n\u001b[0;32m----> 4\u001b[0m scores \u001b[38;5;241m=\u001b[39m \u001b[43mmodel\u001b[49m(data)\n\u001b[1;32m      5\u001b[0m loss \u001b[38;5;241m=\u001b[39m loss_function(scores, classify(targets, [\u001b[38;5;241m2\u001b[39m, \u001b[38;5;241m7\u001b[39m]))\n",
      "\u001b[0;31mNameError\u001b[0m: name 'model' is not defined"
     ]
    }
   ],
   "source": [
    "for batch_idx, (data, targets) in enumerate(loader):\n",
    "    data = data.reshape(data.shape[0], -1).to(device=device)\n",
    "    targets = targets.to(device=device)\n",
    "    scores = model(data)\n",
    "    loss = loss_function(scores, classify(targets, [2, 7]))"
   ]
  }
 ],
 "metadata": {
  "kernelspec": {
   "display_name": "slow-feature-learning",
   "language": "python",
   "name": "slow-feature-learning"
  },
  "language_info": {
   "codemirror_mode": {
    "name": "ipython",
    "version": 3
   },
   "file_extension": ".py",
   "mimetype": "text/x-python",
   "name": "python",
   "nbconvert_exporter": "python",
   "pygments_lexer": "ipython3",
   "version": "3.9.7"
  }
 },
 "nbformat": 4,
 "nbformat_minor": 5
}
